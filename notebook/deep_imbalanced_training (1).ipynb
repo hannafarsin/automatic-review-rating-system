{
  "cells": [
    {
      "cell_type": "code",
      "execution_count": 1,
      "id": "ae816e17-aa2f-4428-ace1-f8aaaa0c40bc",
      "metadata": {
        "id": "ae816e17-aa2f-4428-ace1-f8aaaa0c40bc"
      },
      "outputs": [],
      "source": [
        "#  Data manipulation & visualization\n",
        "import pandas as pd\n",
        "import matplotlib.pyplot as plt\n",
        "import seaborn as sns\n",
        "\n",
        "from sklearn.model_selection import train_test_split\n",
        "\n",
        "#  NLP libraries: spaCy\n",
        "import spacy\n",
        "nlp = spacy.load(\"en_core_web_sm\", disable=[\"parser\", \"ner\"])\n",
        "\n",
        "sns.set()"
      ]
    },
    {
      "cell_type": "code",
      "execution_count": 2,
      "id": "97698e22-b23d-4aad-b9b1-18547464dcfa",
      "metadata": {
        "id": "97698e22-b23d-4aad-b9b1-18547464dcfa"
      },
      "outputs": [],
      "source": [
        "#!python -m spacy download en_core_web_sm"
      ]
    },
    {
      "cell_type": "code",
      "execution_count": 4,
      "id": "Tty0tY6eEt19",
      "metadata": {
        "id": "Tty0tY6eEt19",
        "colab": {
          "base_uri": "https://localhost:8080/"
        },
        "outputId": "ddcf780a-cbc2-4c25-f39e-5f64308ab01c"
      },
      "outputs": [
        {
          "output_type": "stream",
          "name": "stdout",
          "text": [
            "Mounted at /content/drive\n"
          ]
        }
      ],
      "source": [
        "from google.colab import drive\n",
        "drive.mount('/content/drive')"
      ]
    },
    {
      "cell_type": "code",
      "execution_count": 5,
      "id": "772807e8-2691-481f-bebf-ed04d1def92b",
      "metadata": {
        "id": "772807e8-2691-481f-bebf-ed04d1def92b",
        "colab": {
          "base_uri": "https://localhost:8080/",
          "height": 423
        },
        "outputId": "7364f958-98cb-4f71-e21d-37aede39707b"
      },
      "outputs": [
        {
          "output_type": "execute_result",
          "data": {
            "text/plain": [
              "                                             review_text  Rating  \\\n",
              "0      great tasting and the added benefit is the fib...       4   \n",
              "1      100 bags of oolong tea for this price lets kee...       5   \n",
              "2      they make me tired from having to chew so much...       2   \n",
              "3      great coffee with full rich flavor and satisfy...       4   \n",
              "4      i cannot drive at this time so getting my groc...       5   \n",
              "...                                                  ...     ...   \n",
              "99995  were terribly disappointed this was the second...       1   \n",
              "99996  firm sweet and tasty if you cook it right firm...       4   \n",
              "99997  of course these dont taste as great as the cer...       4   \n",
              "99998  the last shipping i got the tea is so horrible...       1   \n",
              "99999  my husband is a type2 diabetic who enjoys swee...       2   \n",
              "\n",
              "       review_length  \n",
              "0               35.0  \n",
              "1               89.0  \n",
              "2               20.0  \n",
              "3              106.0  \n",
              "4               54.0  \n",
              "...              ...  \n",
              "99995           76.0  \n",
              "99996           55.0  \n",
              "99997           50.0  \n",
              "99998           87.0  \n",
              "99999          157.0  \n",
              "\n",
              "[100000 rows x 3 columns]"
            ],
            "text/html": [
              "\n",
              "  <div id=\"df-a4cda435-285d-43f8-ba84-90a025467f9f\" class=\"colab-df-container\">\n",
              "    <div>\n",
              "<style scoped>\n",
              "    .dataframe tbody tr th:only-of-type {\n",
              "        vertical-align: middle;\n",
              "    }\n",
              "\n",
              "    .dataframe tbody tr th {\n",
              "        vertical-align: top;\n",
              "    }\n",
              "\n",
              "    .dataframe thead th {\n",
              "        text-align: right;\n",
              "    }\n",
              "</style>\n",
              "<table border=\"1\" class=\"dataframe\">\n",
              "  <thead>\n",
              "    <tr style=\"text-align: right;\">\n",
              "      <th></th>\n",
              "      <th>review_text</th>\n",
              "      <th>Rating</th>\n",
              "      <th>review_length</th>\n",
              "    </tr>\n",
              "  </thead>\n",
              "  <tbody>\n",
              "    <tr>\n",
              "      <th>0</th>\n",
              "      <td>great tasting and the added benefit is the fib...</td>\n",
              "      <td>4</td>\n",
              "      <td>35.0</td>\n",
              "    </tr>\n",
              "    <tr>\n",
              "      <th>1</th>\n",
              "      <td>100 bags of oolong tea for this price lets kee...</td>\n",
              "      <td>5</td>\n",
              "      <td>89.0</td>\n",
              "    </tr>\n",
              "    <tr>\n",
              "      <th>2</th>\n",
              "      <td>they make me tired from having to chew so much...</td>\n",
              "      <td>2</td>\n",
              "      <td>20.0</td>\n",
              "    </tr>\n",
              "    <tr>\n",
              "      <th>3</th>\n",
              "      <td>great coffee with full rich flavor and satisfy...</td>\n",
              "      <td>4</td>\n",
              "      <td>106.0</td>\n",
              "    </tr>\n",
              "    <tr>\n",
              "      <th>4</th>\n",
              "      <td>i cannot drive at this time so getting my groc...</td>\n",
              "      <td>5</td>\n",
              "      <td>54.0</td>\n",
              "    </tr>\n",
              "    <tr>\n",
              "      <th>...</th>\n",
              "      <td>...</td>\n",
              "      <td>...</td>\n",
              "      <td>...</td>\n",
              "    </tr>\n",
              "    <tr>\n",
              "      <th>99995</th>\n",
              "      <td>were terribly disappointed this was the second...</td>\n",
              "      <td>1</td>\n",
              "      <td>76.0</td>\n",
              "    </tr>\n",
              "    <tr>\n",
              "      <th>99996</th>\n",
              "      <td>firm sweet and tasty if you cook it right firm...</td>\n",
              "      <td>4</td>\n",
              "      <td>55.0</td>\n",
              "    </tr>\n",
              "    <tr>\n",
              "      <th>99997</th>\n",
              "      <td>of course these dont taste as great as the cer...</td>\n",
              "      <td>4</td>\n",
              "      <td>50.0</td>\n",
              "    </tr>\n",
              "    <tr>\n",
              "      <th>99998</th>\n",
              "      <td>the last shipping i got the tea is so horrible...</td>\n",
              "      <td>1</td>\n",
              "      <td>87.0</td>\n",
              "    </tr>\n",
              "    <tr>\n",
              "      <th>99999</th>\n",
              "      <td>my husband is a type2 diabetic who enjoys swee...</td>\n",
              "      <td>2</td>\n",
              "      <td>157.0</td>\n",
              "    </tr>\n",
              "  </tbody>\n",
              "</table>\n",
              "<p>100000 rows × 3 columns</p>\n",
              "</div>\n",
              "    <div class=\"colab-df-buttons\">\n",
              "\n",
              "  <div class=\"colab-df-container\">\n",
              "    <button class=\"colab-df-convert\" onclick=\"convertToInteractive('df-a4cda435-285d-43f8-ba84-90a025467f9f')\"\n",
              "            title=\"Convert this dataframe to an interactive table.\"\n",
              "            style=\"display:none;\">\n",
              "\n",
              "  <svg xmlns=\"http://www.w3.org/2000/svg\" height=\"24px\" viewBox=\"0 -960 960 960\">\n",
              "    <path d=\"M120-120v-720h720v720H120Zm60-500h600v-160H180v160Zm220 220h160v-160H400v160Zm0 220h160v-160H400v160ZM180-400h160v-160H180v160Zm440 0h160v-160H620v160ZM180-180h160v-160H180v160Zm440 0h160v-160H620v160Z\"/>\n",
              "  </svg>\n",
              "    </button>\n",
              "\n",
              "  <style>\n",
              "    .colab-df-container {\n",
              "      display:flex;\n",
              "      gap: 12px;\n",
              "    }\n",
              "\n",
              "    .colab-df-convert {\n",
              "      background-color: #E8F0FE;\n",
              "      border: none;\n",
              "      border-radius: 50%;\n",
              "      cursor: pointer;\n",
              "      display: none;\n",
              "      fill: #1967D2;\n",
              "      height: 32px;\n",
              "      padding: 0 0 0 0;\n",
              "      width: 32px;\n",
              "    }\n",
              "\n",
              "    .colab-df-convert:hover {\n",
              "      background-color: #E2EBFA;\n",
              "      box-shadow: 0px 1px 2px rgba(60, 64, 67, 0.3), 0px 1px 3px 1px rgba(60, 64, 67, 0.15);\n",
              "      fill: #174EA6;\n",
              "    }\n",
              "\n",
              "    .colab-df-buttons div {\n",
              "      margin-bottom: 4px;\n",
              "    }\n",
              "\n",
              "    [theme=dark] .colab-df-convert {\n",
              "      background-color: #3B4455;\n",
              "      fill: #D2E3FC;\n",
              "    }\n",
              "\n",
              "    [theme=dark] .colab-df-convert:hover {\n",
              "      background-color: #434B5C;\n",
              "      box-shadow: 0px 1px 3px 1px rgba(0, 0, 0, 0.15);\n",
              "      filter: drop-shadow(0px 1px 2px rgba(0, 0, 0, 0.3));\n",
              "      fill: #FFFFFF;\n",
              "    }\n",
              "  </style>\n",
              "\n",
              "    <script>\n",
              "      const buttonEl =\n",
              "        document.querySelector('#df-a4cda435-285d-43f8-ba84-90a025467f9f button.colab-df-convert');\n",
              "      buttonEl.style.display =\n",
              "        google.colab.kernel.accessAllowed ? 'block' : 'none';\n",
              "\n",
              "      async function convertToInteractive(key) {\n",
              "        const element = document.querySelector('#df-a4cda435-285d-43f8-ba84-90a025467f9f');\n",
              "        const dataTable =\n",
              "          await google.colab.kernel.invokeFunction('convertToInteractive',\n",
              "                                                    [key], {});\n",
              "        if (!dataTable) return;\n",
              "\n",
              "        const docLinkHtml = 'Like what you see? Visit the ' +\n",
              "          '<a target=\"_blank\" href=https://colab.research.google.com/notebooks/data_table.ipynb>data table notebook</a>'\n",
              "          + ' to learn more about interactive tables.';\n",
              "        element.innerHTML = '';\n",
              "        dataTable['output_type'] = 'display_data';\n",
              "        await google.colab.output.renderOutput(dataTable, element);\n",
              "        const docLink = document.createElement('div');\n",
              "        docLink.innerHTML = docLinkHtml;\n",
              "        element.appendChild(docLink);\n",
              "      }\n",
              "    </script>\n",
              "  </div>\n",
              "\n",
              "\n",
              "    <div id=\"df-14174acc-017b-47c8-a558-41fe41abd0f2\">\n",
              "      <button class=\"colab-df-quickchart\" onclick=\"quickchart('df-14174acc-017b-47c8-a558-41fe41abd0f2')\"\n",
              "                title=\"Suggest charts\"\n",
              "                style=\"display:none;\">\n",
              "\n",
              "<svg xmlns=\"http://www.w3.org/2000/svg\" height=\"24px\"viewBox=\"0 0 24 24\"\n",
              "     width=\"24px\">\n",
              "    <g>\n",
              "        <path d=\"M19 3H5c-1.1 0-2 .9-2 2v14c0 1.1.9 2 2 2h14c1.1 0 2-.9 2-2V5c0-1.1-.9-2-2-2zM9 17H7v-7h2v7zm4 0h-2V7h2v10zm4 0h-2v-4h2v4z\"/>\n",
              "    </g>\n",
              "</svg>\n",
              "      </button>\n",
              "\n",
              "<style>\n",
              "  .colab-df-quickchart {\n",
              "      --bg-color: #E8F0FE;\n",
              "      --fill-color: #1967D2;\n",
              "      --hover-bg-color: #E2EBFA;\n",
              "      --hover-fill-color: #174EA6;\n",
              "      --disabled-fill-color: #AAA;\n",
              "      --disabled-bg-color: #DDD;\n",
              "  }\n",
              "\n",
              "  [theme=dark] .colab-df-quickchart {\n",
              "      --bg-color: #3B4455;\n",
              "      --fill-color: #D2E3FC;\n",
              "      --hover-bg-color: #434B5C;\n",
              "      --hover-fill-color: #FFFFFF;\n",
              "      --disabled-bg-color: #3B4455;\n",
              "      --disabled-fill-color: #666;\n",
              "  }\n",
              "\n",
              "  .colab-df-quickchart {\n",
              "    background-color: var(--bg-color);\n",
              "    border: none;\n",
              "    border-radius: 50%;\n",
              "    cursor: pointer;\n",
              "    display: none;\n",
              "    fill: var(--fill-color);\n",
              "    height: 32px;\n",
              "    padding: 0;\n",
              "    width: 32px;\n",
              "  }\n",
              "\n",
              "  .colab-df-quickchart:hover {\n",
              "    background-color: var(--hover-bg-color);\n",
              "    box-shadow: 0 1px 2px rgba(60, 64, 67, 0.3), 0 1px 3px 1px rgba(60, 64, 67, 0.15);\n",
              "    fill: var(--button-hover-fill-color);\n",
              "  }\n",
              "\n",
              "  .colab-df-quickchart-complete:disabled,\n",
              "  .colab-df-quickchart-complete:disabled:hover {\n",
              "    background-color: var(--disabled-bg-color);\n",
              "    fill: var(--disabled-fill-color);\n",
              "    box-shadow: none;\n",
              "  }\n",
              "\n",
              "  .colab-df-spinner {\n",
              "    border: 2px solid var(--fill-color);\n",
              "    border-color: transparent;\n",
              "    border-bottom-color: var(--fill-color);\n",
              "    animation:\n",
              "      spin 1s steps(1) infinite;\n",
              "  }\n",
              "\n",
              "  @keyframes spin {\n",
              "    0% {\n",
              "      border-color: transparent;\n",
              "      border-bottom-color: var(--fill-color);\n",
              "      border-left-color: var(--fill-color);\n",
              "    }\n",
              "    20% {\n",
              "      border-color: transparent;\n",
              "      border-left-color: var(--fill-color);\n",
              "      border-top-color: var(--fill-color);\n",
              "    }\n",
              "    30% {\n",
              "      border-color: transparent;\n",
              "      border-left-color: var(--fill-color);\n",
              "      border-top-color: var(--fill-color);\n",
              "      border-right-color: var(--fill-color);\n",
              "    }\n",
              "    40% {\n",
              "      border-color: transparent;\n",
              "      border-right-color: var(--fill-color);\n",
              "      border-top-color: var(--fill-color);\n",
              "    }\n",
              "    60% {\n",
              "      border-color: transparent;\n",
              "      border-right-color: var(--fill-color);\n",
              "    }\n",
              "    80% {\n",
              "      border-color: transparent;\n",
              "      border-right-color: var(--fill-color);\n",
              "      border-bottom-color: var(--fill-color);\n",
              "    }\n",
              "    90% {\n",
              "      border-color: transparent;\n",
              "      border-bottom-color: var(--fill-color);\n",
              "    }\n",
              "  }\n",
              "</style>\n",
              "\n",
              "      <script>\n",
              "        async function quickchart(key) {\n",
              "          const quickchartButtonEl =\n",
              "            document.querySelector('#' + key + ' button');\n",
              "          quickchartButtonEl.disabled = true;  // To prevent multiple clicks.\n",
              "          quickchartButtonEl.classList.add('colab-df-spinner');\n",
              "          try {\n",
              "            const charts = await google.colab.kernel.invokeFunction(\n",
              "                'suggestCharts', [key], {});\n",
              "          } catch (error) {\n",
              "            console.error('Error during call to suggestCharts:', error);\n",
              "          }\n",
              "          quickchartButtonEl.classList.remove('colab-df-spinner');\n",
              "          quickchartButtonEl.classList.add('colab-df-quickchart-complete');\n",
              "        }\n",
              "        (() => {\n",
              "          let quickchartButtonEl =\n",
              "            document.querySelector('#df-14174acc-017b-47c8-a558-41fe41abd0f2 button');\n",
              "          quickchartButtonEl.style.display =\n",
              "            google.colab.kernel.accessAllowed ? 'block' : 'none';\n",
              "        })();\n",
              "      </script>\n",
              "    </div>\n",
              "\n",
              "  <div id=\"id_4c803744-0d09-4201-9921-ad4dbbcf255f\">\n",
              "    <style>\n",
              "      .colab-df-generate {\n",
              "        background-color: #E8F0FE;\n",
              "        border: none;\n",
              "        border-radius: 50%;\n",
              "        cursor: pointer;\n",
              "        display: none;\n",
              "        fill: #1967D2;\n",
              "        height: 32px;\n",
              "        padding: 0 0 0 0;\n",
              "        width: 32px;\n",
              "      }\n",
              "\n",
              "      .colab-df-generate:hover {\n",
              "        background-color: #E2EBFA;\n",
              "        box-shadow: 0px 1px 2px rgba(60, 64, 67, 0.3), 0px 1px 3px 1px rgba(60, 64, 67, 0.15);\n",
              "        fill: #174EA6;\n",
              "      }\n",
              "\n",
              "      [theme=dark] .colab-df-generate {\n",
              "        background-color: #3B4455;\n",
              "        fill: #D2E3FC;\n",
              "      }\n",
              "\n",
              "      [theme=dark] .colab-df-generate:hover {\n",
              "        background-color: #434B5C;\n",
              "        box-shadow: 0px 1px 3px 1px rgba(0, 0, 0, 0.15);\n",
              "        filter: drop-shadow(0px 1px 2px rgba(0, 0, 0, 0.3));\n",
              "        fill: #FFFFFF;\n",
              "      }\n",
              "    </style>\n",
              "    <button class=\"colab-df-generate\" onclick=\"generateWithVariable('df')\"\n",
              "            title=\"Generate code using this dataframe.\"\n",
              "            style=\"display:none;\">\n",
              "\n",
              "  <svg xmlns=\"http://www.w3.org/2000/svg\" height=\"24px\"viewBox=\"0 0 24 24\"\n",
              "       width=\"24px\">\n",
              "    <path d=\"M7,19H8.4L18.45,9,17,7.55,7,17.6ZM5,21V16.75L18.45,3.32a2,2,0,0,1,2.83,0l1.4,1.43a1.91,1.91,0,0,1,.58,1.4,1.91,1.91,0,0,1-.58,1.4L9.25,21ZM18.45,9,17,7.55Zm-12,3A5.31,5.31,0,0,0,4.9,8.1,5.31,5.31,0,0,0,1,6.5,5.31,5.31,0,0,0,4.9,4.9,5.31,5.31,0,0,0,6.5,1,5.31,5.31,0,0,0,8.1,4.9,5.31,5.31,0,0,0,12,6.5,5.46,5.46,0,0,0,6.5,12Z\"/>\n",
              "  </svg>\n",
              "    </button>\n",
              "    <script>\n",
              "      (() => {\n",
              "      const buttonEl =\n",
              "        document.querySelector('#id_4c803744-0d09-4201-9921-ad4dbbcf255f button.colab-df-generate');\n",
              "      buttonEl.style.display =\n",
              "        google.colab.kernel.accessAllowed ? 'block' : 'none';\n",
              "\n",
              "      buttonEl.onclick = () => {\n",
              "        google.colab.notebook.generateWithVariable('df');\n",
              "      }\n",
              "      })();\n",
              "    </script>\n",
              "  </div>\n",
              "\n",
              "    </div>\n",
              "  </div>\n"
            ],
            "application/vnd.google.colaboratory.intrinsic+json": {
              "type": "dataframe",
              "variable_name": "df",
              "summary": "{\n  \"name\": \"df\",\n  \"rows\": 100000,\n  \"fields\": [\n    {\n      \"column\": \"review_text\",\n      \"properties\": {\n        \"dtype\": \"string\",\n        \"num_unique_values\": 100000,\n        \"samples\": [\n          \"for a quick grain free breakfast this is a good choice it is not a fantastic taste but is pretty good and i would order more except for the packaging it is thin crinkly plastic and i have had at least three packages arrive with a hole in the package\",\n          \"i think this is one of the best sauces ever i wish i could find it in the stores i will purchase it from amazon when i need to buy it we use it on almost anything i will recomend it to everyone that i see\",\n          \"yummy tons of them smell with knock you over in a good wayi used a half carton for a filler deliciously more fun than peanuts and it worked nicely the package is full of christmas and will emit this fantastic peppermint aroma upon opening very excited for the recipients response\"\n        ],\n        \"semantic_type\": \"\",\n        \"description\": \"\"\n      }\n    },\n    {\n      \"column\": \"Rating\",\n      \"properties\": {\n        \"dtype\": \"number\",\n        \"std\": 1,\n        \"min\": 1,\n        \"max\": 5,\n        \"num_unique_values\": 5,\n        \"samples\": [\n          5,\n          1,\n          2\n        ],\n        \"semantic_type\": \"\",\n        \"description\": \"\"\n      }\n    },\n    {\n      \"column\": \"review_length\",\n      \"properties\": {\n        \"dtype\": \"number\",\n        \"std\": 70.8751608612508,\n        \"min\": 4.0,\n        \"max\": 500.0,\n        \"num_unique_values\": 496,\n        \"samples\": [\n          314.0,\n          145.0,\n          247.0\n        ],\n        \"semantic_type\": \"\",\n        \"description\": \"\"\n      }\n    }\n  ]\n}"
            }
          },
          "metadata": {},
          "execution_count": 5
        }
      ],
      "source": [
        "df =pd.read_csv('/content/drive/My Drive/deep_imbalanced_dataset.csv')\n",
        "df"
      ]
    },
    {
      "cell_type": "code",
      "execution_count": 6,
      "id": "c514bf01-f47e-41c6-b4b9-af3f0eda4ac3",
      "metadata": {
        "id": "c514bf01-f47e-41c6-b4b9-af3f0eda4ac3",
        "colab": {
          "base_uri": "https://localhost:8080/"
        },
        "outputId": "e1ee1933-62b0-4bbd-9c0a-200db95f5175"
      },
      "outputs": [
        {
          "output_type": "execute_result",
          "data": {
            "text/plain": [
              "(100000, 3)"
            ]
          },
          "metadata": {},
          "execution_count": 6
        }
      ],
      "source": [
        "#shape of the dataset\n",
        "df.shape"
      ]
    },
    {
      "cell_type": "code",
      "execution_count": 7,
      "id": "54848719-a34a-4457-854d-7dc619f14e15",
      "metadata": {
        "id": "54848719-a34a-4457-854d-7dc619f14e15",
        "colab": {
          "base_uri": "https://localhost:8080/",
          "height": 178
        },
        "outputId": "435717cb-4c9f-4692-e37e-43029d74244b"
      },
      "outputs": [
        {
          "output_type": "execute_result",
          "data": {
            "text/plain": [
              "review_text      0\n",
              "Rating           0\n",
              "review_length    0\n",
              "dtype: int64"
            ],
            "text/html": [
              "<div>\n",
              "<style scoped>\n",
              "    .dataframe tbody tr th:only-of-type {\n",
              "        vertical-align: middle;\n",
              "    }\n",
              "\n",
              "    .dataframe tbody tr th {\n",
              "        vertical-align: top;\n",
              "    }\n",
              "\n",
              "    .dataframe thead th {\n",
              "        text-align: right;\n",
              "    }\n",
              "</style>\n",
              "<table border=\"1\" class=\"dataframe\">\n",
              "  <thead>\n",
              "    <tr style=\"text-align: right;\">\n",
              "      <th></th>\n",
              "      <th>0</th>\n",
              "    </tr>\n",
              "  </thead>\n",
              "  <tbody>\n",
              "    <tr>\n",
              "      <th>review_text</th>\n",
              "      <td>0</td>\n",
              "    </tr>\n",
              "    <tr>\n",
              "      <th>Rating</th>\n",
              "      <td>0</td>\n",
              "    </tr>\n",
              "    <tr>\n",
              "      <th>review_length</th>\n",
              "      <td>0</td>\n",
              "    </tr>\n",
              "  </tbody>\n",
              "</table>\n",
              "</div><br><label><b>dtype:</b> int64</label>"
            ]
          },
          "metadata": {},
          "execution_count": 7
        }
      ],
      "source": [
        "df.isnull().sum()"
      ]
    },
    {
      "cell_type": "code",
      "execution_count": 8,
      "id": "eed889ea-4d74-4abb-8239-c70c759588a4",
      "metadata": {
        "id": "eed889ea-4d74-4abb-8239-c70c759588a4",
        "colab": {
          "base_uri": "https://localhost:8080/"
        },
        "outputId": "0b2e1f1d-0f1b-4060-e221-61b66f3d7d42"
      },
      "outputs": [
        {
          "output_type": "execute_result",
          "data": {
            "text/plain": [
              "np.int64(0)"
            ]
          },
          "metadata": {},
          "execution_count": 8
        }
      ],
      "source": [
        "#checking for the duplicate values\n",
        "df.duplicated().sum()"
      ]
    },
    {
      "cell_type": "code",
      "execution_count": 9,
      "id": "68c24b9a-fbb9-498c-9ffe-e448c72b3aa2",
      "metadata": {
        "id": "68c24b9a-fbb9-498c-9ffe-e448c72b3aa2",
        "colab": {
          "base_uri": "https://localhost:8080/"
        },
        "outputId": "c9516301-7024-48e4-8507-427e3b41145f"
      },
      "outputs": [
        {
          "output_type": "stream",
          "name": "stdout",
          "text": [
            "\n",
            "⭐ Rating 1\n",
            "\n",
            "- this instant coffee brand is way overrated and doesnt even compare to the taste and aroma of tasters choice instant coffee french roast\n",
            "\n",
            "\n",
            "- were terribly disappointed this was the second time we ordered this product the first 5lb bag was incredible we snarfed them all down the olives were firm and full of flavor had a nice greek olive scent the second one was terrible they tasted rancid and smelled terrible we ended up throwing them all away we were afraid wed get sick we will not be ordering again very disappointed that the product was not even edible\n",
            "\n",
            "\n",
            "- the last shipping i got the tea is so horrible it is like the 3rd time that you put water init is so weak it hardly tasted like green tea that i used to get i dont know what wrong with it i ordered 6 boxeseach so it took me a few months to finish all 6 boxes with 2nd package with 6 boxes those a received about a couple months ago they are so terrible it almost does not smell like a real tea any more\n",
            "\n",
            "\n",
            "⭐ Rating 2\n",
            "\n",
            "- when i received my bag nearly all of the flowers were broken and fractured leaving a lot of dust and very little whole flowers lots of stems too\n",
            "\n",
            "\n",
            "- i have purchased this product from my vet howeverthe vet is a long drive to purchase this item the first time i purchased this product from amazon it looked smelled and felt like the product i had purchased from my vet however this time they smell different they look and feel different from the product i purchased the first time either they have changed something in the process or these have expired my dog still likes them she has not gotten sick so they must be ok\n",
            "\n",
            "\n",
            "- my husband is a type2 diabetic who enjoys sweet treats so ive tried to look for sugarfree products that will agree with him and satisfy his sweet tooth he loves chocolate brownies so after reading most of the positive reviews here i decided to buy the sixpack brownie mix and try it outmy husband liked the taste though he admitted it was nowhere near as rich and flavorful as the ghirardelli brownie mixes which i use occasionally at home taste aside he also experienced bloating and excessive gas initially i thought this was due to something else he ate but when he ate another brownie similar effects convinced us it was due to the maltitol ingredient in the mixi think this mix will be ok for those who are not averse to maltitol but i would not advise it for those who are averse to it i guess my search for the perfect sugarfree brownie mix continues\n",
            "\n",
            "\n",
            "⭐ Rating 3\n",
            "\n",
            "- ive tried three different flavors of starbucks natural fusions coffee so far even though i love cinnamon and sometimes add some ground cinnamon to my coffee grounds to flavor regular coffee i didnt much care for the flavor of starbucks cinnamon flavored coffee this vanilla flavor is pretty good however though i will say that i dont like it enough to buy it again the real winner of the three is the caramel flavor while drinking it wont make you think youre eating a caramel candy it does have a very pleasing flavor whether consumed hot or cold thats the only flavor of the three that i have purchased repeatedly and will purchase againas for the underlying coffee flavor of this particular flavor i think it suffices to say that it tastes like a medium roasted starbucks coffee i happen to like starbucks coffee beans but i know some people dont care for the brand if youre a fan of starbucks this roastflavor is consistent with what youve come to expect from them\n",
            "\n",
            "\n",
            "- my daughter begged for this case but it wasnt what we expected when we received it it is very cheaply made and it feels cheap\n",
            "\n",
            "\n",
            "- i bought this product to hold my galaxy s3 while running i saw other reviewers say that it would work with the phone in a uag case which is what i have it does fit but is very tight sometimes while running it might hit the volume keys up and down which can get annoying but i can cope with that one other issue i have is that the sweat gets all over my phone since there is just a thin layer of neoprene in between my arm and the phone a piece of plastic between the phone and the fabric could probably solve that issue but the worst part of this product is that it is itchy there isnt enough padding in place near the velcro areas and when the velcro comes over or across it becomes very itchy because of these issues i would probably not recommend it maybe try to find another product that has better padding\n",
            "\n",
            "\n",
            "⭐ Rating 4\n",
            "\n",
            "- the source of protein in hemp seeds is much easier to ingest than whey the flavor is very good rather nut like and is very good on whole grain cereals ive cut down on red meat and use the hemp seed product to keep a handle on the protein that my body is asking for im 61 years old and am an active outdoors person i do not take junky supplements of any kind in tablet or capsule form this source of protein is natural and delicious\n",
            "\n",
            "\n",
            "- firm sweet and tasty if you cook it right firm means not marshy or soggy a quality youd like to have in rice easy to cook it doesnt take long above all what i like most about botan is the pure quality in the taste almost crystallike it mustve been grown in good quality water\n",
            "\n",
            "\n",
            "- of course these dont taste as great as the cereal bars but they are way better than most protein bars this is the only flavor ive tried and theyre not fabulous but definitely edible im looking forward to trying the chocolate peanut butter flavor and hey ive lost 7 pounds\n",
            "\n",
            "\n",
            "⭐ Rating 5\n",
            "\n",
            "- i was glad to see a variety of flavors as well as brands in the assortment the only thing i didnt like was the packaging all 35 pieces thrown in a plain white box i had to take them out of the box and sort them to see what was there overall a very good product and i would buy it again\n",
            "\n",
            "\n",
            "- this is by far the best canned tuna i have ever eaten i like the smaller cans because they are a perfect single serving size ive had more expensive canned tuna but none betterican eat it right out of the can after draning no salt no nothinits that good and it is consistent from can to can\n",
            "\n",
            "\n",
            "- our dog savannah loves this food first time i bought it she ate everything in the bowl i love that its organic and doesnt have wheat products id recommend it to anyone who cares about their dogs health\n",
            "\n"
          ]
        }
      ],
      "source": [
        "#display 3 full sample reviews per rating\n",
        "for rating in sorted(df['Rating'].unique()):\n",
        "    print(f\"\\n⭐ Rating {rating}\")\n",
        "    reviews = df[df['Rating'] == rating].tail(3)\n",
        "    for _, row in reviews.iterrows():\n",
        "        print(f\"\\n- {row['review_text']}\\n\")"
      ]
    },
    {
      "cell_type": "code",
      "execution_count": 10,
      "id": "95e093c5-2079-4c5b-a129-fda4ad21ad40",
      "metadata": {
        "id": "95e093c5-2079-4c5b-a129-fda4ad21ad40"
      },
      "outputs": [],
      "source": [
        "df['word_count'] = df['review_text'].apply(lambda x: len(str(x).split()))"
      ]
    },
    {
      "cell_type": "code",
      "execution_count": 11,
      "id": "5a110a92-c6d4-42d9-ad17-d8e71362cc63",
      "metadata": {
        "id": "5a110a92-c6d4-42d9-ad17-d8e71362cc63",
        "colab": {
          "base_uri": "https://localhost:8080/"
        },
        "outputId": "da96edd5-37be-4c28-cdfc-e99e7d298e1e"
      },
      "outputs": [
        {
          "output_type": "stream",
          "name": "stdout",
          "text": [
            "          count       mean        std  min   25%   50%    75%    max\n",
            "Rating                                                              \n",
            "1       10000.0  76.703500  61.420067  5.0  35.0  59.0   97.0  499.0\n",
            "2       15000.0  77.265000  74.149615  4.0  29.0  54.0   98.0  500.0\n",
            "3       25000.0  87.303160  79.162376  4.0  34.0  59.0  111.0  500.0\n",
            "4       30000.0  85.589767  70.755941  5.0  37.0  63.0  110.0  497.0\n",
            "5       20000.0  70.864350  59.673597  4.0  32.0  52.0   88.0  498.0\n"
          ]
        }
      ],
      "source": [
        "#display the statistics of the word count\n",
        "min_word_counts = df.groupby('Rating')['word_count'].describe()\n",
        "print(min_word_counts)"
      ]
    },
    {
      "cell_type": "code",
      "execution_count": 12,
      "id": "788e11ad-7831-4ab9-ab4f-5a445c9afd91",
      "metadata": {
        "id": "788e11ad-7831-4ab9-ab4f-5a445c9afd91",
        "colab": {
          "base_uri": "https://localhost:8080/",
          "height": 501
        },
        "outputId": "8baadc41-1965-4eb1-c03a-afdd7eb7a2ad"
      },
      "outputs": [
        {
          "output_type": "display_data",
          "data": {
            "text/plain": [
              "<Figure size 800x500 with 1 Axes>"
            ],
            "image/png": "[encoded data removed]"
          },
          "metadata": {}
        }
      ],
      "source": [
        "#  Visualize the distribution of review ratings\n",
        "\n",
        "plt.figure(figsize=(8, 5))  # Set figure size\n",
        "\n",
        "# Create a count plot for the 'Rating' column\n",
        "sns.countplot(x='Rating', data=df)\n",
        "\n",
        "# Add plot titles and labels\n",
        "plt.title(\"Rating Distribution\", fontsize=14)\n",
        "plt.xlabel(\"Rating\", fontsize=12)\n",
        "plt.ylabel(\"Number of Reviews\", fontsize=12)\n",
        "\n",
        "# Display the plot\n",
        "plt.tight_layout()\n",
        "plt.show()"
      ]
    },
    {
      "cell_type": "code",
      "execution_count": 13,
      "id": "69d5d7ef-6579-40f3-a7aa-38a56bd75632",
      "metadata": {
        "id": "69d5d7ef-6579-40f3-a7aa-38a56bd75632",
        "colab": {
          "base_uri": "https://localhost:8080/",
          "height": 501
        },
        "outputId": "bab0256a-0772-42b3-f5b9-aa66e26622e9"
      },
      "outputs": [
        {
          "output_type": "display_data",
          "data": {
            "text/plain": [
              "<Figure size 1000x500 with 1 Axes>"
            ],
            "image/png": "[encoded data removed]"
          },
          "metadata": {}
        }
      ],
      "source": [
        "# Visualize the distribution of review lengths (number of words per review)\n",
        "\n",
        "plt.figure(figsize=(10, 5))  # Set the size of the plot\n",
        "\n",
        "# Create a histogram of review lengths with a KDE (smoothed line)\n",
        "sns.histplot(data=df, x='review_length', bins=50, kde=True, color='skyblue')\n",
        "\n",
        "# Add titles and axis labels\n",
        "plt.title(\"Review Length Distribution\", fontsize=14)\n",
        "plt.xlabel(\"Number of Words\", fontsize=12)\n",
        "plt.ylabel(\"Number of Reviews\", fontsize=12)\n",
        "\n",
        "# Improve layout and display the plot\n",
        "plt.tight_layout()\n",
        "plt.show()"
      ]
    },
    {
      "cell_type": "code",
      "execution_count": 14,
      "id": "43cc69c3-ed0c-4244-8169-2667c54f6b16",
      "metadata": {
        "id": "43cc69c3-ed0c-4244-8169-2667c54f6b16"
      },
      "outputs": [],
      "source": [
        "# Count the number of reviews per rating (sorted by rating value)\n",
        "rating_counts = df['Rating'].value_counts().sort_index()"
      ]
    },
    {
      "cell_type": "code",
      "execution_count": 15,
      "id": "a81c7313-8cb4-4d26-b103-4a1a7cfd6155",
      "metadata": {
        "id": "a81c7313-8cb4-4d26-b103-4a1a7cfd6155",
        "colab": {
          "base_uri": "https://localhost:8080/",
          "height": 606
        },
        "outputId": "78b45077-b98a-4627-b1ab-412486db48e6"
      },
      "outputs": [
        {
          "output_type": "display_data",
          "data": {
            "text/plain": [
              "<Figure size 700x700 with 1 Axes>"
            ],
            "image/png": "[encoded data removed]"
          },
          "metadata": {}
        }
      ],
      "source": [
        "# Labels for pie slices (e.g., '1', '2', ..., '5')\n",
        "labels = rating_counts.index.astype(str)\n",
        "#Corresponding values (number of reviews per rating)\n",
        "sizes = rating_counts.values\n",
        "\n",
        "# Plot pie chart\n",
        "plt.figure(figsize=(7, 7))\n",
        "plt.pie(sizes, labels=labels, autopct='%1.1f%%', startangle=140, colors=plt.cm.Pastel1.colors)\n",
        "plt.title('Distribution of Review Ratings')\n",
        "plt.axis('equal')  # Equal aspect ratio makes the pie chart circular\n",
        "plt.show()"
      ]
    },
    {
      "cell_type": "code",
      "execution_count": 16,
      "id": "0061fb6b-5ecb-4ab6-810e-b9f4e12dddd8",
      "metadata": {
        "id": "0061fb6b-5ecb-4ab6-810e-b9f4e12dddd8"
      },
      "outputs": [],
      "source": [
        "#  Split training and testing data\n",
        "X_train, X_test, y_train, y_test = train_test_split(df['review_text'],df['Rating'], test_size=0.2, random_state=42,shuffle=True,stratify=df['Rating'] )"
      ]
    },
    {
      "cell_type": "code",
      "execution_count": 17,
      "id": "a2156351-91b4-4444-8829-e1dd6cd7562a",
      "metadata": {
        "id": "a2156351-91b4-4444-8829-e1dd6cd7562a",
        "colab": {
          "base_uri": "https://localhost:8080/"
        },
        "outputId": "a7f81548-413d-45b6-bba3-53d28995fd32"
      },
      "outputs": [
        {
          "output_type": "stream",
          "name": "stdout",
          "text": [
            "Train Rating Distribution:\n",
            " Rating\n",
            "4    0.30\n",
            "3    0.25\n",
            "5    0.20\n",
            "2    0.15\n",
            "1    0.10\n",
            "Name: proportion, dtype: float64\n",
            "\n",
            "Test Rating Distribution:\n",
            " Rating\n",
            "4    0.30\n",
            "3    0.25\n",
            "5    0.20\n",
            "2    0.15\n",
            "1    0.10\n",
            "Name: proportion, dtype: float64\n"
          ]
        }
      ],
      "source": [
        "print(\"Train Rating Distribution:\\n\", y_train.value_counts(normalize=True))\n",
        "print(\"\\nTest Rating Distribution:\\n\", y_test.value_counts(normalize=True))"
      ]
    },
    {
      "cell_type": "code",
      "execution_count": 18,
      "id": "9e1ce338-5185-4b2c-8a84-a8cce67e9988",
      "metadata": {
        "id": "9e1ce338-5185-4b2c-8a84-a8cce67e9988"
      },
      "outputs": [],
      "source": [
        "def spacy_preprocess_pipe(texts):\n",
        "    processed = []\n",
        "    for doc in nlp.pipe(texts, batch_size=1000, disable=[\"ner\", \"parser\"]):  # disable unneeded parts\n",
        "        tokens = [\n",
        "            token.lemma_\n",
        "            for token in doc\n",
        "            if not token.is_stop and not token.is_space and token.is_alpha\n",
        "        ]\n",
        "        processed.append(\" \".join(tokens))\n",
        "    return processed"
      ]
    },
    {
      "cell_type": "code",
      "execution_count": 19,
      "id": "4805b673-cf9c-417e-90af-aface80673b5",
      "metadata": {
        "id": "4805b673-cf9c-417e-90af-aface80673b5",
        "colab": {
          "base_uri": "https://localhost:8080/"
        },
        "outputId": "e2d0c44e-4b96-4254-d63d-e822d9c60b87"
      },
      "outputs": [
        {
          "output_type": "stream",
          "name": "stdout",
          "text": [
            "[\"'d\", \"'ll\", \"'m\", \"'re\", \"'s\", \"'ve\", 'a', 'about', 'above', 'across', 'after', 'afterwards', 'again', 'against', 'all', 'almost', 'alone', 'along', 'already', 'also', 'although', 'always', 'am', 'among', 'amongst', 'amount', 'an', 'and', 'another', 'any', 'anyhow', 'anyone', 'anything', 'anyway', 'anywhere', 'are', 'around', 'as', 'at', 'back', 'be', 'became', 'because', 'become', 'becomes', 'becoming', 'been', 'before', 'beforehand', 'behind', 'being', 'below', 'beside', 'besides', 'between', 'beyond', 'both', 'bottom', 'but', 'by', 'ca', 'call', 'can', 'cannot', 'could', 'did', 'do', 'does', 'doing', 'done', 'down', 'due', 'during', 'each', 'eight', 'either', 'eleven', 'else', 'elsewhere', 'empty', 'enough', 'even', 'ever', 'every', 'everyone', 'everything', 'everywhere', 'except', 'few', 'fifteen', 'fifty', 'first', 'five', 'for', 'former', 'formerly', 'forty', 'four', 'from', 'front', 'full', 'further', 'get', 'give', 'go', 'had', 'has', 'have', 'he', 'hence', 'her', 'here', 'hereafter', 'hereby', 'herein', 'hereupon', 'hers', 'herself', 'him', 'himself', 'his', 'how', 'however', 'hundred', 'i', 'if', 'in', 'indeed', 'into', 'is', 'it', 'its', 'itself', 'just', 'keep', 'last', 'latter', 'latterly', 'least', 'less', 'made', 'make', 'many', 'may', 'me', 'meanwhile', 'might', 'mine', 'more', 'moreover', 'most', 'mostly', 'move', 'much', 'must', 'my', 'myself', \"n't\", 'name', 'namely', 'neither', 'never', 'nevertheless', 'next', 'nine', 'no', 'nobody', 'none', 'noone', 'nor', 'not', 'nothing', 'now', 'nowhere', 'n‘t', 'n’t', 'of', 'off', 'often', 'on', 'once', 'one', 'only', 'onto', 'or', 'other', 'others', 'otherwise', 'our', 'ours', 'ourselves', 'out', 'over', 'own', 'part', 'per', 'perhaps', 'please', 'put', 'quite', 'rather', 're', 'really', 'regarding', 'same', 'say', 'see', 'seem', 'seemed', 'seeming', 'seems', 'serious', 'several', 'she', 'should', 'show', 'side', 'since', 'six', 'sixty', 'so', 'some', 'somehow', 'someone', 'something', 'sometime', 'sometimes', 'somewhere', 'still', 'such', 'take', 'ten', 'than', 'that', 'the', 'their', 'them', 'themselves', 'then', 'thence', 'there', 'thereafter', 'thereby', 'therefore', 'therein', 'thereupon', 'these', 'they', 'third', 'this', 'those', 'though', 'three', 'through', 'throughout', 'thru', 'thus', 'to', 'together', 'too', 'top', 'toward', 'towards', 'twelve', 'twenty', 'two', 'under', 'unless', 'until', 'up', 'upon', 'us', 'used', 'using', 'various', 'very', 'via', 'was', 'we', 'well', 'were', 'what', 'whatever', 'when', 'whence', 'whenever', 'where', 'whereafter', 'whereas', 'whereby', 'wherein', 'whereupon', 'wherever', 'whether', 'which', 'while', 'whither', 'who', 'whoever', 'whole', 'whom', 'whose', 'why', 'will', 'with', 'within', 'without', 'would', 'yet', 'you', 'your', 'yours', 'yourself', 'yourselves', '‘d', '‘ll', '‘m', '‘re', '‘s', '‘ve', '’d', '’ll', '’m', '’re', '’s', '’ve']\n",
            "Number of spaCy stopwords: 326\n"
          ]
        }
      ],
      "source": [
        "#print the list of stopwords\n",
        "print(sorted(nlp.Defaults.stop_words))\n",
        "# Print total number of unique stopwords in spaCy's English model\n",
        "print(\"Number of spaCy stopwords:\", len(nlp.Defaults.stop_words))"
      ]
    },
    {
      "cell_type": "code",
      "execution_count": 20,
      "id": "865e042b-a864-451b-8532-0bc78a40f097",
      "metadata": {
        "id": "865e042b-a864-451b-8532-0bc78a40f097"
      },
      "outputs": [],
      "source": [
        "X_train = pd.Series(spacy_preprocess_pipe(X_train))\n",
        "X_test = pd.Series(spacy_preprocess_pipe(X_test))"
      ]
    },
    {
      "cell_type": "code",
      "execution_count": 21,
      "id": "kj2su32NMhCc",
      "metadata": {
        "id": "kj2su32NMhCc",
        "colab": {
          "base_uri": "https://localhost:8080/"
        },
        "outputId": "a8c2e544-7f7f-4e19-f661-0cffc79289d0"
      },
      "outputs": [
        {
          "output_type": "stream",
          "name": "stdout",
          "text": [
            "<class 'pandas.core.series.Series'>\n",
            "<class 'pandas.core.series.Series'>\n"
          ]
        }
      ],
      "source": [
        "print(type(X_test))\n",
        "print(type(y_test))\n"
      ]
    },
    {
      "cell_type": "code",
      "execution_count": 22,
      "id": "0550634c-6f92-45bd-9da4-53dbd53a2dc4",
      "metadata": {
        "id": "0550634c-6f92-45bd-9da4-53dbd53a2dc4"
      },
      "outputs": [],
      "source": [
        "# Save preprocessed training and test data\n",
        "#X_train.to_pickle(\"/content/drive/My Drive/X_train_preprocessed_imbalanced.pkl\")\n",
        "#X_test.to_pickle(\"/content/drive/My Drive/X_test_preprocessed_imbalanced.pkl\")"
      ]
    },
    {
      "cell_type": "code",
      "execution_count": 23,
      "id": "aac27b49-74d2-4198-8e70-8b0d4e92988a",
      "metadata": {
        "id": "aac27b49-74d2-4198-8e70-8b0d4e92988a"
      },
      "outputs": [],
      "source": [
        "# Load saved preprocessed data\n",
        "#X_train = pd.read_pickle(\"X_train_preprocessed_imbalanced.pkl\")\n",
        "#X_test = pd.read_pickle(\"X_test_preprocessed_imbalanced.pkl\")"
      ]
    },
    {
      "cell_type": "code",
      "execution_count": 24,
      "id": "c6fc664e-7c4f-41fb-ad99-7c79dbd057c3",
      "metadata": {
        "id": "c6fc664e-7c4f-41fb-ad99-7c79dbd057c3"
      },
      "outputs": [],
      "source": [
        "from tensorflow.keras.preprocessing.text import Tokenizer\n",
        "\n",
        "# Define tokenizer parameters\n",
        "vocab_size = 10000\n",
        "tokenizer = Tokenizer(num_words=vocab_size, oov_token=\"<OOV>\")\n",
        "\n",
        "# Fit tokenizer on training data\n",
        "tokenizer.fit_on_texts(X_train)\n",
        "\n",
        "# Convert text to sequences\n",
        "X_train_seq = tokenizer.texts_to_sequences(X_train)\n",
        "X_test_seq = tokenizer.texts_to_sequences(X_test)\n"
      ]
    },
    {
      "cell_type": "code",
      "execution_count": 25,
      "id": "dd05e0d6-26a2-47e1-b884-9e13f77b185a",
      "metadata": {
        "id": "dd05e0d6-26a2-47e1-b884-9e13f77b185a"
      },
      "outputs": [],
      "source": [
        "from tensorflow.keras.preprocessing.sequence import pad_sequences\n",
        "\n",
        "max_len = 100\n",
        "\n",
        "X_train_pad = pad_sequences(X_train_seq, maxlen=max_len, padding='post', truncating='post')\n",
        "X_test_pad = pad_sequences(X_test_seq, maxlen=max_len, padding='post', truncating='post')"
      ]
    },
    {
      "cell_type": "code",
      "source": [
        "#import pickle\n",
        "\n",
        "\n",
        "\n",
        "\n",
        "\n",
        "#with open('/content/drive/My Drive/maxlen_imbalanced2.pkl', 'wb') as f:\n",
        "#    pickle.dump(max_len, f)\n"
      ],
      "metadata": {
        "id": "zeOovd3HSPeJ"
      },
      "id": "zeOovd3HSPeJ",
      "execution_count": 26,
      "outputs": []
    },
    {
      "cell_type": "code",
      "execution_count": 27,
      "id": "c333c605-8849-4795-bbbb-90bde655dc57",
      "metadata": {
        "id": "c333c605-8849-4795-bbbb-90bde655dc57"
      },
      "outputs": [],
      "source": [
        "#  Fix the labels (make them start from 0)\n",
        "y_train = y_train - 1\n",
        "y_test = y_test - 1"
      ]
    },
    {
      "cell_type": "code",
      "execution_count": 28,
      "id": "Y5cBxO2aPuos",
      "metadata": {
        "id": "Y5cBxO2aPuos"
      },
      "outputs": [],
      "source": [
        "#!wget http://nlp.stanford.edu/data/glove.6B.zip\n",
        "#!unzip glove.6B.zip"
      ]
    },
    {
      "cell_type": "code",
      "source": [
        "!wget https://dl.fbaipublicfiles.com/fasttext/vectors-crawl/wiki.simple.vec.zip\n",
        "!unzip wiki.simple.vec.zip\n"
      ],
      "metadata": {
        "id": "UP9dbt44ArOD",
        "colab": {
          "base_uri": "https://localhost:8080/"
        },
        "outputId": "fb72154d-2381-4c21-b222-87fda73b7a43"
      },
      "id": "UP9dbt44ArOD",
      "execution_count": 29,
      "outputs": [
        {
          "output_type": "stream",
          "name": "stdout",
          "text": [
            "--2025-08-05 03:12:32--  https://dl.fbaipublicfiles.com/fasttext/vectors-crawl/wiki.simple.vec.zip\n",
            "Resolving dl.fbaipublicfiles.com (dl.fbaipublicfiles.com)... 13.227.219.10, 13.227.219.59, 13.227.219.33, ...\n",
            "Connecting to dl.fbaipublicfiles.com (dl.fbaipublicfiles.com)|13.227.219.10|:443... connected.\n",
            "HTTP request sent, awaiting response... 403 Forbidden\n",
            "2025-08-05 03:12:32 ERROR 403: Forbidden.\n",
            "\n",
            "unzip:  cannot find or open wiki.simple.vec.zip, wiki.simple.vec.zip.zip or wiki.simple.vec.zip.ZIP.\n"
          ]
        }
      ]
    },
    {
      "cell_type": "code",
      "source": [
        "import numpy as np\n",
        "\n",
        "embedding_index = {}\n",
        "embedding_dim = 300  # FastText uses 300-dim vectors\n",
        "\n",
        "# Change path accordingly if it's in Drive\n",
        "with open(\"/content/drive/MyDrive/wiki.simple.vec\", encoding='utf-8') as f:\n",
        "    next(f)  # skip header line (e.g., \"111051 300\")\n",
        "    for line in f:\n",
        "        values = line.rstrip().split(' ')\n",
        "        word = values[0]\n",
        "        try:\n",
        "            vector = np.asarray(values[1:], dtype='float32')\n",
        "            if vector.shape[0] == embedding_dim:  # ensure it's valid\n",
        "                embedding_index[word] = vector\n",
        "        except ValueError:\n",
        "            continue  # skip malformed lines\n"
      ],
      "metadata": {
        "id": "yNBe6sgBzBGB"
      },
      "id": "yNBe6sgBzBGB",
      "execution_count": 30,
      "outputs": []
    },
    {
      "cell_type": "code",
      "execution_count": 31,
      "id": "Zl3e8G8a1uLV",
      "metadata": {
        "id": "Zl3e8G8a1uLV"
      },
      "outputs": [],
      "source": [
        "from tensorflow.keras.preprocessing.text import Tokenizer\n",
        "\n",
        "# Assuming you have already fitted your tokenizer\n",
        "word_index = tokenizer.word_index\n",
        "vocab_size = len(word_index) + 1  # +1 for padding token\n",
        "\n",
        "embedding_matrix = np.zeros((vocab_size, embedding_dim))\n",
        "\n",
        "for word, i in word_index.items():\n",
        "    embedding_vector = embedding_index.get(word)\n",
        "    if embedding_vector is not None:\n",
        "        embedding_matrix[i] = embedding_vector\n",
        "\n",
        "\n",
        "\n"
      ]
    },
    {
      "cell_type": "code",
      "execution_count": 32,
      "id": "11c603f2-6fb5-4dde-95be-bfe1c5f3dd1e",
      "metadata": {
        "id": "11c603f2-6fb5-4dde-95be-bfe1c5f3dd1e",
        "scrolled": true,
        "colab": {
          "base_uri": "https://localhost:8080/",
          "height": 522
        },
        "outputId": "4a6561cd-62e4-4d99-ee8e-5c92ebd5391f"
      },
      "outputs": [
        {
          "output_type": "stream",
          "name": "stderr",
          "text": [
            "/usr/local/lib/python3.11/dist-packages/keras/src/layers/core/embedding.py:90: UserWarning: Argument `input_length` is deprecated. Just remove it.\n",
            "  warnings.warn(\n"
          ]
        },
        {
          "output_type": "display_data",
          "data": {
            "text/plain": [
              "\u001b[1mModel: \"sequential\"\u001b[0m\n"
            ],
            "text/html": [
              "<pre style=\"white-space:pre;overflow-x:auto;line-height:normal;font-family:Menlo,'DejaVu Sans Mono',consolas,'Courier New',monospace\"><span style=\"font-weight: bold\">Model: \"sequential\"</span>\n",
              "</pre>\n"
            ]
          },
          "metadata": {}
        },
        {
          "output_type": "display_data",
          "data": {
            "text/plain": [
              "┏━━━━━━━━━━━━━━━━━━━━━━━━━━━━━━━━━┳━━━━━━━━━━━━━━━━━━━━━━━━┳━━━━━━━━━━━━━━━┓\n",
              "┃\u001b[1m \u001b[0m\u001b[1mLayer (type)                   \u001b[0m\u001b[1m \u001b[0m┃\u001b[1m \u001b[0m\u001b[1mOutput Shape          \u001b[0m\u001b[1m \u001b[0m┃\u001b[1m \u001b[0m\u001b[1m      Param #\u001b[0m\u001b[1m \u001b[0m┃\n",
              "┡━━━━━━━━━━━━━━━━━━━━━━━━━━━━━━━━━╇━━━━━━━━━━━━━━━━━━━━━━━━╇━━━━━━━━━━━━━━━┩\n",
              "│ embedding (\u001b[38;5;33mEmbedding\u001b[0m)           │ ?                      │    \u001b[38;5;34m29,510,700\u001b[0m │\n",
              "├─────────────────────────────────┼────────────────────────┼───────────────┤\n",
              "│ bidirectional (\u001b[38;5;33mBidirectional\u001b[0m)   │ ?                      │   \u001b[38;5;34m0\u001b[0m (unbuilt) │\n",
              "├─────────────────────────────────┼────────────────────────┼───────────────┤\n",
              "│ dropout (\u001b[38;5;33mDropout\u001b[0m)               │ ?                      │             \u001b[38;5;34m0\u001b[0m │\n",
              "├─────────────────────────────────┼────────────────────────┼───────────────┤\n",
              "│ dense (\u001b[38;5;33mDense\u001b[0m)                   │ ?                      │   \u001b[38;5;34m0\u001b[0m (unbuilt) │\n",
              "├─────────────────────────────────┼────────────────────────┼───────────────┤\n",
              "│ dense_1 (\u001b[38;5;33mDense\u001b[0m)                 │ ?                      │   \u001b[38;5;34m0\u001b[0m (unbuilt) │\n",
              "└─────────────────────────────────┴────────────────────────┴───────────────┘\n"
            ],
            "text/html": [
              "<pre style=\"white-space:pre;overflow-x:auto;line-height:normal;font-family:Menlo,'DejaVu Sans Mono',consolas,'Courier New',monospace\">┏━━━━━━━━━━━━━━━━━━━━━━━━━━━━━━━━━┳━━━━━━━━━━━━━━━━━━━━━━━━┳━━━━━━━━━━━━━━━┓\n",
              "┃<span style=\"font-weight: bold\"> Layer (type)                    </span>┃<span style=\"font-weight: bold\"> Output Shape           </span>┃<span style=\"font-weight: bold\">       Param # </span>┃\n",
              "┡━━━━━━━━━━━━━━━━━━━━━━━━━━━━━━━━━╇━━━━━━━━━━━━━━━━━━━━━━━━╇━━━━━━━━━━━━━━━┩\n",
              "│ embedding (<span style=\"color: #0087ff; text-decoration-color: #0087ff\">Embedding</span>)           │ ?                      │    <span style=\"color: #00af00; text-decoration-color: #00af00\">29,510,700</span> │\n",
              "├─────────────────────────────────┼────────────────────────┼───────────────┤\n",
              "│ bidirectional (<span style=\"color: #0087ff; text-decoration-color: #0087ff\">Bidirectional</span>)   │ ?                      │   <span style=\"color: #00af00; text-decoration-color: #00af00\">0</span> (unbuilt) │\n",
              "├─────────────────────────────────┼────────────────────────┼───────────────┤\n",
              "│ dropout (<span style=\"color: #0087ff; text-decoration-color: #0087ff\">Dropout</span>)               │ ?                      │             <span style=\"color: #00af00; text-decoration-color: #00af00\">0</span> │\n",
              "├─────────────────────────────────┼────────────────────────┼───────────────┤\n",
              "│ dense (<span style=\"color: #0087ff; text-decoration-color: #0087ff\">Dense</span>)                   │ ?                      │   <span style=\"color: #00af00; text-decoration-color: #00af00\">0</span> (unbuilt) │\n",
              "├─────────────────────────────────┼────────────────────────┼───────────────┤\n",
              "│ dense_1 (<span style=\"color: #0087ff; text-decoration-color: #0087ff\">Dense</span>)                 │ ?                      │   <span style=\"color: #00af00; text-decoration-color: #00af00\">0</span> (unbuilt) │\n",
              "└─────────────────────────────────┴────────────────────────┴───────────────┘\n",
              "</pre>\n"
            ]
          },
          "metadata": {}
        },
        {
          "output_type": "display_data",
          "data": {
            "text/plain": [
              "\u001b[1m Total params: \u001b[0m\u001b[38;5;34m29,510,700\u001b[0m (112.57 MB)\n"
            ],
            "text/html": [
              "<pre style=\"white-space:pre;overflow-x:auto;line-height:normal;font-family:Menlo,'DejaVu Sans Mono',consolas,'Courier New',monospace\"><span style=\"font-weight: bold\"> Total params: </span><span style=\"color: #00af00; text-decoration-color: #00af00\">29,510,700</span> (112.57 MB)\n",
              "</pre>\n"
            ]
          },
          "metadata": {}
        },
        {
          "output_type": "display_data",
          "data": {
            "text/plain": [
              "\u001b[1m Trainable params: \u001b[0m\u001b[38;5;34m29,510,700\u001b[0m (112.57 MB)\n"
            ],
            "text/html": [
              "<pre style=\"white-space:pre;overflow-x:auto;line-height:normal;font-family:Menlo,'DejaVu Sans Mono',consolas,'Courier New',monospace\"><span style=\"font-weight: bold\"> Trainable params: </span><span style=\"color: #00af00; text-decoration-color: #00af00\">29,510,700</span> (112.57 MB)\n",
              "</pre>\n"
            ]
          },
          "metadata": {}
        },
        {
          "output_type": "display_data",
          "data": {
            "text/plain": [
              "\u001b[1m Non-trainable params: \u001b[0m\u001b[38;5;34m0\u001b[0m (0.00 B)\n"
            ],
            "text/html": [
              "<pre style=\"white-space:pre;overflow-x:auto;line-height:normal;font-family:Menlo,'DejaVu Sans Mono',consolas,'Courier New',monospace\"><span style=\"font-weight: bold\"> Non-trainable params: </span><span style=\"color: #00af00; text-decoration-color: #00af00\">0</span> (0.00 B)\n",
              "</pre>\n"
            ]
          },
          "metadata": {}
        },
        {
          "output_type": "stream",
          "name": "stdout",
          "text": [
            "Epoch 1/20\n",
            "\u001b[1m1250/1250\u001b[0m \u001b[32m━━━━━━━━━━━━━━━━━━━━\u001b[0m\u001b[37m\u001b[0m \u001b[1m48s\u001b[0m 34ms/step - accuracy: 0.4574 - loss: 1.2392 - val_accuracy: 0.5531 - val_loss: 1.0428\n",
            "Epoch 2/20\n",
            "\u001b[1m1250/1250\u001b[0m \u001b[32m━━━━━━━━━━━━━━━━━━━━\u001b[0m\u001b[37m\u001b[0m \u001b[1m79s\u001b[0m 33ms/step - accuracy: 0.5714 - loss: 0.9933 - val_accuracy: 0.5538 - val_loss: 1.0306\n",
            "Epoch 3/20\n",
            "\u001b[1m1250/1250\u001b[0m \u001b[32m━━━━━━━━━━━━━━━━━━━━\u001b[0m\u001b[37m\u001b[0m \u001b[1m42s\u001b[0m 33ms/step - accuracy: 0.6110 - loss: 0.9144 - val_accuracy: 0.5561 - val_loss: 1.0532\n",
            "Epoch 4/20\n",
            "\u001b[1m1250/1250\u001b[0m \u001b[32m━━━━━━━━━━━━━━━━━━━━\u001b[0m\u001b[37m\u001b[0m \u001b[1m42s\u001b[0m 33ms/step - accuracy: 0.6466 - loss: 0.8381 - val_accuracy: 0.5483 - val_loss: 1.0755\n",
            "Epoch 5/20\n",
            "\u001b[1m1250/1250\u001b[0m \u001b[32m━━━━━━━━━━━━━━━━━━━━\u001b[0m\u001b[37m\u001b[0m \u001b[1m41s\u001b[0m 33ms/step - accuracy: 0.6868 - loss: 0.7574 - val_accuracy: 0.5396 - val_loss: 1.1480\n"
          ]
        }
      ],
      "source": [
        "from tensorflow.keras.models import Sequential\n",
        "from tensorflow.keras.layers import Embedding, LSTM, Dense, Bidirectional, Dropout\n",
        "from tensorflow.keras.callbacks import EarlyStopping\n",
        "\n",
        "\n",
        "model = Sequential()\n",
        "model.add(Embedding(input_dim=vocab_size,\n",
        "                    output_dim=embedding_dim,\n",
        "                    weights=[embedding_matrix],\n",
        "                    input_length=max_len,  # use same padding length\n",
        "                    trainable=True))\n",
        "model.add(Bidirectional(LSTM(128, return_sequences=False)))\n",
        "model.add(Dropout(0.5))  # optional but helps reduce overfitting\n",
        "model.add(Dense(32, activation='relu'))\n",
        "model.add(Dense(5, activation='softmax'))  # 5 classes for ratings\n",
        "\n",
        "model.compile(loss='sparse_categorical_crossentropy', optimizer='adam', metrics=['accuracy'])\n",
        "model.summary()\n",
        "\n",
        "# Train\n",
        "early_stop = EarlyStopping(monitor='val_loss', patience=3, restore_best_weights=True)\n",
        "history = model.fit(X_train_pad, y_train, epochs=20, batch_size=64, validation_data=(X_test_pad, y_test),callbacks=[early_stop])\n"
      ]
    },
    {
      "cell_type": "code",
      "execution_count": 33,
      "id": "9nNToAtienFK",
      "metadata": {
        "id": "9nNToAtienFK",
        "colab": {
          "base_uri": "https://localhost:8080/"
        },
        "outputId": "35af94eb-2e15-4f1c-f1e3-2ce099a299fa"
      },
      "outputs": [
        {
          "output_type": "stream",
          "name": "stderr",
          "text": [
            "WARNING:absl:You are saving your model as an HDF5 file via `model.save()` or `keras.saving.save_model(model)`. This file format is considered legacy. We recommend using instead the native Keras format, e.g. `model.save('my_model.keras')` or `keras.saving.save_model(model, 'my_model.keras')`. \n"
          ]
        }
      ],
      "source": [
        "model.save(\"/content/drive/MyDrive/deep_imbalanced_model3.h5\")"
      ]
    },
    {
      "cell_type": "code",
      "execution_count": 33,
      "id": "vSP2yOX9uX0B",
      "metadata": {
        "id": "vSP2yOX9uX0B"
      },
      "outputs": [],
      "source": []
    }
  ],
  "metadata": {
    "colab": {
      "provenance": []
    },
    "kernelspec": {
      "display_name": "Python [conda env:base] *",
      "language": "python",
      "name": "conda-base-py"
    },
    "language_info": {
      "codemirror_mode": {
        "name": "ipython",
        "version": 3
      },
      "file_extension": ".py",
      "mimetype": "text/x-python",
      "name": "python",
      "nbconvert_exporter": "python",
      "pygments_lexer": "ipython3",
      "version": "3.12.7"
    }
  },
  "nbformat": 4,
  "nbformat_minor": 5
}