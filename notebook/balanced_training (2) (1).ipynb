{
 "cells": [
  {
   "cell_type": "markdown",
   "id": "e9edd4ac-2068-4c65-a343-a1b06a9c29da",
   "metadata": {},
   "source": [
    "### Import required Libraries "
   ]
  },
  {
   "cell_type": "code",
   "execution_count": 2,
   "id": "321cc7fa-2cb7-4be2-8f13-bc34dcf8daf3",
   "metadata": {},
   "outputs": [],
   "source": [
    "#  Data manipulation & visualization\n",
    "import pandas as pd\n",
    "import matplotlib.pyplot as plt\n",
    "import seaborn as sns\n",
    "\n",
    "#  Model building & evaluation\n",
    "from sklearn.model_selection import train_test_split\n",
    "from sklearn.feature_extraction.text import TfidfVectorizer \n",
    "from sklearn.linear_model import LogisticRegression\n",
    "from sklearn.metrics import classification_report, confusion_matrix\n",
    "\n",
    "#  NLP libraries: spaCy \n",
    "import spacy\n",
    "nlp = spacy.load(\"en_core_web_sm\")\n",
    "\n",
    "sns.set()"
   ]
  },
  {
   "cell_type": "code",
   "execution_count": 3,
   "id": "004ea6b9-82c1-4ea4-93d6-516c8a716841",
   "metadata": {},
   "outputs": [
    {
     "name": "stdout",
     "output_type": "stream",
     "text": [
      "Collecting en-core-web-sm==3.8.0\n",
      "  Downloading https://github.com/explosion/spacy-models/releases/download/en_core_web_sm-3.8.0/en_core_web_sm-3.8.0-py3-none-any.whl (12.8 MB)\n",
      "     ---------------------------------------- 0.0/12.8 MB ? eta -:--:--\n",
      "     ---------------------------------------- 0.0/12.8 MB ? eta -:--:--\n",
      "      --------------------------------------- 0.3/12.8 MB ? eta -:--:--\n",
      "     - ------------------------------------- 0.5/12.8 MB 699.0 kB/s eta 0:00:18\n",
      "     - ------------------------------------- 0.5/12.8 MB 699.0 kB/s eta 0:00:18\n",
      "     -- ------------------------------------ 0.8/12.8 MB 780.2 kB/s eta 0:00:16\n",
      "     --- ----------------------------------- 1.0/12.8 MB 811.6 kB/s eta 0:00:15\n",
      "     --- ----------------------------------- 1.0/12.8 MB 811.6 kB/s eta 0:00:15\n",
      "     --- ----------------------------------- 1.3/12.8 MB 798.6 kB/s eta 0:00:15\n",
      "     ---- ---------------------------------- 1.6/12.8 MB 814.1 kB/s eta 0:00:14\n",
      "     ----- --------------------------------- 1.8/12.8 MB 824.8 kB/s eta 0:00:14\n",
      "     ----- --------------------------------- 1.8/12.8 MB 824.8 kB/s eta 0:00:14\n",
      "     ------ -------------------------------- 2.1/12.8 MB 838.7 kB/s eta 0:00:13\n",
      "     ------- ------------------------------- 2.4/12.8 MB 843.9 kB/s eta 0:00:13\n",
      "     ------- ------------------------------- 2.6/12.8 MB 848.1 kB/s eta 0:00:13\n",
      "     -------- ------------------------------ 2.9/12.8 MB 864.6 kB/s eta 0:00:12\n",
      "     -------- ------------------------------ 2.9/12.8 MB 864.6 kB/s eta 0:00:12\n",
      "     --------- ----------------------------- 3.1/12.8 MB 878.6 kB/s eta 0:00:11\n",
      "     ---------- ---------------------------- 3.4/12.8 MB 898.8 kB/s eta 0:00:11\n",
      "     ----------- --------------------------- 3.7/12.8 MB 897.5 kB/s eta 0:00:11\n",
      "     ----------- --------------------------- 3.9/12.8 MB 892.9 kB/s eta 0:00:10\n",
      "     ------------ -------------------------- 4.2/12.8 MB 898.8 kB/s eta 0:00:10\n",
      "     ------------ -------------------------- 4.2/12.8 MB 898.8 kB/s eta 0:00:10\n",
      "     ------------- ------------------------- 4.5/12.8 MB 906.9 kB/s eta 0:00:10\n",
      "     -------------- ------------------------ 4.7/12.8 MB 908.2 kB/s eta 0:00:09\n",
      "     --------------- ----------------------- 5.0/12.8 MB 920.7 kB/s eta 0:00:09\n",
      "     --------------- ----------------------- 5.2/12.8 MB 929.2 kB/s eta 0:00:09\n",
      "     ---------------- ---------------------- 5.5/12.8 MB 937.2 kB/s eta 0:00:08\n",
      "     ----------------- --------------------- 5.8/12.8 MB 944.4 kB/s eta 0:00:08\n",
      "     ------------------ -------------------- 6.0/12.8 MB 956.1 kB/s eta 0:00:08\n",
      "     ------------------- ------------------- 6.3/12.8 MB 967.0 kB/s eta 0:00:07\n",
      "     ------------------- ------------------- 6.6/12.8 MB 974.8 kB/s eta 0:00:07\n",
      "     -------------------- ------------------ 6.8/12.8 MB 982.3 kB/s eta 0:00:07\n",
      "     --------------------- ----------------- 7.1/12.8 MB 984.6 kB/s eta 0:00:06\n",
      "     ---------------------- ---------------- 7.3/12.8 MB 993.4 kB/s eta 0:00:06\n",
      "     ----------------------- --------------- 7.6/12.8 MB 993.1 kB/s eta 0:00:06\n",
      "     ----------------------- --------------- 7.9/12.8 MB 992.8 kB/s eta 0:00:05\n",
      "     ------------------------ -------------- 8.1/12.8 MB 996.6 kB/s eta 0:00:05\n",
      "     -------------------------- ------------- 8.4/12.8 MB 1.0 MB/s eta 0:00:05\n",
      "     --------------------------- ------------ 8.7/12.8 MB 1.0 MB/s eta 0:00:05\n",
      "     --------------------------- ------------ 8.9/12.8 MB 1.0 MB/s eta 0:00:04\n",
      "     ---------------------------- ----------- 9.2/12.8 MB 1.0 MB/s eta 0:00:04\n",
      "     ---------------------------- ----------- 9.2/12.8 MB 1.0 MB/s eta 0:00:04\n",
      "     ---------------------------- ----------- 9.2/12.8 MB 1.0 MB/s eta 0:00:04\n",
      "     ---------------------------- ----------- 9.2/12.8 MB 1.0 MB/s eta 0:00:04\n",
      "     ---------------------------- ----------- 9.2/12.8 MB 1.0 MB/s eta 0:00:04\n",
      "     ---------------------------- ---------- 9.4/12.8 MB 942.5 kB/s eta 0:00:04\n",
      "     ---------------------------- ---------- 9.4/12.8 MB 942.5 kB/s eta 0:00:04\n",
      "     ---------------------------- ---------- 9.4/12.8 MB 942.5 kB/s eta 0:00:04\n",
      "     ---------------------------- ---------- 9.4/12.8 MB 942.5 kB/s eta 0:00:04\n",
      "     ---------------------------- ---------- 9.4/12.8 MB 942.5 kB/s eta 0:00:04\n",
      "     ---------------------------- ---------- 9.4/12.8 MB 942.5 kB/s eta 0:00:04\n",
      "     ---------------------------- ---------- 9.4/12.8 MB 942.5 kB/s eta 0:00:04\n",
      "     ----------------------------- --------- 9.7/12.8 MB 835.4 kB/s eta 0:00:04\n",
      "     ----------------------------- -------- 10.0/12.8 MB 838.8 kB/s eta 0:00:04\n",
      "     ------------------------------ ------- 10.2/12.8 MB 838.9 kB/s eta 0:00:04\n",
      "     ------------------------------ ------- 10.2/12.8 MB 838.9 kB/s eta 0:00:04\n",
      "     ------------------------------- ------ 10.5/12.8 MB 837.7 kB/s eta 0:00:03\n",
      "     ------------------------------- ------ 10.5/12.8 MB 837.7 kB/s eta 0:00:03\n",
      "     ------------------------------- ------ 10.7/12.8 MB 831.5 kB/s eta 0:00:03\n",
      "     ------------------------------- ------ 10.7/12.8 MB 831.5 kB/s eta 0:00:03\n",
      "     -------------------------------- ----- 11.0/12.8 MB 828.7 kB/s eta 0:00:03\n",
      "     --------------------------------- ---- 11.3/12.8 MB 828.0 kB/s eta 0:00:02\n",
      "     ---------------------------------- --- 11.5/12.8 MB 829.2 kB/s eta 0:00:02\n",
      "     ---------------------------------- --- 11.5/12.8 MB 829.2 kB/s eta 0:00:02\n",
      "     ---------------------------------- --- 11.5/12.8 MB 829.2 kB/s eta 0:00:02\n",
      "     ----------------------------------- -- 11.8/12.8 MB 813.0 kB/s eta 0:00:02\n",
      "     ----------------------------------- -- 11.8/12.8 MB 813.0 kB/s eta 0:00:02\n",
      "     ----------------------------------- -- 11.8/12.8 MB 813.0 kB/s eta 0:00:02\n",
      "     ----------------------------------- -- 11.8/12.8 MB 813.0 kB/s eta 0:00:02\n",
      "     ----------------------------------- -- 11.8/12.8 MB 813.0 kB/s eta 0:00:02\n",
      "     ----------------------------------- -- 12.1/12.8 MB 767.2 kB/s eta 0:00:01\n",
      "     ----------------------------------- -- 12.1/12.8 MB 767.2 kB/s eta 0:00:01\n",
      "     ------------------------------------ - 12.3/12.8 MB 768.7 kB/s eta 0:00:01\n",
      "     -------------------------------------  12.6/12.8 MB 769.3 kB/s eta 0:00:01\n",
      "     -------------------------------------  12.6/12.8 MB 769.3 kB/s eta 0:00:01\n",
      "     -------------------------------------- 12.8/12.8 MB 770.4 kB/s eta 0:00:00\n",
      "\u001b[38;5;2m[+] Download and installation successful\u001b[0m\n",
      "You can now load the package via spacy.load('en_core_web_sm')\n"
     ]
    }
   ],
   "source": [
    "!python -m spacy download en_core_web_sm\n"
   ]
  },
  {
   "cell_type": "markdown",
   "id": "d7f388fb-696c-468d-8a8e-44a6c2f114c3",
   "metadata": {},
   "source": [
    "## Load the Data"
   ]
  },
  {
   "cell_type": "code",
   "execution_count": 5,
   "id": "8d94d50b-e60d-428a-9112-f3a96521e710",
   "metadata": {},
   "outputs": [
    {
     "data": {
      "text/html": [
       "<div>\n",
       "<style scoped>\n",
       "    .dataframe tbody tr th:only-of-type {\n",
       "        vertical-align: middle;\n",
       "    }\n",
       "\n",
       "    .dataframe tbody tr th {\n",
       "        vertical-align: top;\n",
       "    }\n",
       "\n",
       "    .dataframe thead th {\n",
       "        text-align: right;\n",
       "    }\n",
       "</style>\n",
       "<table border=\"1\" class=\"dataframe\">\n",
       "  <thead>\n",
       "    <tr style=\"text-align: right;\">\n",
       "      <th></th>\n",
       "      <th>reviewerID</th>\n",
       "      <th>asin</th>\n",
       "      <th>reviewerName</th>\n",
       "      <th>helpful</th>\n",
       "      <th>reviewText</th>\n",
       "      <th>Rating</th>\n",
       "      <th>summary</th>\n",
       "      <th>reviewTime</th>\n",
       "      <th>review_length</th>\n",
       "    </tr>\n",
       "  </thead>\n",
       "  <tbody>\n",
       "    <tr>\n",
       "      <th>0</th>\n",
       "      <td>A7MRWQD30ZG1</td>\n",
       "      <td>B002OKLUGW</td>\n",
       "      <td>AmaZonWindowShopper</td>\n",
       "      <td>[0, 0]</td>\n",
       "      <td>the item was exactly as described but it makes...</td>\n",
       "      <td>4</td>\n",
       "      <td>NIce Product!</td>\n",
       "      <td>07 1, 2013</td>\n",
       "      <td>24</td>\n",
       "    </tr>\n",
       "    <tr>\n",
       "      <th>1</th>\n",
       "      <td>A247P51OUO683W</td>\n",
       "      <td>B005LGUCRE</td>\n",
       "      <td>M. Prentice \"Splaktar\"</td>\n",
       "      <td>[1, 1]</td>\n",
       "      <td>i picked this up at the tmo store the build qu...</td>\n",
       "      <td>3</td>\n",
       "      <td>Does not work with cases and arm is a bit short</td>\n",
       "      <td>06 22, 2012</td>\n",
       "      <td>204</td>\n",
       "    </tr>\n",
       "    <tr>\n",
       "      <th>2</th>\n",
       "      <td>A7M7JDSCN0HMM</td>\n",
       "      <td>B008DJIGR4</td>\n",
       "      <td>Paul Q</td>\n",
       "      <td>[0, 0]</td>\n",
       "      <td>the case fits the phone well except around the...</td>\n",
       "      <td>1</td>\n",
       "      <td>Poor fit around the volume button, skip this one</td>\n",
       "      <td>08 21, 2013</td>\n",
       "      <td>97</td>\n",
       "    </tr>\n",
       "    <tr>\n",
       "      <th>3</th>\n",
       "      <td>A2EK2UMX5LNCAI</td>\n",
       "      <td>B00687N0GK</td>\n",
       "      <td>Dave H</td>\n",
       "      <td>[0, 0]</td>\n",
       "      <td>very compact but found it kinda difficult to p...</td>\n",
       "      <td>3</td>\n",
       "      <td>Wish it was easier to place/Remove the phone</td>\n",
       "      <td>10 8, 2012</td>\n",
       "      <td>47</td>\n",
       "    </tr>\n",
       "    <tr>\n",
       "      <th>4</th>\n",
       "      <td>A4S2GMZIQKEHY</td>\n",
       "      <td>B004VN09LM</td>\n",
       "      <td>Eldude</td>\n",
       "      <td>[0, 0]</td>\n",
       "      <td>off the top i will say that depending on who y...</td>\n",
       "      <td>3</td>\n",
       "      <td>Its...okay</td>\n",
       "      <td>11 4, 2012</td>\n",
       "      <td>128</td>\n",
       "    </tr>\n",
       "    <tr>\n",
       "      <th>...</th>\n",
       "      <td>...</td>\n",
       "      <td>...</td>\n",
       "      <td>...</td>\n",
       "      <td>...</td>\n",
       "      <td>...</td>\n",
       "      <td>...</td>\n",
       "      <td>...</td>\n",
       "      <td>...</td>\n",
       "      <td>...</td>\n",
       "    </tr>\n",
       "    <tr>\n",
       "      <th>9995</th>\n",
       "      <td>A36XRXX2WQWAWC</td>\n",
       "      <td>B007Z0VXHM</td>\n",
       "      <td>Kanitra</td>\n",
       "      <td>[0, 0]</td>\n",
       "      <td>for the price this bumper is pretty good its d...</td>\n",
       "      <td>3</td>\n",
       "      <td>decent</td>\n",
       "      <td>12 14, 2012</td>\n",
       "      <td>39</td>\n",
       "    </tr>\n",
       "    <tr>\n",
       "      <th>9996</th>\n",
       "      <td>A2L0KSRC92EGK3</td>\n",
       "      <td>B00FUXV6QO</td>\n",
       "      <td>aaron</td>\n",
       "      <td>[0, 0]</td>\n",
       "      <td>if you are looking for a cheap case to protect...</td>\n",
       "      <td>3</td>\n",
       "      <td>nothing smart about it!!!!!</td>\n",
       "      <td>05 3, 2014</td>\n",
       "      <td>21</td>\n",
       "    </tr>\n",
       "    <tr>\n",
       "      <th>9997</th>\n",
       "      <td>A3PEM0PUG9YHD5</td>\n",
       "      <td>B00004WINT</td>\n",
       "      <td>usnrma</td>\n",
       "      <td>[0, 0]</td>\n",
       "      <td>these are the exact ones that i was looking fo...</td>\n",
       "      <td>3</td>\n",
       "      <td>They are ok</td>\n",
       "      <td>01 23, 2014</td>\n",
       "      <td>88</td>\n",
       "    </tr>\n",
       "    <tr>\n",
       "      <th>9998</th>\n",
       "      <td>A3LQVXPXFRZKGO</td>\n",
       "      <td>B0035R2QS4</td>\n",
       "      <td>vishal</td>\n",
       "      <td>[0, 0]</td>\n",
       "      <td>a compete waste of money and expectations too ...</td>\n",
       "      <td>1</td>\n",
       "      <td>never worked</td>\n",
       "      <td>04 23, 2014</td>\n",
       "      <td>26</td>\n",
       "    </tr>\n",
       "    <tr>\n",
       "      <th>9999</th>\n",
       "      <td>A1YVBCTFG5A46N</td>\n",
       "      <td>B009ZWLBFM</td>\n",
       "      <td>J. Borowic</td>\n",
       "      <td>[1, 1]</td>\n",
       "      <td>good price fast shippingi bought sixone for ca...</td>\n",
       "      <td>4</td>\n",
       "      <td>They work!</td>\n",
       "      <td>02 19, 2014</td>\n",
       "      <td>49</td>\n",
       "    </tr>\n",
       "  </tbody>\n",
       "</table>\n",
       "<p>10000 rows × 9 columns</p>\n",
       "</div>"
      ],
      "text/plain": [
       "          reviewerID        asin            reviewerName helpful  \\\n",
       "0       A7MRWQD30ZG1  B002OKLUGW     AmaZonWindowShopper  [0, 0]   \n",
       "1     A247P51OUO683W  B005LGUCRE  M. Prentice \"Splaktar\"  [1, 1]   \n",
       "2      A7M7JDSCN0HMM  B008DJIGR4                  Paul Q  [0, 0]   \n",
       "3     A2EK2UMX5LNCAI  B00687N0GK                  Dave H  [0, 0]   \n",
       "4      A4S2GMZIQKEHY  B004VN09LM                  Eldude  [0, 0]   \n",
       "...              ...         ...                     ...     ...   \n",
       "9995  A36XRXX2WQWAWC  B007Z0VXHM                 Kanitra  [0, 0]   \n",
       "9996  A2L0KSRC92EGK3  B00FUXV6QO                   aaron  [0, 0]   \n",
       "9997  A3PEM0PUG9YHD5  B00004WINT                  usnrma  [0, 0]   \n",
       "9998  A3LQVXPXFRZKGO  B0035R2QS4                  vishal  [0, 0]   \n",
       "9999  A1YVBCTFG5A46N  B009ZWLBFM              J. Borowic  [1, 1]   \n",
       "\n",
       "                                             reviewText  Rating  \\\n",
       "0     the item was exactly as described but it makes...       4   \n",
       "1     i picked this up at the tmo store the build qu...       3   \n",
       "2     the case fits the phone well except around the...       1   \n",
       "3     very compact but found it kinda difficult to p...       3   \n",
       "4     off the top i will say that depending on who y...       3   \n",
       "...                                                 ...     ...   \n",
       "9995  for the price this bumper is pretty good its d...       3   \n",
       "9996  if you are looking for a cheap case to protect...       3   \n",
       "9997  these are the exact ones that i was looking fo...       3   \n",
       "9998  a compete waste of money and expectations too ...       1   \n",
       "9999  good price fast shippingi bought sixone for ca...       4   \n",
       "\n",
       "                                               summary   reviewTime  \\\n",
       "0                                        NIce Product!   07 1, 2013   \n",
       "1      Does not work with cases and arm is a bit short  06 22, 2012   \n",
       "2     Poor fit around the volume button, skip this one  08 21, 2013   \n",
       "3         Wish it was easier to place/Remove the phone   10 8, 2012   \n",
       "4                                           Its...okay   11 4, 2012   \n",
       "...                                                ...          ...   \n",
       "9995                                            decent  12 14, 2012   \n",
       "9996                       nothing smart about it!!!!!   05 3, 2014   \n",
       "9997                                       They are ok  01 23, 2014   \n",
       "9998                                      never worked  04 23, 2014   \n",
       "9999                                        They work!  02 19, 2014   \n",
       "\n",
       "      review_length  \n",
       "0                24  \n",
       "1               204  \n",
       "2                97  \n",
       "3                47  \n",
       "4               128  \n",
       "...             ...  \n",
       "9995             39  \n",
       "9996             21  \n",
       "9997             88  \n",
       "9998             26  \n",
       "9999             49  \n",
       "\n",
       "[10000 rows x 9 columns]"
      ]
     },
     "execution_count": 5,
     "metadata": {},
     "output_type": "execute_result"
    }
   ],
   "source": [
    "# Load the balanced reviews dataset\n",
    "df = pd.read_csv('balanced_reviews_dataset3.csv')\n",
    "#display the balanced dataset\n",
    "df"
   ]
  },
  {
   "cell_type": "code",
   "execution_count": 6,
   "id": "88d9c72b-fcb1-40bd-9208-cfaffd7412b2",
   "metadata": {},
   "outputs": [],
   "source": [
    "df_two = df[['reviewText', 'Rating','review_length']]"
   ]
  },
  {
   "cell_type": "code",
   "execution_count": 7,
   "id": "d55d389c-410e-4541-8c6c-ecc54d3c464a",
   "metadata": {},
   "outputs": [
    {
     "data": {
      "text/html": [
       "<div>\n",
       "<style scoped>\n",
       "    .dataframe tbody tr th:only-of-type {\n",
       "        vertical-align: middle;\n",
       "    }\n",
       "\n",
       "    .dataframe tbody tr th {\n",
       "        vertical-align: top;\n",
       "    }\n",
       "\n",
       "    .dataframe thead th {\n",
       "        text-align: right;\n",
       "    }\n",
       "</style>\n",
       "<table border=\"1\" class=\"dataframe\">\n",
       "  <thead>\n",
       "    <tr style=\"text-align: right;\">\n",
       "      <th></th>\n",
       "      <th>reviewText</th>\n",
       "      <th>Rating</th>\n",
       "      <th>review_length</th>\n",
       "    </tr>\n",
       "  </thead>\n",
       "  <tbody>\n",
       "    <tr>\n",
       "      <th>0</th>\n",
       "      <td>the item was exactly as described but it makes...</td>\n",
       "      <td>4</td>\n",
       "      <td>24</td>\n",
       "    </tr>\n",
       "    <tr>\n",
       "      <th>1</th>\n",
       "      <td>i picked this up at the tmo store the build qu...</td>\n",
       "      <td>3</td>\n",
       "      <td>204</td>\n",
       "    </tr>\n",
       "    <tr>\n",
       "      <th>2</th>\n",
       "      <td>the case fits the phone well except around the...</td>\n",
       "      <td>1</td>\n",
       "      <td>97</td>\n",
       "    </tr>\n",
       "    <tr>\n",
       "      <th>3</th>\n",
       "      <td>very compact but found it kinda difficult to p...</td>\n",
       "      <td>3</td>\n",
       "      <td>47</td>\n",
       "    </tr>\n",
       "    <tr>\n",
       "      <th>4</th>\n",
       "      <td>off the top i will say that depending on who y...</td>\n",
       "      <td>3</td>\n",
       "      <td>128</td>\n",
       "    </tr>\n",
       "    <tr>\n",
       "      <th>...</th>\n",
       "      <td>...</td>\n",
       "      <td>...</td>\n",
       "      <td>...</td>\n",
       "    </tr>\n",
       "    <tr>\n",
       "      <th>9995</th>\n",
       "      <td>for the price this bumper is pretty good its d...</td>\n",
       "      <td>3</td>\n",
       "      <td>39</td>\n",
       "    </tr>\n",
       "    <tr>\n",
       "      <th>9996</th>\n",
       "      <td>if you are looking for a cheap case to protect...</td>\n",
       "      <td>3</td>\n",
       "      <td>21</td>\n",
       "    </tr>\n",
       "    <tr>\n",
       "      <th>9997</th>\n",
       "      <td>these are the exact ones that i was looking fo...</td>\n",
       "      <td>3</td>\n",
       "      <td>88</td>\n",
       "    </tr>\n",
       "    <tr>\n",
       "      <th>9998</th>\n",
       "      <td>a compete waste of money and expectations too ...</td>\n",
       "      <td>1</td>\n",
       "      <td>26</td>\n",
       "    </tr>\n",
       "    <tr>\n",
       "      <th>9999</th>\n",
       "      <td>good price fast shippingi bought sixone for ca...</td>\n",
       "      <td>4</td>\n",
       "      <td>49</td>\n",
       "    </tr>\n",
       "  </tbody>\n",
       "</table>\n",
       "<p>10000 rows × 3 columns</p>\n",
       "</div>"
      ],
      "text/plain": [
       "                                             reviewText  Rating  review_length\n",
       "0     the item was exactly as described but it makes...       4             24\n",
       "1     i picked this up at the tmo store the build qu...       3            204\n",
       "2     the case fits the phone well except around the...       1             97\n",
       "3     very compact but found it kinda difficult to p...       3             47\n",
       "4     off the top i will say that depending on who y...       3            128\n",
       "...                                                 ...     ...            ...\n",
       "9995  for the price this bumper is pretty good its d...       3             39\n",
       "9996  if you are looking for a cheap case to protect...       3             21\n",
       "9997  these are the exact ones that i was looking fo...       3             88\n",
       "9998  a compete waste of money and expectations too ...       1             26\n",
       "9999  good price fast shippingi bought sixone for ca...       4             49\n",
       "\n",
       "[10000 rows x 3 columns]"
      ]
     },
     "execution_count": 7,
     "metadata": {},
     "output_type": "execute_result"
    }
   ],
   "source": [
    "df_two"
   ]
  },
  {
   "cell_type": "code",
   "execution_count": 8,
   "id": "35f988c4-ec4c-452a-b980-5fe4da8cfe94",
   "metadata": {},
   "outputs": [
    {
     "data": {
      "text/plain": [
       "(10000, 3)"
      ]
     },
     "execution_count": 8,
     "metadata": {},
     "output_type": "execute_result"
    }
   ],
   "source": [
    "#shape of the dataset\n",
    "df_two.shape"
   ]
  },
  {
   "cell_type": "code",
   "execution_count": 9,
   "id": "ed00b896-cd4b-4e73-a291-ebe4915a0436",
   "metadata": {},
   "outputs": [
    {
     "data": {
      "text/plain": [
       "Index(['reviewText', 'Rating', 'review_length'], dtype='object')"
      ]
     },
     "execution_count": 9,
     "metadata": {},
     "output_type": "execute_result"
    }
   ],
   "source": [
    "#columns of the dataframe\n",
    "df_two.columns"
   ]
  },
  {
   "cell_type": "code",
   "execution_count": 10,
   "id": "eca38cf1-078c-4758-be51-c48bc764d6a3",
   "metadata": {},
   "outputs": [
    {
     "data": {
      "text/plain": [
       "reviewText       0\n",
       "Rating           0\n",
       "review_length    0\n",
       "dtype: int64"
      ]
     },
     "execution_count": 10,
     "metadata": {},
     "output_type": "execute_result"
    }
   ],
   "source": [
    "#checking if there is any null values present\n",
    "df_two.isnull().sum()"
   ]
  },
  {
   "cell_type": "code",
   "execution_count": 11,
   "id": "5dadc5d9-5559-4e30-99ae-4ae80203cf0b",
   "metadata": {},
   "outputs": [
    {
     "data": {
      "text/plain": [
       "1"
      ]
     },
     "execution_count": 11,
     "metadata": {},
     "output_type": "execute_result"
    }
   ],
   "source": [
    "#checking for the duplicate values\n",
    "df_two.duplicated().sum()"
   ]
  },
  {
   "cell_type": "code",
   "execution_count": 12,
   "id": "b26faae6-6999-45bb-842b-17fb74499995",
   "metadata": {},
   "outputs": [
    {
     "name": "stdout",
     "output_type": "stream",
     "text": [
      "\n",
      "⭐ Rating 1\n",
      "- 3000mah is roughly twice the capacity of an iphone 4 which i used for music and nike app while trail running the phone alone 1400mah could last 34 hours with audio gps and miscellaneous nearconstant activity it stands to reason that the anker 3000mah could at least double the usable span if not triple itafter a particular run i ran the phone down to 45 and plugged it into the anker while i entertained myself on the phone and waited for a long series of photographic exposures after an hour of charging the phone the anker had been drained and the phone was back on its own power without having been recharged further than another 15 by the ankerive got another battery cell thats at least four times heavier higher capacity also that doesnt selfdischarge nearly as badly as this but its half again as heavy as a loaded ultralight trail running backpack\n",
      "- this is not the same useful juice pack i have come to expect from mophie saw it at the apple store today and bought it with out a second thought i got as far as placing it in the case which was awkward to begin with then realized i needed a special adapter to use my headphone then realized it uses a micro usb not a lightning adapter which i have set up on my desk already for traveling the usb issue is not a huge deal but more of an annoyance but i use a wired headset frequently and having to use an extra adapter does not work if the other items were not a problem for you consider the fact itunes does not recognize the device when plugged in\n",
      "- a compete waste of money and expectations too small for apple category products and untrustworthy a completely meaningless item and shouldnt be admitted not amazon servers\n",
      "\n",
      "⭐ Rating 2\n",
      "- was using this as a stand for when i do facetime on my phone it broke when i bent it back too far only 12 an inch or so it uses a small spring to keep the clamp shut the spring is really weak if you bend it back to far i t will not work anymore\n",
      "- maybe it just didnt fully fit my air duct fully but it just didnt stay put to well and it felt super cheaply made\n",
      "- i was given an opportunity to review this item through the vine program and after having a chance to try it i think its was too expensive if you plan on using it to change your phone when you are travelingyou will need to purchase duracell powermat access case wireless charging case for iphone 5 to be able to charge your phone wirelesslyenough said why it isnt included at the already seemingly overinflated price im not sureif i need to change my phone quickly and not near an outlet id rather sit in my car and use my car charger rather than spend money for an additional attachment for this productnot recommended\n",
      "\n",
      "⭐ Rating 3\n",
      "- for the price this bumper is pretty good its definitely not the best but its far from the worst all of the cutouts match perfectly so thats a plus it is a little flimsy but i cant really complain\n",
      "- if you are looking for a cheap case to protect your screen this is the one for that and that only\n",
      "- these are the exact ones that i was looking for but there is one problem they are supposed to be clear but they arrived yellowed in the package it is obvious that they are new but they have yellowed and are no longer clear i bought these to replace existing ones that i have that have yellowed but not to the extent of these new ones i have had the previous ones since 2010 i will keep as spares but am unhappy with the condition of these eargels\n",
      "\n",
      "⭐ Rating 4\n",
      "- these are great quality headphones i love the builtin forward and pause buttons good sound overall for oem you wont be disappointed with these\n",
      "- ive used this bluetooth for close to three years it worked very well for a long time but recently the sound quality is beginning to wane making it hard to hear it fades in and out from moderately good sound to really poor sound\n",
      "- good price fast shippingi bought sixone for car office home office three for kidsfits a little tight at the iphone or ipad connector but they work and charge the device just finewe shall see how long they last but i would recommendavailable in multiple colors is a plus too\n",
      "\n",
      "⭐ Rating 5\n",
      "- this case is now my goto case i use it as my daily for work construction it is rugged and durable i use to use a maxboost shell holster combo because it was also very durable i still like it but this tudia is better because it has a slimmer profile and its bumper border is very rigid it absorbs the drop not the phone the case does have flexibility but the bumper is very strong in fact watch my video on this case on my youtube channel mikepado\n",
      "- my husband grew tired of having to replace the otter box for his iphone 4 because the otter box stretches and warps he read about this one online and it has been a great case no complaints and no damage to the phone including a few drops\n",
      "- all my friends that have a galaxy s 2 wants a cover like this i guess i will be order more for xmas gifts\n"
     ]
    }
   ],
   "source": [
    "#display 3 full sample reviews per rating\n",
    "for rating in sorted(df_two['Rating'].unique()):\n",
    "    print(f\"\\n⭐ Rating {rating}\")\n",
    "    reviews = df[df['Rating'] == rating].tail(3)\n",
    "    for _, row in reviews.iterrows():\n",
    "        print(f\"- {row['reviewText']}\")\n"
   ]
  },
  {
   "cell_type": "code",
   "execution_count": 13,
   "id": "e8df68b5-6040-4d82-ad2a-76399dafe3fa",
   "metadata": {},
   "outputs": [
    {
     "name": "stderr",
     "output_type": "stream",
     "text": [
      "C:\\Users\\TOSHIBA\\AppData\\Local\\Temp\\ipykernel_7560\\2645031176.py:1: SettingWithCopyWarning: \n",
      "A value is trying to be set on a copy of a slice from a DataFrame.\n",
      "Try using .loc[row_indexer,col_indexer] = value instead\n",
      "\n",
      "See the caveats in the documentation: https://pandas.pydata.org/pandas-docs/stable/user_guide/indexing.html#returning-a-view-versus-a-copy\n",
      "  df_two['word_count'] = df_two['reviewText'].apply(lambda x: len(str(x).split()))\n"
     ]
    }
   ],
   "source": [
    "df_two['word_count'] = df_two['reviewText'].apply(lambda x: len(str(x).split()))"
   ]
  },
  {
   "cell_type": "code",
   "execution_count": 14,
   "id": "f07121dd-882e-432c-8c83-043d14218f31",
   "metadata": {},
   "outputs": [
    {
     "name": "stdout",
     "output_type": "stream",
     "text": [
      "         count     mean        std  min   25%   50%    75%    max\n",
      "Rating                                                           \n",
      "1       2000.0  66.5735  57.399486  4.0  27.0  46.0   82.0  348.0\n",
      "2       2000.0  79.1530  68.230281  4.0  31.0  53.5  102.0  348.0\n",
      "3       2000.0  79.1330  71.235585  4.0  29.0  50.0  104.0  350.0\n",
      "4       2000.0  82.5520  73.502752  4.0  30.0  54.0  106.0  349.0\n",
      "5       2000.0  66.9570  64.794122  4.0  26.0  40.5   77.0  347.0\n"
     ]
    }
   ],
   "source": [
    "#display the statistics of the word count\n",
    "min_word_counts = df_two.groupby('Rating')['word_count'].describe()\n",
    "print(min_word_counts)\n"
   ]
  },
  {
   "cell_type": "code",
   "execution_count": 15,
   "id": "821d526d-afe4-4ddb-bf50-dcd50fa01053",
   "metadata": {},
   "outputs": [
    {
     "data": {
      "text/html": [
       "<div>\n",
       "<style scoped>\n",
       "    .dataframe tbody tr th:only-of-type {\n",
       "        vertical-align: middle;\n",
       "    }\n",
       "\n",
       "    .dataframe tbody tr th {\n",
       "        vertical-align: top;\n",
       "    }\n",
       "\n",
       "    .dataframe thead th {\n",
       "        text-align: right;\n",
       "    }\n",
       "</style>\n",
       "<table border=\"1\" class=\"dataframe\">\n",
       "  <thead>\n",
       "    <tr style=\"text-align: right;\">\n",
       "      <th></th>\n",
       "      <th>reviewText</th>\n",
       "      <th>Rating</th>\n",
       "      <th>review_length</th>\n",
       "      <th>word_count</th>\n",
       "    </tr>\n",
       "  </thead>\n",
       "  <tbody>\n",
       "    <tr>\n",
       "      <th>0</th>\n",
       "      <td>the item was exactly as described but it makes...</td>\n",
       "      <td>4</td>\n",
       "      <td>24</td>\n",
       "      <td>24</td>\n",
       "    </tr>\n",
       "    <tr>\n",
       "      <th>1</th>\n",
       "      <td>i picked this up at the tmo store the build qu...</td>\n",
       "      <td>3</td>\n",
       "      <td>204</td>\n",
       "      <td>204</td>\n",
       "    </tr>\n",
       "    <tr>\n",
       "      <th>2</th>\n",
       "      <td>the case fits the phone well except around the...</td>\n",
       "      <td>1</td>\n",
       "      <td>97</td>\n",
       "      <td>97</td>\n",
       "    </tr>\n",
       "    <tr>\n",
       "      <th>3</th>\n",
       "      <td>very compact but found it kinda difficult to p...</td>\n",
       "      <td>3</td>\n",
       "      <td>47</td>\n",
       "      <td>47</td>\n",
       "    </tr>\n",
       "    <tr>\n",
       "      <th>4</th>\n",
       "      <td>off the top i will say that depending on who y...</td>\n",
       "      <td>3</td>\n",
       "      <td>128</td>\n",
       "      <td>128</td>\n",
       "    </tr>\n",
       "    <tr>\n",
       "      <th>...</th>\n",
       "      <td>...</td>\n",
       "      <td>...</td>\n",
       "      <td>...</td>\n",
       "      <td>...</td>\n",
       "    </tr>\n",
       "    <tr>\n",
       "      <th>9995</th>\n",
       "      <td>for the price this bumper is pretty good its d...</td>\n",
       "      <td>3</td>\n",
       "      <td>39</td>\n",
       "      <td>39</td>\n",
       "    </tr>\n",
       "    <tr>\n",
       "      <th>9996</th>\n",
       "      <td>if you are looking for a cheap case to protect...</td>\n",
       "      <td>3</td>\n",
       "      <td>21</td>\n",
       "      <td>21</td>\n",
       "    </tr>\n",
       "    <tr>\n",
       "      <th>9997</th>\n",
       "      <td>these are the exact ones that i was looking fo...</td>\n",
       "      <td>3</td>\n",
       "      <td>88</td>\n",
       "      <td>88</td>\n",
       "    </tr>\n",
       "    <tr>\n",
       "      <th>9998</th>\n",
       "      <td>a compete waste of money and expectations too ...</td>\n",
       "      <td>1</td>\n",
       "      <td>26</td>\n",
       "      <td>26</td>\n",
       "    </tr>\n",
       "    <tr>\n",
       "      <th>9999</th>\n",
       "      <td>good price fast shippingi bought sixone for ca...</td>\n",
       "      <td>4</td>\n",
       "      <td>49</td>\n",
       "      <td>49</td>\n",
       "    </tr>\n",
       "  </tbody>\n",
       "</table>\n",
       "<p>10000 rows × 4 columns</p>\n",
       "</div>"
      ],
      "text/plain": [
       "                                             reviewText  Rating  \\\n",
       "0     the item was exactly as described but it makes...       4   \n",
       "1     i picked this up at the tmo store the build qu...       3   \n",
       "2     the case fits the phone well except around the...       1   \n",
       "3     very compact but found it kinda difficult to p...       3   \n",
       "4     off the top i will say that depending on who y...       3   \n",
       "...                                                 ...     ...   \n",
       "9995  for the price this bumper is pretty good its d...       3   \n",
       "9996  if you are looking for a cheap case to protect...       3   \n",
       "9997  these are the exact ones that i was looking fo...       3   \n",
       "9998  a compete waste of money and expectations too ...       1   \n",
       "9999  good price fast shippingi bought sixone for ca...       4   \n",
       "\n",
       "      review_length  word_count  \n",
       "0                24          24  \n",
       "1               204         204  \n",
       "2                97          97  \n",
       "3                47          47  \n",
       "4               128         128  \n",
       "...             ...         ...  \n",
       "9995             39          39  \n",
       "9996             21          21  \n",
       "9997             88          88  \n",
       "9998             26          26  \n",
       "9999             49          49  \n",
       "\n",
       "[10000 rows x 4 columns]"
      ]
     },
     "execution_count": 15,
     "metadata": {},
     "output_type": "execute_result"
    }
   ],
   "source": [
    "df_two"
   ]
  },
  {
   "cell_type": "markdown",
   "id": "4a8712aa-d4c6-4805-8c4d-00ddb0925c98",
   "metadata": {},
   "source": [
    "## Data Visualisation\n",
    "### Bar graph for Rating distribution"
   ]
  },
  {
   "cell_type": "code",
   "execution_count": 17,
   "id": "41b310f3-3e62-4592-9736-c19a30a36629",
   "metadata": {},
   "outputs": [
    {
     "data": {
      "image/png": "[encoded data removed]",
      "text/plain": [
       "<Figure size 800x500 with 1 Axes>"
      ]
     },
     "metadata": {},
     "output_type": "display_data"
    }
   ],
   "source": [
    "#  Visualize the distribution of review ratings\n",
    "\n",
    "plt.figure(figsize=(8, 5))  # Set figure size\n",
    "\n",
    "# Create a count plot for the 'Rating' column\n",
    "sns.countplot(x='Rating', data=df_two)\n",
    "\n",
    "# Add plot titles and labels\n",
    "plt.title(\"Rating Distribution\", fontsize=14)\n",
    "plt.xlabel(\"Rating\", fontsize=12)\n",
    "plt.ylabel(\"Number of Reviews\", fontsize=12)\n",
    "\n",
    "# Display the plot\n",
    "plt.tight_layout()\n",
    "plt.show()\n"
   ]
  },
  {
   "cell_type": "markdown",
   "id": "2a8e0a20-456c-429b-89b9-304dd2544671",
   "metadata": {},
   "source": [
    "###  Review Length Distribution using Histogram"
   ]
  },
  {
   "cell_type": "code",
   "execution_count": 19,
   "id": "970da29b-7c40-49f1-a52d-1fb9af699160",
   "metadata": {},
   "outputs": [
    {
     "data": {
      "image/png": "[encoded data removed]",
      "text/plain": [
       "<Figure size 1000x500 with 1 Axes>"
      ]
     },
     "metadata": {},
     "output_type": "display_data"
    }
   ],
   "source": [
    "# Visualize the distribution of review lengths (number of words per review)\n",
    "\n",
    "plt.figure(figsize=(10, 5))  # Set the size of the plot\n",
    "\n",
    "# Create a histogram of review lengths with a KDE (smoothed line)\n",
    "sns.histplot(data=df_two, x='review_length', bins=50, kde=True, color='skyblue')\n",
    "\n",
    "# Add titles and axis labels\n",
    "plt.title(\"Review Length Distribution\", fontsize=14)\n",
    "plt.xlabel(\"Number of Words\", fontsize=12)\n",
    "plt.ylabel(\"Number of Reviews\", fontsize=12)\n",
    "\n",
    "# Improve layout and display the plot\n",
    "plt.tight_layout()\n",
    "plt.show()\n",
    "\n"
   ]
  },
  {
   "cell_type": "markdown",
   "id": "25563631-7a8c-4c99-9210-e92ce940b0dc",
   "metadata": {},
   "source": [
    "###  Visualize rating distribution using a pie chart\n"
   ]
  },
  {
   "cell_type": "code",
   "execution_count": 21,
   "id": "2db6b920-8b43-4181-8dcd-b131ca75b3be",
   "metadata": {},
   "outputs": [],
   "source": [
    "# Count the number of reviews per rating (sorted by rating value)\n",
    "rating_counts = df_two['Rating'].value_counts().sort_index()"
   ]
  },
  {
   "cell_type": "code",
   "execution_count": 22,
   "id": "d457976f-68c1-4a7c-8bd4-0aba5ba7b7c4",
   "metadata": {},
   "outputs": [
    {
     "data": {
      "image/png": "[encoded data removed]",
      "text/plain": [
       "<Figure size 700x700 with 1 Axes>"
      ]
     },
     "metadata": {},
     "output_type": "display_data"
    }
   ],
   "source": [
    "# Labels for pie slices (e.g., '1', '2', ..., '5')\n",
    "labels = rating_counts.index.astype(str)\n",
    "#Corresponding values (number of reviews per rating)\n",
    "sizes = rating_counts.values\n",
    "\n",
    "# Plot pie chart\n",
    "plt.figure(figsize=(7, 7))\n",
    "plt.pie(sizes, labels=labels, autopct='%1.1f%%', startangle=140, colors=plt.cm.Pastel1.colors)\n",
    "plt.title('Distribution of Review Ratings')\n",
    "plt.axis('equal')  # Equal aspect ratio makes the pie chart circular\n",
    "plt.show()"
   ]
  },
  {
   "cell_type": "markdown",
   "id": "864c33d7-ae95-45b6-a3be-3a452634e7a1",
   "metadata": {},
   "source": [
    "## Train-Test-Split"
   ]
  },
  {
   "cell_type": "code",
   "execution_count": 24,
   "id": "62a5443a-96e8-4c41-872c-0f25103e7979",
   "metadata": {},
   "outputs": [],
   "source": [
    "#  Split training and testing data\n",
    "X_train, X_test, y_train, y_test = train_test_split(df_two['reviewText'], df_two['Rating'], test_size=0.2, random_state=42,stratify=df_two['Rating'] )"
   ]
  },
  {
   "cell_type": "markdown",
   "id": "536a09cf-47ce-4958-83a2-6b5d314b0ac7",
   "metadata": {},
   "source": [
    "### Lemmatization and Stopword Removal"
   ]
  },
  {
   "cell_type": "code",
   "execution_count": 26,
   "id": "83d9478c-63e4-41c3-b5c0-3f1208d8280c",
   "metadata": {},
   "outputs": [],
   "source": [
    "def spacy_preprocess(text):\n",
    "    \"\"\"\n",
    "    Preprocess text using spaCy:\n",
    "    - Tokenize the text\n",
    "    - Remove stopwords and space tokens using spaCy\n",
    "    - Lemmatize using spaCy\n",
    "\n",
    "    Args:\n",
    "        text (str): Input text\n",
    "\n",
    "    Returns:\n",
    "        str: Cleaned and lemmatized text\n",
    "    \"\"\"\n",
    "    # Process the text using spaCy\n",
    "    doc = nlp(text)\n",
    "\n",
    "    # Filter and lemmatize\n",
    "    tokens = [\n",
    "        token.lemma_                      # spaCy lemmatization\n",
    "        for token in doc\n",
    "        if not token.is_stop and         # spaCy stopword removal\n",
    "           not token.is_space and\n",
    "           token.is_alpha                # Keep only alphabetic words (optional)\n",
    "    ]\n",
    "\n",
    "    return ' '.join(tokens)\n"
   ]
  },
  {
   "cell_type": "code",
   "execution_count": 27,
   "id": "54f6827f-0cf2-4e8a-8240-aa2952855177",
   "metadata": {},
   "outputs": [
    {
     "name": "stdout",
     "output_type": "stream",
     "text": [
      "[\"'d\", \"'ll\", \"'m\", \"'re\", \"'s\", \"'ve\", 'a', 'about', 'above', 'across', 'after', 'afterwards', 'again', 'against', 'all', 'almost', 'alone', 'along', 'already', 'also', 'although', 'always', 'am', 'among', 'amongst', 'amount', 'an', 'and', 'another', 'any', 'anyhow', 'anyone', 'anything', 'anyway', 'anywhere', 'are', 'around', 'as', 'at', 'back', 'be', 'became', 'because', 'become', 'becomes', 'becoming', 'been', 'before', 'beforehand', 'behind', 'being', 'below', 'beside', 'besides', 'between', 'beyond', 'both', 'bottom', 'but', 'by', 'ca', 'call', 'can', 'cannot', 'could', 'did', 'do', 'does', 'doing', 'done', 'down', 'due', 'during', 'each', 'eight', 'either', 'eleven', 'else', 'elsewhere', 'empty', 'enough', 'even', 'ever', 'every', 'everyone', 'everything', 'everywhere', 'except', 'few', 'fifteen', 'fifty', 'first', 'five', 'for', 'former', 'formerly', 'forty', 'four', 'from', 'front', 'full', 'further', 'get', 'give', 'go', 'had', 'has', 'have', 'he', 'hence', 'her', 'here', 'hereafter', 'hereby', 'herein', 'hereupon', 'hers', 'herself', 'him', 'himself', 'his', 'how', 'however', 'hundred', 'i', 'if', 'in', 'indeed', 'into', 'is', 'it', 'its', 'itself', 'just', 'keep', 'last', 'latter', 'latterly', 'least', 'less', 'made', 'make', 'many', 'may', 'me', 'meanwhile', 'might', 'mine', 'more', 'moreover', 'most', 'mostly', 'move', 'much', 'must', 'my', 'myself', \"n't\", 'name', 'namely', 'neither', 'never', 'nevertheless', 'next', 'nine', 'no', 'nobody', 'none', 'noone', 'nor', 'not', 'nothing', 'now', 'nowhere', 'n‘t', 'n’t', 'of', 'off', 'often', 'on', 'once', 'one', 'only', 'onto', 'or', 'other', 'others', 'otherwise', 'our', 'ours', 'ourselves', 'out', 'over', 'own', 'part', 'per', 'perhaps', 'please', 'put', 'quite', 'rather', 're', 'really', 'regarding', 'same', 'say', 'see', 'seem', 'seemed', 'seeming', 'seems', 'serious', 'several', 'she', 'should', 'show', 'side', 'since', 'six', 'sixty', 'so', 'some', 'somehow', 'someone', 'something', 'sometime', 'sometimes', 'somewhere', 'still', 'such', 'take', 'ten', 'than', 'that', 'the', 'their', 'them', 'themselves', 'then', 'thence', 'there', 'thereafter', 'thereby', 'therefore', 'therein', 'thereupon', 'these', 'they', 'third', 'this', 'those', 'though', 'three', 'through', 'throughout', 'thru', 'thus', 'to', 'together', 'too', 'top', 'toward', 'towards', 'twelve', 'twenty', 'two', 'under', 'unless', 'until', 'up', 'upon', 'us', 'used', 'using', 'various', 'very', 'via', 'was', 'we', 'well', 'were', 'what', 'whatever', 'when', 'whence', 'whenever', 'where', 'whereafter', 'whereas', 'whereby', 'wherein', 'whereupon', 'wherever', 'whether', 'which', 'while', 'whither', 'who', 'whoever', 'whole', 'whom', 'whose', 'why', 'will', 'with', 'within', 'without', 'would', 'yet', 'you', 'your', 'yours', 'yourself', 'yourselves', '‘d', '‘ll', '‘m', '‘re', '‘s', '‘ve', '’d', '’ll', '’m', '’re', '’s', '’ve']\n"
     ]
    }
   ],
   "source": [
    "#print the list of stopwords \n",
    "print(sorted(nlp.Defaults.stop_words))"
   ]
  },
  {
   "cell_type": "code",
   "execution_count": 28,
   "id": "1deb9288-0078-4b9b-9959-3746005a80f2",
   "metadata": {},
   "outputs": [],
   "source": [
    "# Apply stopword removal and lemmatization to the training and test text data\n",
    "\n",
    "# Apply preprocessing to each review in the training set\n",
    "X_train = X_train.apply(spacy_preprocess)\n",
    "\n",
    "# Apply preprocessing to each review in the test set\n",
    "X_test = X_test.apply(spacy_preprocess)\n"
   ]
  },
  {
   "cell_type": "code",
   "execution_count": 29,
   "id": "eedb63f6-6d87-4f1f-82e7-efdd70a2d1cf",
   "metadata": {},
   "outputs": [
    {
     "name": "stdout",
     "output_type": "stream",
     "text": [
      "['buy cord month ago pink problem use night charger decide trip use case pink go take awhile arrive not work pink forever charge work maybe get bad pink one work great use recommend certain not great get job guess'\n",
      " 'pleased use clip come stylus wand stay'\n",
      " 'receive car charger week completely break open get sprint replace try avoid'\n",
      " 'small soft rubber tip allow select exactly want husband large hand thick finger trouble type keypad htc evo g get will not let swipe sticky swipe not problem not require precision typing get mean spare case get lose great deal highly recommend'\n",
      " 'work great little month die replace thing happen stay work perfect maybe get bad batch']\n"
     ]
    }
   ],
   "source": [
    "#shows the stopword removal and lemmatized text \n",
    "print(X_train.sample(5).values)"
   ]
  },
  {
   "cell_type": "code",
   "execution_count": 30,
   "id": "e31541c3-a86f-4ba4-bf63-7fdc6da43ee9",
   "metadata": {},
   "outputs": [],
   "source": [
    "# Initialize and fit TF-IDF on training only\n",
    "tfidf = TfidfVectorizer(max_features=5000)  \n",
    "X_train_tfidf = tfidf.fit_transform(X_train)\n",
    "# Transform test using the same fitted vectorizer\n",
    "X_test_tfidf = tfidf.transform(X_test)"
   ]
  },
  {
   "cell_type": "code",
   "execution_count": 31,
   "id": "7ecd3368-89c9-41c2-b96a-cc2c5dc0ec52",
   "metadata": {},
   "outputs": [],
   "source": [
    "from sklearn.ensemble import RandomForestClassifier\n",
    "\n",
    "model = RandomForestClassifier(n_estimators=200, random_state=42)\n",
    "model.fit(X_train_tfidf, y_train)\n",
    "y_pred = model.predict(X_test_tfidf)\n"
   ]
  },
  {
   "cell_type": "code",
   "execution_count": 32,
   "id": "624d8d50-a9a3-478f-b3ae-c2ab3d23b040",
   "metadata": {},
   "outputs": [
    {
     "name": "stdout",
     "output_type": "stream",
     "text": [
      "              precision    recall  f1-score   support\n",
      "\n",
      "           1       0.45      0.65      0.53       400\n",
      "           2       0.29      0.19      0.23       400\n",
      "           3       0.34      0.28      0.30       400\n",
      "           4       0.40      0.37      0.38       400\n",
      "           5       0.52      0.61      0.56       400\n",
      "\n",
      "    accuracy                           0.42      2000\n",
      "   macro avg       0.40      0.42      0.40      2000\n",
      "weighted avg       0.40      0.42      0.40      2000\n",
      "\n"
     ]
    },
    {
     "data": {
      "image/png": "[encoded data removed]",
      "text/plain": [
       "<Figure size 640x480 with 2 Axes>"
      ]
     },
     "metadata": {},
     "output_type": "display_data"
    }
   ],
   "source": [
    "# Classification report\n",
    "print(classification_report(y_test, y_pred))\n",
    "\n",
    "from sklearn.metrics import ConfusionMatrixDisplay\n",
    "\n",
    "cm = confusion_matrix(y_test, y_pred, labels=sorted(y_test.unique()))\n",
    "disp = ConfusionMatrixDisplay(confusion_matrix=cm, display_labels=sorted(y_test.unique()))\n",
    "disp.plot(cmap='Blues')\n",
    "plt.title(\"Confusion Matrix\")\n",
    "plt.show()\n"
   ]
  },
  {
   "cell_type": "code",
   "execution_count": null,
   "id": "b0e10270-d5e8-49f6-8362-79f2e384b023",
   "metadata": {},
   "outputs": [],
   "source": []
  },
  {
   "cell_type": "code",
   "execution_count": null,
   "id": "d026b762-001f-4bdd-a3f2-c9b7243c3f46",
   "metadata": {},
   "outputs": [],
   "source": []
  }
 ],
 "metadata": {
  "kernelspec": {
   "display_name": "Python [conda env:base] *",
   "language": "python",
   "name": "conda-base-py"
  },
  "language_info": {
   "codemirror_mode": {
    "name": "ipython",
    "version": 3
   },
   "file_extension": ".py",
   "mimetype": "text/x-python",
   "name": "python",
   "nbconvert_exporter": "python",
   "pygments_lexer": "ipython3",
   "version": "3.12.7"
  }
 },
 "nbformat": 4,
 "nbformat_minor": 5
}
