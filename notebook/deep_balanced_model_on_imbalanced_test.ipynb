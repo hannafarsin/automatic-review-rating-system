{
 "cells": [
  {
   "cell_type": "code",
   "execution_count": 1,
   "id": "8ac1116e-331f-49d9-8c81-dc51a01a4572",
   "metadata": {},
   "outputs": [
    {
     "name": "stderr",
     "output_type": "stream",
     "text": [
      "WARNING:absl:Compiled the loaded model, but the compiled metrics have yet to be built. `model.compile_metrics` will be empty until you train or evaluate the model.\n"
     ]
    }
   ],
   "source": [
    "from tensorflow.keras.models import load_model\n",
    "import pickle\n",
    "\n",
    "# Load balanced model\n",
    "balanced_model = load_model('deep_balanced_model4.h5')\n",
    "\n",
    "# Load tokenizer used during balanced training\n",
    "with open('deep_tokenizer_balanced.pkl', 'rb') as f:\n",
    "    tokenizer_bal = pickle.load(f)\n",
    "\n",
    "# Load maxlen\n",
    "with open('maxlen_balanced1.pkl', 'rb') as f:\n",
    "    max_len_bal = pickle.load(f)\n"
   ]
  },
  {
   "cell_type": "code",
   "execution_count": 2,
   "id": "a6f65b36-14ee-45bc-ba17-1601fdb00ee5",
   "metadata": {},
   "outputs": [],
   "source": [
    "import pandas as pd\n",
    "\n",
    "import pandas as pd\n",
    "\n",
    "X_test = pd.read_csv(\"X_test_imbalanced.csv\")\n",
    "y_test = pd.read_csv(\"y_test_imbalanced.csv\")\n",
    "\n",
    "\n",
    "# Fix labels to start from 0 (i.e., 1–5 → 0–4)\n",
    "y_test['Rating'] -= 1\n",
    "\n",
    "# Separate features and labels\n",
    "X_imbalanced_test = X_test['review_text']\n",
    "y_imbalanced_test = y_test['Rating']\n"
   ]
  },
  {
   "cell_type": "code",
   "execution_count": 3,
   "id": "6548c94a-1b0d-4928-868a-3f8d8a0657de",
   "metadata": {},
   "outputs": [],
   "source": [
    "import spacy\n",
    "nlp = spacy.load(\"en_core_web_sm\", disable=[\"parser\", \"ner\"])\n",
    "\n",
    "def spacy_preprocess_pipe(texts):\n",
    "    processed = []\n",
    "    for doc in nlp.pipe(texts, batch_size=1000):\n",
    "        tokens = [token.lemma_ for token in doc if not token.is_stop and token.is_alpha]\n",
    "        processed.append(\" \".join(tokens))\n",
    "    return processed\n",
    "\n",
    "X_imbalanced_test_cleaned = pd.Series(spacy_preprocess_pipe(X_imbalanced_test))\n"
   ]
  },
  {
   "cell_type": "code",
   "execution_count": 4,
   "id": "0f1cb636-7487-45bf-9c6c-581b77174c9b",
   "metadata": {},
   "outputs": [],
   "source": [
    "from tensorflow.keras.preprocessing.sequence import pad_sequences\n",
    "\n",
    "X_test_seq = tokenizer_bal.texts_to_sequences(X_imbalanced_test_cleaned)\n",
    "X_test_pad = pad_sequences(X_test_seq, maxlen=max_len_bal, padding='post', truncating='post')\n"
   ]
  },
  {
   "cell_type": "code",
   "execution_count": 5,
   "id": "7d0af68a-6a3c-400b-bcfa-c154cba897bd",
   "metadata": {},
   "outputs": [
    {
     "name": "stdout",
     "output_type": "stream",
     "text": [
      "\u001b[1m625/625\u001b[0m \u001b[32m━━━━━━━━━━━━━━━━━━━━\u001b[0m\u001b[37m\u001b[0m \u001b[1m84s\u001b[0m 134ms/step\n",
      "Accuracy: 0.5528\n",
      "              precision    recall  f1-score   support\n",
      "\n",
      "           0       0.44      0.82      0.58      2000\n",
      "           1       0.53      0.33      0.40      3000\n",
      "           2       0.61      0.54      0.57      5000\n",
      "           3       0.62      0.48      0.54      6000\n",
      "           4       0.53      0.72      0.61      4000\n",
      "\n",
      "    accuracy                           0.55     20000\n",
      "   macro avg       0.55      0.58      0.54     20000\n",
      "weighted avg       0.57      0.55      0.55     20000\n",
      "\n",
      "Confusion Matrix:\n",
      " [[1645   89   99   60  107]\n",
      " [ 774  975  921  192  138]\n",
      " [ 578  653 2706  763  300]\n",
      " [ 463   83  610 2864 1980]\n",
      " [ 254   27  105  748 2866]]\n"
     ]
    }
   ],
   "source": [
    "import numpy as np\n",
    "from sklearn.metrics import accuracy_score, classification_report, confusion_matrix\n",
    "\n",
    "# Predict\n",
    "y_pred_probs = balanced_model.predict(X_test_pad)\n",
    "y_pred = np.argmax(y_pred_probs, axis=1)\n",
    "\n",
    "# Evaluate\n",
    "print(\"Accuracy:\", accuracy_score(y_imbalanced_test, y_pred))\n",
    "print(classification_report(y_imbalanced_test, y_pred, digits=2))\n",
    "print(\"Confusion Matrix:\\n\", confusion_matrix(y_imbalanced_test, y_pred))\n"
   ]
  },
  {
   "cell_type": "code",
   "execution_count": null,
   "id": "cfbd16dd-c5d3-4da3-8281-88582461760c",
   "metadata": {},
   "outputs": [],
   "source": []
  },
  {
   "cell_type": "code",
   "execution_count": null,
   "id": "3aa4165c-19d1-45d7-9c06-b32723f7e0a3",
   "metadata": {},
   "outputs": [],
   "source": []
  }
 ],
 "metadata": {
  "kernelspec": {
   "display_name": "Python [conda env:base] *",
   "language": "python",
   "name": "conda-base-py"
  },
  "language_info": {
   "codemirror_mode": {
    "name": "ipython",
    "version": 3
   },
   "file_extension": ".py",
   "mimetype": "text/x-python",
   "name": "python",
   "nbconvert_exporter": "python",
   "pygments_lexer": "ipython3",
   "version": "3.12.7"
  }
 },
 "nbformat": 4,
 "nbformat_minor": 5
}
