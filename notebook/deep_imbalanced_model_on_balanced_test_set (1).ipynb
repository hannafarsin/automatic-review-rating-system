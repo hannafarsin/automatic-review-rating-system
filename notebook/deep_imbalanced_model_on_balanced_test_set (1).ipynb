{
 "cells": [
  {
   "cell_type": "code",
   "execution_count": 11,
   "id": "99a6f910-404f-40f1-b586-9f8b46b95ba0",
   "metadata": {},
   "outputs": [
    {
     "name": "stderr",
     "output_type": "stream",
     "text": [
      "WARNING:absl:Compiled the loaded model, but the compiled metrics have yet to be built. `model.compile_metrics` will be empty until you train or evaluate the model.\n"
     ]
    }
   ],
   "source": [
    "from tensorflow.keras.models import load_model\n",
    "import pickle\n",
    "\n",
    "# Load balanced model\n",
    "balanced_model = load_model('deep_imbalanced_model3.h5')\n",
    "\n",
    "# Load tokenizer used during balanced training\n",
    "with open('deep_tokenizer_imbalanced.pkl', 'rb') as f:\n",
    "    tokenizer_bal = pickle.load(f)\n",
    "\n",
    "# Load maxlen\n",
    "with open('maxlen_imbalanced1.pkl', 'rb') as f:\n",
    "    max_len_bal = pickle.load(f)"
   ]
  },
  {
   "cell_type": "code",
   "execution_count": 12,
   "id": "6b9eb570-eb8f-4796-b291-9c2aa7c07afa",
   "metadata": {},
   "outputs": [],
   "source": [
    "import pandas as pd\n",
    "\n",
    "import pandas as pd\n",
    "\n",
    "X_test = pd.read_csv(\"X_test_balanced.csv\")\n",
    "y_test = pd.read_csv(\"y_test_balanced.csv\")\n",
    "\n",
    "\n",
    "# Fix labels to start from 0 (i.e., 1–5 → 0–4)\n",
    "y_test['Rating'] -= 1\n",
    "\n",
    "# Separate features and labels\n",
    "X_balanced_test = X_test['review_text']\n",
    "y_balanced_test = y_test['Rating']"
   ]
  },
  {
   "cell_type": "code",
   "execution_count": 13,
   "id": "8a1bd8ae-3ff6-4807-bf9c-8ffbb7d75527",
   "metadata": {},
   "outputs": [],
   "source": [
    "import spacy\n",
    "nlp = spacy.load(\"en_core_web_sm\", disable=[\"parser\", \"ner\"])\n",
    "\n",
    "def spacy_preprocess_pipe(texts):\n",
    "    processed = []\n",
    "    for doc in nlp.pipe(texts, batch_size=1000):\n",
    "        tokens = [token.lemma_ for token in doc if not token.is_stop and token.is_alpha]\n",
    "        processed.append(\" \".join(tokens))\n",
    "    return processed\n",
    "\n",
    "X_imbalanced_test_cleaned = pd.Series(spacy_preprocess_pipe(X_balanced_test))\n"
   ]
  },
  {
   "cell_type": "code",
   "execution_count": 14,
   "id": "935fcbc2-918b-4171-ae54-65e8720f897e",
   "metadata": {},
   "outputs": [],
   "source": [
    "from tensorflow.keras.preprocessing.sequence import pad_sequences\n",
    "\n",
    "X_test_seq = tokenizer_bal.texts_to_sequences(X_imbalanced_test_cleaned)\n",
    "X_test_pad = pad_sequences(X_test_seq, maxlen=max_len_bal, padding='post', truncating='post')\n"
   ]
  },
  {
   "cell_type": "code",
   "execution_count": 15,
   "id": "3294825c-0377-4876-a728-0c6a8cc7be5a",
   "metadata": {},
   "outputs": [
    {
     "name": "stdout",
     "output_type": "stream",
     "text": [
      "\u001b[1m625/625\u001b[0m \u001b[32m━━━━━━━━━━━━━━━━━━━━\u001b[0m\u001b[37m\u001b[0m \u001b[1m80s\u001b[0m 127ms/step\n",
      "Accuracy: 0.54615\n",
      "              precision    recall  f1-score   support\n",
      "\n",
      "           0       0.71      0.61      0.65      4000\n",
      "           1       0.54      0.36      0.43      4000\n",
      "           2       0.50      0.49      0.50      4000\n",
      "           3       0.43      0.68      0.53      4000\n",
      "           4       0.65      0.60      0.62      4000\n",
      "\n",
      "    accuracy                           0.55     20000\n",
      "   macro avg       0.57      0.55      0.55     20000\n",
      "weighted avg       0.57      0.55      0.55     20000\n",
      "\n",
      "Confusion Matrix:\n",
      " [[2424  573  373  455  175]\n",
      " [ 571 1432 1238  653  106]\n",
      " [ 194  564 1967 1119  156]\n",
      " [ 109   65  279 2704  843]\n",
      " [ 114   40   87 1363 2396]]\n"
     ]
    }
   ],
   "source": [
    "import numpy as np\n",
    "from sklearn.metrics import accuracy_score, classification_report, confusion_matrix\n",
    "\n",
    "# Predict\n",
    "y_pred_probs = balanced_model.predict(X_test_pad)\n",
    "y_pred = np.argmax(y_pred_probs, axis=1)\n",
    "\n",
    "# Evaluate\n",
    "print(\"Accuracy:\", accuracy_score(y_balanced_test, y_pred))\n",
    "print(classification_report(y_balanced_test, y_pred, digits=2))\n",
    "print(\"Confusion Matrix:\\n\", confusion_matrix(y_balanced_test, y_pred))\n"
   ]
  },
  {
   "cell_type": "code",
   "execution_count": null,
   "id": "6e726afd-125f-4548-a784-ebd16013260a",
   "metadata": {},
   "outputs": [],
   "source": []
  },
  {
   "cell_type": "code",
   "execution_count": null,
   "id": "f3cb6fc9-e0dd-4f1f-a2ad-d60b8d14e61b",
   "metadata": {},
   "outputs": [],
   "source": []
  }
 ],
 "metadata": {
  "kernelspec": {
   "display_name": "Python [conda env:base] *",
   "language": "python",
   "name": "conda-base-py"
  },
  "language_info": {
   "codemirror_mode": {
    "name": "ipython",
    "version": 3
   },
   "file_extension": ".py",
   "mimetype": "text/x-python",
   "name": "python",
   "nbconvert_exporter": "python",
   "pygments_lexer": "ipython3",
   "version": "3.12.7"
  }
 },
 "nbformat": 4,
 "nbformat_minor": 5
}
