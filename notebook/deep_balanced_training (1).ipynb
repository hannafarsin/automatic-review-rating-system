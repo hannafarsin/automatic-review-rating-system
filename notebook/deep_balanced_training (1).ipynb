{
  "cells": [
    {
      "cell_type": "code",
      "execution_count": 2,
      "id": "f73d329a-ebff-4043-a11d-8e05d9ef6aba",
      "metadata": {
        "id": "f73d329a-ebff-4043-a11d-8e05d9ef6aba"
      },
      "outputs": [],
      "source": [
        "#  Data manipulation & visualization\n",
        "import pandas as pd\n",
        "import matplotlib.pyplot as plt\n",
        "import seaborn as sns\n",
        "\n",
        "from sklearn.model_selection import train_test_split\n",
        "\n",
        "#  NLP libraries: spaCy\n",
        "import spacy\n",
        "nlp = spacy.load(\"en_core_web_sm\", disable=[\"parser\", \"ner\"])\n",
        "\n",
        "sns.set()"
      ]
    },
    {
      "cell_type": "code",
      "execution_count": 3,
      "id": "1cf25633-078d-462f-a016-4c08acb44cd2",
      "metadata": {
        "colab": {
          "base_uri": "https://localhost:8080/"
        },
        "id": "1cf25633-078d-462f-a016-4c08acb44cd2",
        "outputId": "e9b529eb-5552-45fe-dfc6-c5d14938c52b"
      },
      "outputs": [
        {
          "output_type": "stream",
          "name": "stdout",
          "text": [
            "Collecting en-core-web-sm==3.8.0\n",
            "  Downloading https://github.com/explosion/spacy-models/releases/download/en_core_web_sm-3.8.0/en_core_web_sm-3.8.0-py3-none-any.whl (12.8 MB)\n",
            "\u001b[2K     \u001b[90m━━━━━━━━━━━━━━━━━━━━━━━━━━━━━━━━━━━━━━━━\u001b[0m \u001b[32m12.8/12.8 MB\u001b[0m \u001b[31m86.1 MB/s\u001b[0m eta \u001b[36m0:00:00\u001b[0m\n",
            "\u001b[?25h\u001b[38;5;2m✔ Download and installation successful\u001b[0m\n",
            "You can now load the package via spacy.load('en_core_web_sm')\n",
            "\u001b[38;5;3m⚠ Restart to reload dependencies\u001b[0m\n",
            "If you are in a Jupyter or Colab notebook, you may need to restart Python in\n",
            "order to load all the package's dependencies. You can do this by selecting the\n",
            "'Restart kernel' or 'Restart runtime' option.\n"
          ]
        }
      ],
      "source": [
        "!python -m spacy download en_core_web_sm"
      ]
    },
    {
      "cell_type": "code",
      "execution_count": 4,
      "id": "uVad6kfgDWPL",
      "metadata": {
        "colab": {
          "base_uri": "https://localhost:8080/"
        },
        "id": "uVad6kfgDWPL",
        "outputId": "c25b1cea-c0ea-4719-ce74-bca19178d2db"
      },
      "outputs": [
        {
          "output_type": "stream",
          "name": "stdout",
          "text": [
            "Mounted at /content/drive\n"
          ]
        }
      ],
      "source": [
        "from google.colab import drive\n",
        "drive.mount('/content/drive')"
      ]
    },
    {
      "cell_type": "code",
      "execution_count": 5,
      "id": "3c3ced5a-dac5-44ec-8532-4218513e5246",
      "metadata": {
        "colab": {
          "base_uri": "https://localhost:8080/",
          "height": 423
        },
        "id": "3c3ced5a-dac5-44ec-8532-4218513e5246",
        "outputId": "5908e381-84d4-4874-8e02-7d6642386f7b"
      },
      "outputs": [
        {
          "output_type": "execute_result",
          "data": {
            "text/plain": [
              "                                             review_text  Rating  \\\n",
              "0      this is a great alternative to regular brown a...       4   \n",
              "1      been a long time since i had a fresh tootsie r...       5   \n",
              "2      if these bars are made in china do we really k...       1   \n",
              "3      these are a better brand than some other energ...       4   \n",
              "4      the hemp protein is not only a great buy but i...       5   \n",
              "...                                                  ...     ...   \n",
              "99995  these are really poor skinny bully sticks i wr...       1   \n",
              "99996  the flavors are nice and that is the only reas...       3   \n",
              "99997  comes in a boxwas not sure what happened to th...       4   \n",
              "99998  this product has no flavor besides the flavor ...       1   \n",
              "99999  this was received in pieces and my daughter sa...       1   \n",
              "\n",
              "       review_length  \n",
              "0               36.0  \n",
              "1               14.0  \n",
              "2               64.0  \n",
              "3              117.0  \n",
              "4               45.0  \n",
              "...              ...  \n",
              "99995           52.0  \n",
              "99996           40.0  \n",
              "99997           41.0  \n",
              "99998           43.0  \n",
              "99999           24.0  \n",
              "\n",
              "[100000 rows x 3 columns]"
            ],
            "text/html": [
              "\n",
              "  <div id=\"df-b130ebfb-87a9-4c6d-bca7-30b62dedfca8\" class=\"colab-df-container\">\n",
              "    <div>\n",
              "<style scoped>\n",
              "    .dataframe tbody tr th:only-of-type {\n",
              "        vertical-align: middle;\n",
              "    }\n",
              "\n",
              "    .dataframe tbody tr th {\n",
              "        vertical-align: top;\n",
              "    }\n",
              "\n",
              "    .dataframe thead th {\n",
              "        text-align: right;\n",
              "    }\n",
              "</style>\n",
              "<table border=\"1\" class=\"dataframe\">\n",
              "  <thead>\n",
              "    <tr style=\"text-align: right;\">\n",
              "      <th></th>\n",
              "      <th>review_text</th>\n",
              "      <th>Rating</th>\n",
              "      <th>review_length</th>\n",
              "    </tr>\n",
              "  </thead>\n",
              "  <tbody>\n",
              "    <tr>\n",
              "      <th>0</th>\n",
              "      <td>this is a great alternative to regular brown a...</td>\n",
              "      <td>4</td>\n",
              "      <td>36.0</td>\n",
              "    </tr>\n",
              "    <tr>\n",
              "      <th>1</th>\n",
              "      <td>been a long time since i had a fresh tootsie r...</td>\n",
              "      <td>5</td>\n",
              "      <td>14.0</td>\n",
              "    </tr>\n",
              "    <tr>\n",
              "      <th>2</th>\n",
              "      <td>if these bars are made in china do we really k...</td>\n",
              "      <td>1</td>\n",
              "      <td>64.0</td>\n",
              "    </tr>\n",
              "    <tr>\n",
              "      <th>3</th>\n",
              "      <td>these are a better brand than some other energ...</td>\n",
              "      <td>4</td>\n",
              "      <td>117.0</td>\n",
              "    </tr>\n",
              "    <tr>\n",
              "      <th>4</th>\n",
              "      <td>the hemp protein is not only a great buy but i...</td>\n",
              "      <td>5</td>\n",
              "      <td>45.0</td>\n",
              "    </tr>\n",
              "    <tr>\n",
              "      <th>...</th>\n",
              "      <td>...</td>\n",
              "      <td>...</td>\n",
              "      <td>...</td>\n",
              "    </tr>\n",
              "    <tr>\n",
              "      <th>99995</th>\n",
              "      <td>these are really poor skinny bully sticks i wr...</td>\n",
              "      <td>1</td>\n",
              "      <td>52.0</td>\n",
              "    </tr>\n",
              "    <tr>\n",
              "      <th>99996</th>\n",
              "      <td>the flavors are nice and that is the only reas...</td>\n",
              "      <td>3</td>\n",
              "      <td>40.0</td>\n",
              "    </tr>\n",
              "    <tr>\n",
              "      <th>99997</th>\n",
              "      <td>comes in a boxwas not sure what happened to th...</td>\n",
              "      <td>4</td>\n",
              "      <td>41.0</td>\n",
              "    </tr>\n",
              "    <tr>\n",
              "      <th>99998</th>\n",
              "      <td>this product has no flavor besides the flavor ...</td>\n",
              "      <td>1</td>\n",
              "      <td>43.0</td>\n",
              "    </tr>\n",
              "    <tr>\n",
              "      <th>99999</th>\n",
              "      <td>this was received in pieces and my daughter sa...</td>\n",
              "      <td>1</td>\n",
              "      <td>24.0</td>\n",
              "    </tr>\n",
              "  </tbody>\n",
              "</table>\n",
              "<p>100000 rows × 3 columns</p>\n",
              "</div>\n",
              "    <div class=\"colab-df-buttons\">\n",
              "\n",
              "  <div class=\"colab-df-container\">\n",
              "    <button class=\"colab-df-convert\" onclick=\"convertToInteractive('df-b130ebfb-87a9-4c6d-bca7-30b62dedfca8')\"\n",
              "            title=\"Convert this dataframe to an interactive table.\"\n",
              "            style=\"display:none;\">\n",
              "\n",
              "  <svg xmlns=\"http://www.w3.org/2000/svg\" height=\"24px\" viewBox=\"0 -960 960 960\">\n",
              "    <path d=\"M120-120v-720h720v720H120Zm60-500h600v-160H180v160Zm220 220h160v-160H400v160Zm0 220h160v-160H400v160ZM180-400h160v-160H180v160Zm440 0h160v-160H620v160ZM180-180h160v-160H180v160Zm440 0h160v-160H620v160Z\"/>\n",
              "  </svg>\n",
              "    </button>\n",
              "\n",
              "  <style>\n",
              "    .colab-df-container {\n",
              "      display:flex;\n",
              "      gap: 12px;\n",
              "    }\n",
              "\n",
              "    .colab-df-convert {\n",
              "      background-color: #E8F0FE;\n",
              "      border: none;\n",
              "      border-radius: 50%;\n",
              "      cursor: pointer;\n",
              "      display: none;\n",
              "      fill: #1967D2;\n",
              "      height: 32px;\n",
              "      padding: 0 0 0 0;\n",
              "      width: 32px;\n",
              "    }\n",
              "\n",
              "    .colab-df-convert:hover {\n",
              "      background-color: #E2EBFA;\n",
              "      box-shadow: 0px 1px 2px rgba(60, 64, 67, 0.3), 0px 1px 3px 1px rgba(60, 64, 67, 0.15);\n",
              "      fill: #174EA6;\n",
              "    }\n",
              "\n",
              "    .colab-df-buttons div {\n",
              "      margin-bottom: 4px;\n",
              "    }\n",
              "\n",
              "    [theme=dark] .colab-df-convert {\n",
              "      background-color: #3B4455;\n",
              "      fill: #D2E3FC;\n",
              "    }\n",
              "\n",
              "    [theme=dark] .colab-df-convert:hover {\n",
              "      background-color: #434B5C;\n",
              "      box-shadow: 0px 1px 3px 1px rgba(0, 0, 0, 0.15);\n",
              "      filter: drop-shadow(0px 1px 2px rgba(0, 0, 0, 0.3));\n",
              "      fill: #FFFFFF;\n",
              "    }\n",
              "  </style>\n",
              "\n",
              "    <script>\n",
              "      const buttonEl =\n",
              "        document.querySelector('#df-b130ebfb-87a9-4c6d-bca7-30b62dedfca8 button.colab-df-convert');\n",
              "      buttonEl.style.display =\n",
              "        google.colab.kernel.accessAllowed ? 'block' : 'none';\n",
              "\n",
              "      async function convertToInteractive(key) {\n",
              "        const element = document.querySelector('#df-b130ebfb-87a9-4c6d-bca7-30b62dedfca8');\n",
              "        const dataTable =\n",
              "          await google.colab.kernel.invokeFunction('convertToInteractive',\n",
              "                                                    [key], {});\n",
              "        if (!dataTable) return;\n",
              "\n",
              "        const docLinkHtml = 'Like what you see? Visit the ' +\n",
              "          '<a target=\"_blank\" href=https://colab.research.google.com/notebooks/data_table.ipynb>data table notebook</a>'\n",
              "          + ' to learn more about interactive tables.';\n",
              "        element.innerHTML = '';\n",
              "        dataTable['output_type'] = 'display_data';\n",
              "        await google.colab.output.renderOutput(dataTable, element);\n",
              "        const docLink = document.createElement('div');\n",
              "        docLink.innerHTML = docLinkHtml;\n",
              "        element.appendChild(docLink);\n",
              "      }\n",
              "    </script>\n",
              "  </div>\n",
              "\n",
              "\n",
              "    <div id=\"df-c0f4365f-b675-48cc-9f38-4f76bbf34be9\">\n",
              "      <button class=\"colab-df-quickchart\" onclick=\"quickchart('df-c0f4365f-b675-48cc-9f38-4f76bbf34be9')\"\n",
              "                title=\"Suggest charts\"\n",
              "                style=\"display:none;\">\n",
              "\n",
              "<svg xmlns=\"http://www.w3.org/2000/svg\" height=\"24px\"viewBox=\"0 0 24 24\"\n",
              "     width=\"24px\">\n",
              "    <g>\n",
              "        <path d=\"M19 3H5c-1.1 0-2 .9-2 2v14c0 1.1.9 2 2 2h14c1.1 0 2-.9 2-2V5c0-1.1-.9-2-2-2zM9 17H7v-7h2v7zm4 0h-2V7h2v10zm4 0h-2v-4h2v4z\"/>\n",
              "    </g>\n",
              "</svg>\n",
              "      </button>\n",
              "\n",
              "<style>\n",
              "  .colab-df-quickchart {\n",
              "      --bg-color: #E8F0FE;\n",
              "      --fill-color: #1967D2;\n",
              "      --hover-bg-color: #E2EBFA;\n",
              "      --hover-fill-color: #174EA6;\n",
              "      --disabled-fill-color: #AAA;\n",
              "      --disabled-bg-color: #DDD;\n",
              "  }\n",
              "\n",
              "  [theme=dark] .colab-df-quickchart {\n",
              "      --bg-color: #3B4455;\n",
              "      --fill-color: #D2E3FC;\n",
              "      --hover-bg-color: #434B5C;\n",
              "      --hover-fill-color: #FFFFFF;\n",
              "      --disabled-bg-color: #3B4455;\n",
              "      --disabled-fill-color: #666;\n",
              "  }\n",
              "\n",
              "  .colab-df-quickchart {\n",
              "    background-color: var(--bg-color);\n",
              "    border: none;\n",
              "    border-radius: 50%;\n",
              "    cursor: pointer;\n",
              "    display: none;\n",
              "    fill: var(--fill-color);\n",
              "    height: 32px;\n",
              "    padding: 0;\n",
              "    width: 32px;\n",
              "  }\n",
              "\n",
              "  .colab-df-quickchart:hover {\n",
              "    background-color: var(--hover-bg-color);\n",
              "    box-shadow: 0 1px 2px rgba(60, 64, 67, 0.3), 0 1px 3px 1px rgba(60, 64, 67, 0.15);\n",
              "    fill: var(--button-hover-fill-color);\n",
              "  }\n",
              "\n",
              "  .colab-df-quickchart-complete:disabled,\n",
              "  .colab-df-quickchart-complete:disabled:hover {\n",
              "    background-color: var(--disabled-bg-color);\n",
              "    fill: var(--disabled-fill-color);\n",
              "    box-shadow: none;\n",
              "  }\n",
              "\n",
              "  .colab-df-spinner {\n",
              "    border: 2px solid var(--fill-color);\n",
              "    border-color: transparent;\n",
              "    border-bottom-color: var(--fill-color);\n",
              "    animation:\n",
              "      spin 1s steps(1) infinite;\n",
              "  }\n",
              "\n",
              "  @keyframes spin {\n",
              "    0% {\n",
              "      border-color: transparent;\n",
              "      border-bottom-color: var(--fill-color);\n",
              "      border-left-color: var(--fill-color);\n",
              "    }\n",
              "    20% {\n",
              "      border-color: transparent;\n",
              "      border-left-color: var(--fill-color);\n",
              "      border-top-color: var(--fill-color);\n",
              "    }\n",
              "    30% {\n",
              "      border-color: transparent;\n",
              "      border-left-color: var(--fill-color);\n",
              "      border-top-color: var(--fill-color);\n",
              "      border-right-color: var(--fill-color);\n",
              "    }\n",
              "    40% {\n",
              "      border-color: transparent;\n",
              "      border-right-color: var(--fill-color);\n",
              "      border-top-color: var(--fill-color);\n",
              "    }\n",
              "    60% {\n",
              "      border-color: transparent;\n",
              "      border-right-color: var(--fill-color);\n",
              "    }\n",
              "    80% {\n",
              "      border-color: transparent;\n",
              "      border-right-color: var(--fill-color);\n",
              "      border-bottom-color: var(--fill-color);\n",
              "    }\n",
              "    90% {\n",
              "      border-color: transparent;\n",
              "      border-bottom-color: var(--fill-color);\n",
              "    }\n",
              "  }\n",
              "</style>\n",
              "\n",
              "      <script>\n",
              "        async function quickchart(key) {\n",
              "          const quickchartButtonEl =\n",
              "            document.querySelector('#' + key + ' button');\n",
              "          quickchartButtonEl.disabled = true;  // To prevent multiple clicks.\n",
              "          quickchartButtonEl.classList.add('colab-df-spinner');\n",
              "          try {\n",
              "            const charts = await google.colab.kernel.invokeFunction(\n",
              "                'suggestCharts', [key], {});\n",
              "          } catch (error) {\n",
              "            console.error('Error during call to suggestCharts:', error);\n",
              "          }\n",
              "          quickchartButtonEl.classList.remove('colab-df-spinner');\n",
              "          quickchartButtonEl.classList.add('colab-df-quickchart-complete');\n",
              "        }\n",
              "        (() => {\n",
              "          let quickchartButtonEl =\n",
              "            document.querySelector('#df-c0f4365f-b675-48cc-9f38-4f76bbf34be9 button');\n",
              "          quickchartButtonEl.style.display =\n",
              "            google.colab.kernel.accessAllowed ? 'block' : 'none';\n",
              "        })();\n",
              "      </script>\n",
              "    </div>\n",
              "\n",
              "  <div id=\"id_54d00f7e-4f83-4e2b-89de-5bca9acbe9aa\">\n",
              "    <style>\n",
              "      .colab-df-generate {\n",
              "        background-color: #E8F0FE;\n",
              "        border: none;\n",
              "        border-radius: 50%;\n",
              "        cursor: pointer;\n",
              "        display: none;\n",
              "        fill: #1967D2;\n",
              "        height: 32px;\n",
              "        padding: 0 0 0 0;\n",
              "        width: 32px;\n",
              "      }\n",
              "\n",
              "      .colab-df-generate:hover {\n",
              "        background-color: #E2EBFA;\n",
              "        box-shadow: 0px 1px 2px rgba(60, 64, 67, 0.3), 0px 1px 3px 1px rgba(60, 64, 67, 0.15);\n",
              "        fill: #174EA6;\n",
              "      }\n",
              "\n",
              "      [theme=dark] .colab-df-generate {\n",
              "        background-color: #3B4455;\n",
              "        fill: #D2E3FC;\n",
              "      }\n",
              "\n",
              "      [theme=dark] .colab-df-generate:hover {\n",
              "        background-color: #434B5C;\n",
              "        box-shadow: 0px 1px 3px 1px rgba(0, 0, 0, 0.15);\n",
              "        filter: drop-shadow(0px 1px 2px rgba(0, 0, 0, 0.3));\n",
              "        fill: #FFFFFF;\n",
              "      }\n",
              "    </style>\n",
              "    <button class=\"colab-df-generate\" onclick=\"generateWithVariable('df')\"\n",
              "            title=\"Generate code using this dataframe.\"\n",
              "            style=\"display:none;\">\n",
              "\n",
              "  <svg xmlns=\"http://www.w3.org/2000/svg\" height=\"24px\"viewBox=\"0 0 24 24\"\n",
              "       width=\"24px\">\n",
              "    <path d=\"M7,19H8.4L18.45,9,17,7.55,7,17.6ZM5,21V16.75L18.45,3.32a2,2,0,0,1,2.83,0l1.4,1.43a1.91,1.91,0,0,1,.58,1.4,1.91,1.91,0,0,1-.58,1.4L9.25,21ZM18.45,9,17,7.55Zm-12,3A5.31,5.31,0,0,0,4.9,8.1,5.31,5.31,0,0,0,1,6.5,5.31,5.31,0,0,0,4.9,4.9,5.31,5.31,0,0,0,6.5,1,5.31,5.31,0,0,0,8.1,4.9,5.31,5.31,0,0,0,12,6.5,5.46,5.46,0,0,0,6.5,12Z\"/>\n",
              "  </svg>\n",
              "    </button>\n",
              "    <script>\n",
              "      (() => {\n",
              "      const buttonEl =\n",
              "        document.querySelector('#id_54d00f7e-4f83-4e2b-89de-5bca9acbe9aa button.colab-df-generate');\n",
              "      buttonEl.style.display =\n",
              "        google.colab.kernel.accessAllowed ? 'block' : 'none';\n",
              "\n",
              "      buttonEl.onclick = () => {\n",
              "        google.colab.notebook.generateWithVariable('df');\n",
              "      }\n",
              "      })();\n",
              "    </script>\n",
              "  </div>\n",
              "\n",
              "    </div>\n",
              "  </div>\n"
            ],
            "application/vnd.google.colaboratory.intrinsic+json": {
              "type": "dataframe",
              "variable_name": "df",
              "summary": "{\n  \"name\": \"df\",\n  \"rows\": 100000,\n  \"fields\": [\n    {\n      \"column\": \"review_text\",\n      \"properties\": {\n        \"dtype\": \"string\",\n        \"num_unique_values\": 100000,\n        \"samples\": [\n          \"well i finally got this product after a long wait it was almost a month before i got it the color isnt this pink its more of a deep dark pink its very long which is what i wanted and it does charge my phone so the color didnt affect me to much i would recommend this if you were just thinking of buying a new one but had a spare charger because youll be waiting awhile for this it is however convenient and i like to be able to walk in my room while its charging\",\n          \"you can not go wrong buying folgers coffee was shipped in a timely maner and was packaged welli would purchase this again\",\n          \"when portland changed over to using a mandatory small composting bucket for kitchen scraps the need for compostable bags became a must these fit perfectly in the bucket and work very well once the bucket is full we simply place the bag in our larger recycle bucket we are very pleased with the product\"\n        ],\n        \"semantic_type\": \"\",\n        \"description\": \"\"\n      }\n    },\n    {\n      \"column\": \"Rating\",\n      \"properties\": {\n        \"dtype\": \"number\",\n        \"std\": 1,\n        \"min\": 1,\n        \"max\": 5,\n        \"num_unique_values\": 5,\n        \"samples\": [\n          5,\n          2,\n          1\n        ],\n        \"semantic_type\": \"\",\n        \"description\": \"\"\n      }\n    },\n    {\n      \"column\": \"review_length\",\n      \"properties\": {\n        \"dtype\": \"number\",\n        \"std\": 69.77532904674068,\n        \"min\": 4.0,\n        \"max\": 500.0,\n        \"num_unique_values\": 497,\n        \"samples\": [\n          476.0,\n          90.0,\n          347.0\n        ],\n        \"semantic_type\": \"\",\n        \"description\": \"\"\n      }\n    }\n  ]\n}"
            }
          },
          "metadata": {},
          "execution_count": 5
        }
      ],
      "source": [
        "df =pd.read_csv(\"/content/drive/My Drive/deep_balanced_dataset.csv\")\n",
        "df"
      ]
    },
    {
      "cell_type": "code",
      "execution_count": 6,
      "id": "8549eacf-e6df-405a-873c-1a0b86f8dd7f",
      "metadata": {
        "colab": {
          "base_uri": "https://localhost:8080/"
        },
        "id": "8549eacf-e6df-405a-873c-1a0b86f8dd7f",
        "outputId": "45d7a54c-2f52-401d-9c17-5ae7379cc8b1"
      },
      "outputs": [
        {
          "output_type": "execute_result",
          "data": {
            "text/plain": [
              "(100000, 3)"
            ]
          },
          "metadata": {},
          "execution_count": 6
        }
      ],
      "source": [
        "#shape of the dataset\n",
        "df.shape"
      ]
    },
    {
      "cell_type": "code",
      "execution_count": 7,
      "id": "95eeb8eb-f7d1-49df-9c60-9225dda6accc",
      "metadata": {
        "colab": {
          "base_uri": "https://localhost:8080/",
          "height": 178
        },
        "id": "95eeb8eb-f7d1-49df-9c60-9225dda6accc",
        "outputId": "d4232c12-c1ec-446c-df93-feae6d28ec0b"
      },
      "outputs": [
        {
          "output_type": "execute_result",
          "data": {
            "text/plain": [
              "review_text      0\n",
              "Rating           0\n",
              "review_length    0\n",
              "dtype: int64"
            ],
            "text/html": [
              "<div>\n",
              "<style scoped>\n",
              "    .dataframe tbody tr th:only-of-type {\n",
              "        vertical-align: middle;\n",
              "    }\n",
              "\n",
              "    .dataframe tbody tr th {\n",
              "        vertical-align: top;\n",
              "    }\n",
              "\n",
              "    .dataframe thead th {\n",
              "        text-align: right;\n",
              "    }\n",
              "</style>\n",
              "<table border=\"1\" class=\"dataframe\">\n",
              "  <thead>\n",
              "    <tr style=\"text-align: right;\">\n",
              "      <th></th>\n",
              "      <th>0</th>\n",
              "    </tr>\n",
              "  </thead>\n",
              "  <tbody>\n",
              "    <tr>\n",
              "      <th>review_text</th>\n",
              "      <td>0</td>\n",
              "    </tr>\n",
              "    <tr>\n",
              "      <th>Rating</th>\n",
              "      <td>0</td>\n",
              "    </tr>\n",
              "    <tr>\n",
              "      <th>review_length</th>\n",
              "      <td>0</td>\n",
              "    </tr>\n",
              "  </tbody>\n",
              "</table>\n",
              "</div><br><label><b>dtype:</b> int64</label>"
            ]
          },
          "metadata": {},
          "execution_count": 7
        }
      ],
      "source": [
        "df.isnull().sum()"
      ]
    },
    {
      "cell_type": "code",
      "execution_count": 8,
      "id": "07c12482-c3d2-40f6-a956-247707e1a139",
      "metadata": {
        "colab": {
          "base_uri": "https://localhost:8080/"
        },
        "id": "07c12482-c3d2-40f6-a956-247707e1a139",
        "outputId": "085a9912-8c08-42f5-9bf5-9fa3ea411982"
      },
      "outputs": [
        {
          "output_type": "execute_result",
          "data": {
            "text/plain": [
              "np.int64(0)"
            ]
          },
          "metadata": {},
          "execution_count": 8
        }
      ],
      "source": [
        "#checking for the duplicate values\n",
        "df.duplicated().sum()"
      ]
    },
    {
      "cell_type": "code",
      "execution_count": 9,
      "id": "a670dd6f-40df-45e7-a68e-2b0b0bbe049a",
      "metadata": {
        "colab": {
          "base_uri": "https://localhost:8080/"
        },
        "id": "a670dd6f-40df-45e7-a68e-2b0b0bbe049a",
        "outputId": "ff7afbb3-f9f7-4d28-f025-f893db97b01f"
      },
      "outputs": [
        {
          "output_type": "stream",
          "name": "stdout",
          "text": [
            "\n",
            "⭐ Rating 1\n",
            "\n",
            "- these are really poor skinny bully sticks i wrote a different review but it is not appearing i was able to cut these w household scissors and the dog finished it in 5 min i was very happy w previous orders of 6 sticks and opted for these as they were 12\n",
            "\n",
            "\n",
            "- this product has no flavor besides the flavor of coffee to it no chocolate glazed donut no mocha nut fudge just regular coffee i was tricked by the advertising of this product and hope to save anyone else from this level of disappointment\n",
            "\n",
            "\n",
            "- this was received in pieces and my daughter said the gingerbread tasted like dog biscuits on the positive side amazon fully refunded my money\n",
            "\n",
            "\n",
            "⭐ Rating 2\n",
            "\n",
            "- will not work for 5 c i typed in 5c cases and this one came up i ordered it and received it but its not a 5c case\n",
            "\n",
            "\n",
            "- i was really hoping this grain free canned cat food will work for my 3 cats looks like it has good ingredients but none of my 3 cats will eat it in fact one of them will smell it and start doing the scratching thing like he smells poop another weird thing is the whole can is kind of soft and meshed like baby food but there are some whole green peas in it not sure if that is by design or some green peas escape the meshing\n",
            "\n",
            "\n",
            "- i like that you should be able to charge two iphones at the same time however it gets extremely hot and will not charge both but it works on at least one\n",
            "\n",
            "\n",
            "⭐ Rating 3\n",
            "\n",
            "- this cereal is great with or without milk and it is easy to finish a box quickly amazon ships the cereal quickly and the cereal is always fresh and months away from the expiration datewhile i love this cereal the recent decision to reduce the number of boxes to 3 without adjusting the price appropriately does not differentiate this package from buying boxes in the local grocery i wish amazon would reconsider selling this as a pack of 4\n",
            "\n",
            "\n",
            "- i purchased the gs3 cpen to replace my clunky mediadevil magicwand stylus the magicwand was ok but the tip was pretty big and not very precise but it worked regardless of the device i used it on i guess i just didnt do my research but i was under the impression that replacement for using fingers on your tablet or smartphone touchscreen meant i could use it on whatever touchscreen device i had but apparently that isnt the case when i first opened the box i tried it out on my new galaxy s 3 and it worked pretty good i have a zagg invisibleshield installed so the surface might not be what the pen was intended to be used on because it kinda skips around the surface so fine detail things are kinda hard to do i thought oh well it works decent enough i mainly want to use it for my tablet anyway so i pull out my tablet acer iconia a500 and try it on that and it doesnt want to work at all i tried it a dozen different times ways and it just doesnt work so i ask my wife to hand me her galaxy nexus and it doesnt work on that either same thing nothing i do works so at this point im pretty disappointed at the time of purchase it was almost 30 so i was expecting to get something that i could replace my other stylus with and then some sadly i think im going to just return it it just doesnt work that great if you have a screen protector installed and it didnt work on the other devices i had beautiful looking feeling stylus though\n",
            "\n",
            "\n",
            "- the flavors are nice and that is the only reason i gave it 3 stars the dehydrated vegetables are tough and chewy even after adding the water and remaining covered the reequisite period of time i wont buy it again\n",
            "\n",
            "\n",
            "⭐ Rating 4\n",
            "\n",
            "- these are a tasty bite indeedthe ingredients list is short and simple unlike a lot of other shelf stable processed foods there isnt a single ingredient in this that you couldnt buy from the organic foods marketif you are looking for anything close to restaurant quality wellgo to a restaurant for something that can be dumped out of a shelf stable pouch and microwaved its more than palatableits nowhere near as chunky as it looks on the pouch but there are still plenty of veggie and paneer bits in thereone important thing to note is that its very high in sodium so its best eaten over plain white rice at least i think its delicious that way\n",
            "\n",
            "\n",
            "- i only gave these a 4star because i was disappointed in their not being saltier as you would expect when seeing seasalt on the label they just taste like the average roasted salted almond they were very fresh and natural tasting however but i was craving an edgier salty flavor and i wont eat chips to get that this is a much better alternative to chips for a treat as its high protein with a great helping of fiber almonds are one of the healthiest nuts to eat especially raw for their high fiber and i believe b vitamin contentback to nature is one of the better and much fresher brands so stock up while they are on special\n",
            "\n",
            "\n",
            "- comes in a boxwas not sure what happened to the card listed in the item descriptiongot this for fathers day he really loved the pretzels and his girlfriend loved the coffee turned out to be a good gift for his family\n",
            "\n",
            "\n",
            "⭐ Rating 5\n",
            "\n",
            "- i have been experimenting with baking my own bread and have come to find out it is as much an art as a science i have gotten some starters from acquaintances but did not like the taste i found this one online and decided to give it a try it worked great and tasted great just like the package said i added water and flour and it was ready to use in a week i have the back up in the freezer but am hoping to make this one last\n",
            "\n",
            "\n",
            "- arrived exactly as promised and with vodka produces excellent vanilla extract at home for cheap makes great gifts add bean to a bottle with vodka\n",
            "\n",
            "\n",
            "- nonge ge stands for genetic engineering and is also referred to as gmo genetically modified organism genetic engineering of food products uses gene splicing to overcome natural boundaries that would otherwise prohibit the creation of a product genes from different species can be combined to create a hardier product resistant to certain exogenous factors as an example you might be able to add fish genes to corn to make it resistant to pesticides although there may be instant gratification from such benefits as better taste longer shelf life and greater yield serious concerns exist about the longterm ramifications of using these types of products and ingredients until more research backing the safety of ge products is available well continue to make every effort to use only nonge ingredients and products\n",
            "\n"
          ]
        }
      ],
      "source": [
        "#display 3 full sample reviews per rating\n",
        "for rating in sorted(df['Rating'].unique()):\n",
        "    print(f\"\\n⭐ Rating {rating}\")\n",
        "    reviews = df[df['Rating'] == rating].tail(3)\n",
        "    for _, row in reviews.iterrows():\n",
        "        print(f\"\\n- {row['review_text']}\\n\")"
      ]
    },
    {
      "cell_type": "code",
      "execution_count": 10,
      "id": "504b8002-a233-44fe-b3a7-f34ab89efc9c",
      "metadata": {
        "id": "504b8002-a233-44fe-b3a7-f34ab89efc9c"
      },
      "outputs": [],
      "source": [
        "df['word_count'] = df['review_text'].apply(lambda x: len(str(x).split()))"
      ]
    },
    {
      "cell_type": "code",
      "execution_count": 11,
      "id": "9ee19e58-110c-4986-bc3b-62d71cc135c3",
      "metadata": {
        "colab": {
          "base_uri": "https://localhost:8080/"
        },
        "id": "9ee19e58-110c-4986-bc3b-62d71cc135c3",
        "outputId": "5c88ae6d-8b3c-46d2-ce1d-537f599a6890"
      },
      "outputs": [
        {
          "output_type": "stream",
          "name": "stdout",
          "text": [
            "          count      mean        std  min   25%   50%    75%    max\n",
            "Rating                                                             \n",
            "1       20000.0  77.59260  61.717615  6.0  36.0  60.0   97.0  499.0\n",
            "2       20000.0  78.54145  72.645709  4.0  30.0  56.0  101.0  500.0\n",
            "3       20000.0  88.69250  79.340089  4.0  34.0  61.0  114.0  500.0\n",
            "4       20000.0  86.92260  71.600874  5.0  37.0  64.0  112.0  499.0\n",
            "5       20000.0  70.49775  60.127029  7.0  31.0  51.0   88.0  500.0\n"
          ]
        }
      ],
      "source": [
        "#display the statistics of the word count\n",
        "min_word_counts = df.groupby('Rating')['word_count'].describe()\n",
        "print(min_word_counts)"
      ]
    },
    {
      "cell_type": "code",
      "execution_count": 12,
      "id": "78dded0f-fb2b-4f2f-bd83-7d1c1545adb0",
      "metadata": {
        "colab": {
          "base_uri": "https://localhost:8080/",
          "height": 501
        },
        "id": "78dded0f-fb2b-4f2f-bd83-7d1c1545adb0",
        "outputId": "28e83e53-07e9-4d01-b8a0-4603eeed801f"
      },
      "outputs": [
        {
          "output_type": "display_data",
          "data": {
            "text/plain": [
              "<Figure size 800x500 with 1 Axes>"
            ],
            "image/png": "[encoded data removed]"
          },
          "metadata": {}
        }
      ],
      "source": [
        "#  Visualize the distribution of review ratings\n",
        "\n",
        "plt.figure(figsize=(8, 5))  # Set figure size\n",
        "\n",
        "# Create a count plot for the 'Rating' column\n",
        "sns.countplot(x='Rating', data=df)\n",
        "\n",
        "# Add plot titles and labels\n",
        "plt.title(\"Rating Distribution\", fontsize=14)\n",
        "plt.xlabel(\"Rating\", fontsize=12)\n",
        "plt.ylabel(\"Number of Reviews\", fontsize=12)\n",
        "\n",
        "# Display the plot\n",
        "plt.tight_layout()\n",
        "plt.show()"
      ]
    },
    {
      "cell_type": "code",
      "execution_count": 13,
      "id": "d65c3e89-2848-4b2c-a85a-ca1284afdacc",
      "metadata": {
        "colab": {
          "base_uri": "https://localhost:8080/",
          "height": 501
        },
        "id": "d65c3e89-2848-4b2c-a85a-ca1284afdacc",
        "outputId": "64285a07-e8cd-49ee-8f56-977987b0e5ca"
      },
      "outputs": [
        {
          "output_type": "display_data",
          "data": {
            "text/plain": [
              "<Figure size 1000x500 with 1 Axes>"
            ],
            "image/png": "[encoded data removed]"
          },
          "metadata": {}
        }
      ],
      "source": [
        "# Visualize the distribution of review lengths (number of words per review)\n",
        "\n",
        "plt.figure(figsize=(10, 5))  # Set the size of the plot\n",
        "\n",
        "# Create a histogram of review lengths with a KDE (smoothed line)\n",
        "sns.histplot(data=df, x='review_length', bins=50, kde=True, color='skyblue')\n",
        "\n",
        "# Add titles and axis labels\n",
        "plt.title(\"Review Length Distribution\", fontsize=14)\n",
        "plt.xlabel(\"Number of Words\", fontsize=12)\n",
        "plt.ylabel(\"Number of Reviews\", fontsize=12)\n",
        "\n",
        "# Improve layout and display the plot\n",
        "plt.tight_layout()\n",
        "plt.show()"
      ]
    },
    {
      "cell_type": "code",
      "execution_count": 14,
      "id": "17c7d46f-77fd-4771-afb2-ceb226ab4294",
      "metadata": {
        "id": "17c7d46f-77fd-4771-afb2-ceb226ab4294"
      },
      "outputs": [],
      "source": [
        "# Count the number of reviews per rating (sorted by rating value)\n",
        "rating_counts = df['Rating'].value_counts().sort_index()"
      ]
    },
    {
      "cell_type": "code",
      "execution_count": 15,
      "id": "49051300-df8a-402e-8f55-b8c02b0c6542",
      "metadata": {
        "colab": {
          "base_uri": "https://localhost:8080/",
          "height": 598
        },
        "id": "49051300-df8a-402e-8f55-b8c02b0c6542",
        "outputId": "e36ce152-0928-43b1-9e1f-1be1cbee21d4"
      },
      "outputs": [
        {
          "output_type": "display_data",
          "data": {
            "text/plain": [
              "<Figure size 700x700 with 1 Axes>"
            ],
            "image/png": "[encoded data removed]"
          },
          "metadata": {}
        }
      ],
      "source": [
        "# Labels for pie slices (e.g., '1', '2', ..., '5')\n",
        "labels = rating_counts.index.astype(str)\n",
        "#Corresponding values (number of reviews per rating)\n",
        "sizes = rating_counts.values\n",
        "\n",
        "# Plot pie chart\n",
        "plt.figure(figsize=(7, 7))\n",
        "plt.pie(sizes, labels=labels, autopct='%1.1f%%', startangle=140, colors=plt.cm.Pastel1.colors)\n",
        "plt.title('Distribution of Review Ratings')\n",
        "plt.axis('equal')  # Equal aspect ratio makes the pie chart circular\n",
        "plt.show()"
      ]
    },
    {
      "cell_type": "code",
      "execution_count": 16,
      "id": "408c9c3d-753c-4c44-ae68-afb173594f1d",
      "metadata": {
        "id": "408c9c3d-753c-4c44-ae68-afb173594f1d"
      },
      "outputs": [],
      "source": [
        "#  Split training and testing data\n",
        "X_train, X_test, y_train, y_test = train_test_split(df['review_text'],df['Rating'], test_size=0.2, random_state=42,shuffle=True,stratify=df['Rating'] )"
      ]
    },
    {
      "cell_type": "code",
      "execution_count": 17,
      "id": "0f555bbd-9e49-45e1-9e50-ba369af747df",
      "metadata": {
        "colab": {
          "base_uri": "https://localhost:8080/"
        },
        "id": "0f555bbd-9e49-45e1-9e50-ba369af747df",
        "outputId": "78d7804a-2fb3-4939-92fd-514b65cb3a36"
      },
      "outputs": [
        {
          "output_type": "stream",
          "name": "stdout",
          "text": [
            "Train Rating Distribution:\n",
            " Rating\n",
            "5    0.2\n",
            "4    0.2\n",
            "1    0.2\n",
            "2    0.2\n",
            "3    0.2\n",
            "Name: proportion, dtype: float64\n",
            "\n",
            "Test Rating Distribution:\n",
            " Rating\n",
            "4    0.2\n",
            "1    0.2\n",
            "3    0.2\n",
            "2    0.2\n",
            "5    0.2\n",
            "Name: proportion, dtype: float64\n"
          ]
        }
      ],
      "source": [
        "print(\"Train Rating Distribution:\\n\", y_train.value_counts(normalize=True))\n",
        "print(\"\\nTest Rating Distribution:\\n\", y_test.value_counts(normalize=True))"
      ]
    },
    {
      "cell_type": "code",
      "execution_count": 18,
      "id": "1c0d2314-a9fb-4f75-a4cb-2b56248bd928",
      "metadata": {
        "colab": {
          "base_uri": "https://localhost:8080/"
        },
        "id": "1c0d2314-a9fb-4f75-a4cb-2b56248bd928",
        "outputId": "486bef64-04d2-4c07-ecef-d72f74bf418f"
      },
      "outputs": [
        {
          "output_type": "stream",
          "name": "stdout",
          "text": [
            "                                             review_text  Rating\n",
            "95420  i bought this product for my partner who is a ...       5\n",
            "41252  my family and friends love the taste of this p...       4\n",
            "44416  i love french vanilla coffee but the one by ta...       1\n",
            "76483  i figured i would give larabar a try since i w...       2\n",
            "15350                    very poor quality material used       2\n"
          ]
        }
      ],
      "source": [
        "train_df = pd.DataFrame({'review_text': X_train, 'Rating': y_train})\n",
        "print(train_df.head())"
      ]
    },
    {
      "cell_type": "code",
      "execution_count": 19,
      "id": "27bcc577-535d-4251-aee0-253c9140d180",
      "metadata": {
        "id": "27bcc577-535d-4251-aee0-253c9140d180"
      },
      "outputs": [],
      "source": [
        "def spacy_preprocess_pipe(texts):\n",
        "    processed = []\n",
        "    for doc in nlp.pipe(texts, batch_size=1000, disable=[\"ner\", \"parser\"]):  # disable unneeded parts\n",
        "        tokens = [\n",
        "            token.lemma_\n",
        "            for token in doc\n",
        "            if not token.is_stop and not token.is_space and token.is_alpha\n",
        "        ]\n",
        "        processed.append(\" \".join(tokens))\n",
        "    return processed\n"
      ]
    },
    {
      "cell_type": "code",
      "execution_count": 20,
      "id": "9399573c-32eb-4cfd-a9c4-52806c19ab49",
      "metadata": {
        "colab": {
          "base_uri": "https://localhost:8080/"
        },
        "id": "9399573c-32eb-4cfd-a9c4-52806c19ab49",
        "outputId": "750e8247-500d-4946-9334-1e1c04f34147"
      },
      "outputs": [
        {
          "output_type": "stream",
          "name": "stdout",
          "text": [
            "[\"'d\", \"'ll\", \"'m\", \"'re\", \"'s\", \"'ve\", 'a', 'about', 'above', 'across', 'after', 'afterwards', 'again', 'against', 'all', 'almost', 'alone', 'along', 'already', 'also', 'although', 'always', 'am', 'among', 'amongst', 'amount', 'an', 'and', 'another', 'any', 'anyhow', 'anyone', 'anything', 'anyway', 'anywhere', 'are', 'around', 'as', 'at', 'back', 'be', 'became', 'because', 'become', 'becomes', 'becoming', 'been', 'before', 'beforehand', 'behind', 'being', 'below', 'beside', 'besides', 'between', 'beyond', 'both', 'bottom', 'but', 'by', 'ca', 'call', 'can', 'cannot', 'could', 'did', 'do', 'does', 'doing', 'done', 'down', 'due', 'during', 'each', 'eight', 'either', 'eleven', 'else', 'elsewhere', 'empty', 'enough', 'even', 'ever', 'every', 'everyone', 'everything', 'everywhere', 'except', 'few', 'fifteen', 'fifty', 'first', 'five', 'for', 'former', 'formerly', 'forty', 'four', 'from', 'front', 'full', 'further', 'get', 'give', 'go', 'had', 'has', 'have', 'he', 'hence', 'her', 'here', 'hereafter', 'hereby', 'herein', 'hereupon', 'hers', 'herself', 'him', 'himself', 'his', 'how', 'however', 'hundred', 'i', 'if', 'in', 'indeed', 'into', 'is', 'it', 'its', 'itself', 'just', 'keep', 'last', 'latter', 'latterly', 'least', 'less', 'made', 'make', 'many', 'may', 'me', 'meanwhile', 'might', 'mine', 'more', 'moreover', 'most', 'mostly', 'move', 'much', 'must', 'my', 'myself', \"n't\", 'name', 'namely', 'neither', 'never', 'nevertheless', 'next', 'nine', 'no', 'nobody', 'none', 'noone', 'nor', 'not', 'nothing', 'now', 'nowhere', 'n‘t', 'n’t', 'of', 'off', 'often', 'on', 'once', 'one', 'only', 'onto', 'or', 'other', 'others', 'otherwise', 'our', 'ours', 'ourselves', 'out', 'over', 'own', 'part', 'per', 'perhaps', 'please', 'put', 'quite', 'rather', 're', 'really', 'regarding', 'same', 'say', 'see', 'seem', 'seemed', 'seeming', 'seems', 'serious', 'several', 'she', 'should', 'show', 'side', 'since', 'six', 'sixty', 'so', 'some', 'somehow', 'someone', 'something', 'sometime', 'sometimes', 'somewhere', 'still', 'such', 'take', 'ten', 'than', 'that', 'the', 'their', 'them', 'themselves', 'then', 'thence', 'there', 'thereafter', 'thereby', 'therefore', 'therein', 'thereupon', 'these', 'they', 'third', 'this', 'those', 'though', 'three', 'through', 'throughout', 'thru', 'thus', 'to', 'together', 'too', 'top', 'toward', 'towards', 'twelve', 'twenty', 'two', 'under', 'unless', 'until', 'up', 'upon', 'us', 'used', 'using', 'various', 'very', 'via', 'was', 'we', 'well', 'were', 'what', 'whatever', 'when', 'whence', 'whenever', 'where', 'whereafter', 'whereas', 'whereby', 'wherein', 'whereupon', 'wherever', 'whether', 'which', 'while', 'whither', 'who', 'whoever', 'whole', 'whom', 'whose', 'why', 'will', 'with', 'within', 'without', 'would', 'yet', 'you', 'your', 'yours', 'yourself', 'yourselves', '‘d', '‘ll', '‘m', '‘re', '‘s', '‘ve', '’d', '’ll', '’m', '’re', '’s', '’ve']\n",
            "Number of spaCy stopwords: 326\n"
          ]
        }
      ],
      "source": [
        "#print the list of stopwords\n",
        "print(sorted(nlp.Defaults.stop_words))\n",
        "# Print total number of unique stopwords in spaCy's English model\n",
        "print(\"Number of spaCy stopwords:\", len(nlp.Defaults.stop_words))"
      ]
    },
    {
      "cell_type": "code",
      "execution_count": 21,
      "id": "28s9aph2Eakg",
      "metadata": {
        "id": "28s9aph2Eakg"
      },
      "outputs": [],
      "source": [
        "X_train = pd.Series(spacy_preprocess_pipe(X_train))\n",
        "X_test = pd.Series(spacy_preprocess_pipe(X_test))\n"
      ]
    },
    {
      "cell_type": "code",
      "execution_count": 22,
      "id": "d58c9bc6-c59e-4747-9cfa-9d13b61cf0fb",
      "metadata": {
        "id": "d58c9bc6-c59e-4747-9cfa-9d13b61cf0fb"
      },
      "outputs": [],
      "source": [
        "from tensorflow.keras.preprocessing.text import Tokenizer\n",
        "\n",
        "# Define tokenizer parameters\n",
        "vocab_size = 10000\n",
        "tokenizer = Tokenizer(num_words=vocab_size, oov_token=\"<OOV>\")\n",
        "\n",
        "# Fit tokenizer on training data\n",
        "tokenizer.fit_on_texts(X_train)\n",
        "\n",
        "# Convert text to sequences\n",
        "X_train_seq = tokenizer.texts_to_sequences(X_train)\n",
        "X_test_seq = tokenizer.texts_to_sequences(X_test)\n"
      ]
    },
    {
      "cell_type": "code",
      "execution_count": 23,
      "id": "06da5e13-709c-4c8d-8448-972449053fae",
      "metadata": {
        "id": "06da5e13-709c-4c8d-8448-972449053fae"
      },
      "outputs": [],
      "source": [
        "from tensorflow.keras.preprocessing.sequence import pad_sequences\n",
        "\n",
        "max_len = 100\n",
        "\n",
        "X_train_pad = pad_sequences(X_train_seq, maxlen=max_len, padding='post', truncating='post')\n",
        "X_test_pad = pad_sequences(X_test_seq, maxlen=max_len, padding='post', truncating='post')\n"
      ]
    },
    {
      "cell_type": "code",
      "execution_count": 24,
      "id": "T72wc4AsU5RF",
      "metadata": {
        "id": "T72wc4AsU5RF"
      },
      "outputs": [],
      "source": [
        "#import pickle\n",
        "\n",
        "\n",
        "\n",
        "\n",
        "#with open('/content/drive/My Drive/maxlen_balanced1.pkl', 'wb') as f:\n",
        "#    pickle.dump(max_len, f)\n"
      ]
    },
    {
      "cell_type": "code",
      "execution_count": 25,
      "id": "b2SMACuSM7v1",
      "metadata": {
        "id": "b2SMACuSM7v1"
      },
      "outputs": [],
      "source": [
        "#!wget http://nlp.stanford.edu/data/glove.6B.zip\n",
        "#!unzip glove.6B.zip\n"
      ]
    },
    {
      "cell_type": "code",
      "execution_count": 26,
      "id": "TBjmzx14VB9g",
      "metadata": {
        "id": "TBjmzx14VB9g"
      },
      "outputs": [],
      "source": [
        "import numpy as np\n",
        "\n",
        "embedding_index = {}\n",
        "embedding_dim = 300  # FastText uses 300-dim vectors\n",
        "\n",
        "# Change path accordingly if it's in Drive\n",
        "with open(\"/content/drive/MyDrive/wiki.simple.vec\", encoding='utf-8') as f:\n",
        "    next(f)  # skip header line (e.g., \"111051 300\")\n",
        "    for line in f:\n",
        "        values = line.rstrip().split(' ')\n",
        "        word = values[0]\n",
        "        try:\n",
        "            vector = np.asarray(values[1:], dtype='float32')\n",
        "            if vector.shape[0] == embedding_dim:  # ensure it's valid\n",
        "                embedding_index[word] = vector\n",
        "        except ValueError:\n",
        "            continue  # skip malformed lines"
      ]
    },
    {
      "cell_type": "code",
      "execution_count": 27,
      "id": "Ztjl3704LyL-",
      "metadata": {
        "id": "Ztjl3704LyL-"
      },
      "outputs": [],
      "source": [
        "from tensorflow.keras.preprocessing.text import Tokenizer\n",
        "\n",
        "# Assuming you have already fitted your tokenizer\n",
        "word_index = tokenizer.word_index\n",
        "vocab_size = len(word_index) + 1  # +1 for padding token\n",
        "\n",
        "embedding_matrix = np.zeros((vocab_size, embedding_dim))\n",
        "\n",
        "for word, i in word_index.items():\n",
        "    embedding_vector = embedding_index.get(word)\n",
        "    if embedding_vector is not None:\n",
        "        embedding_matrix[i] = embedding_vector\n",
        "\n"
      ]
    },
    {
      "cell_type": "code",
      "execution_count": 28,
      "id": "fa22ce3a-18a6-4bc5-beb0-d3042b909375",
      "metadata": {
        "id": "fa22ce3a-18a6-4bc5-beb0-d3042b909375"
      },
      "outputs": [],
      "source": [
        "#  Fix the labels (make them start from 0)\n",
        "y_train = y_train - 1\n",
        "y_test = y_test - 1"
      ]
    },
    {
      "cell_type": "code",
      "execution_count": 34,
      "id": "e760cc99-a041-4296-b0ae-0c22a8aafdd8",
      "metadata": {
        "colab": {
          "base_uri": "https://localhost:8080/",
          "height": 448
        },
        "id": "e760cc99-a041-4296-b0ae-0c22a8aafdd8",
        "outputId": "d5f96a64-2e38-41aa-cc55-f83137ea867d"
      },
      "outputs": [
        {
          "output_type": "display_data",
          "data": {
            "text/plain": [
              "\u001b[1mModel: \"sequential_5\"\u001b[0m\n"
            ],
            "text/html": [
              "<pre style=\"white-space:pre;overflow-x:auto;line-height:normal;font-family:Menlo,'DejaVu Sans Mono',consolas,'Courier New',monospace\"><span style=\"font-weight: bold\">Model: \"sequential_5\"</span>\n",
              "</pre>\n"
            ]
          },
          "metadata": {}
        },
        {
          "output_type": "display_data",
          "data": {
            "text/plain": [
              "┏━━━━━━━━━━━━━━━━━━━━━━━━━━━━━━━━━┳━━━━━━━━━━━━━━━━━━━━━━━━┳━━━━━━━━━━━━━━━┓\n",
              "┃\u001b[1m \u001b[0m\u001b[1mLayer (type)                   \u001b[0m\u001b[1m \u001b[0m┃\u001b[1m \u001b[0m\u001b[1mOutput Shape          \u001b[0m\u001b[1m \u001b[0m┃\u001b[1m \u001b[0m\u001b[1m      Param #\u001b[0m\u001b[1m \u001b[0m┃\n",
              "┡━━━━━━━━━━━━━━━━━━━━━━━━━━━━━━━━━╇━━━━━━━━━━━━━━━━━━━━━━━━╇━━━━━━━━━━━━━━━┩\n",
              "│ embedding_4 (\u001b[38;5;33mEmbedding\u001b[0m)         │ ?                      │    \u001b[38;5;34m29,509,800\u001b[0m │\n",
              "├─────────────────────────────────┼────────────────────────┼───────────────┤\n",
              "│ bidirectional_5 (\u001b[38;5;33mBidirectional\u001b[0m) │ ?                      │   \u001b[38;5;34m0\u001b[0m (unbuilt) │\n",
              "├─────────────────────────────────┼────────────────────────┼───────────────┤\n",
              "│ dropout_7 (\u001b[38;5;33mDropout\u001b[0m)             │ ?                      │             \u001b[38;5;34m0\u001b[0m │\n",
              "├─────────────────────────────────┼────────────────────────┼───────────────┤\n",
              "│ dense_9 (\u001b[38;5;33mDense\u001b[0m)                 │ ?                      │   \u001b[38;5;34m0\u001b[0m (unbuilt) │\n",
              "├─────────────────────────────────┼────────────────────────┼───────────────┤\n",
              "│ dense_10 (\u001b[38;5;33mDense\u001b[0m)                │ ?                      │   \u001b[38;5;34m0\u001b[0m (unbuilt) │\n",
              "└─────────────────────────────────┴────────────────────────┴───────────────┘\n"
            ],
            "text/html": [
              "<pre style=\"white-space:pre;overflow-x:auto;line-height:normal;font-family:Menlo,'DejaVu Sans Mono',consolas,'Courier New',monospace\">┏━━━━━━━━━━━━━━━━━━━━━━━━━━━━━━━━━┳━━━━━━━━━━━━━━━━━━━━━━━━┳━━━━━━━━━━━━━━━┓\n",
              "┃<span style=\"font-weight: bold\"> Layer (type)                    </span>┃<span style=\"font-weight: bold\"> Output Shape           </span>┃<span style=\"font-weight: bold\">       Param # </span>┃\n",
              "┡━━━━━━━━━━━━━━━━━━━━━━━━━━━━━━━━━╇━━━━━━━━━━━━━━━━━━━━━━━━╇━━━━━━━━━━━━━━━┩\n",
              "│ embedding_4 (<span style=\"color: #0087ff; text-decoration-color: #0087ff\">Embedding</span>)         │ ?                      │    <span style=\"color: #00af00; text-decoration-color: #00af00\">29,509,800</span> │\n",
              "├─────────────────────────────────┼────────────────────────┼───────────────┤\n",
              "│ bidirectional_5 (<span style=\"color: #0087ff; text-decoration-color: #0087ff\">Bidirectional</span>) │ ?                      │   <span style=\"color: #00af00; text-decoration-color: #00af00\">0</span> (unbuilt) │\n",
              "├─────────────────────────────────┼────────────────────────┼───────────────┤\n",
              "│ dropout_7 (<span style=\"color: #0087ff; text-decoration-color: #0087ff\">Dropout</span>)             │ ?                      │             <span style=\"color: #00af00; text-decoration-color: #00af00\">0</span> │\n",
              "├─────────────────────────────────┼────────────────────────┼───────────────┤\n",
              "│ dense_9 (<span style=\"color: #0087ff; text-decoration-color: #0087ff\">Dense</span>)                 │ ?                      │   <span style=\"color: #00af00; text-decoration-color: #00af00\">0</span> (unbuilt) │\n",
              "├─────────────────────────────────┼────────────────────────┼───────────────┤\n",
              "│ dense_10 (<span style=\"color: #0087ff; text-decoration-color: #0087ff\">Dense</span>)                │ ?                      │   <span style=\"color: #00af00; text-decoration-color: #00af00\">0</span> (unbuilt) │\n",
              "└─────────────────────────────────┴────────────────────────┴───────────────┘\n",
              "</pre>\n"
            ]
          },
          "metadata": {}
        },
        {
          "output_type": "display_data",
          "data": {
            "text/plain": [
              "\u001b[1m Total params: \u001b[0m\u001b[38;5;34m29,509,800\u001b[0m (112.57 MB)\n"
            ],
            "text/html": [
              "<pre style=\"white-space:pre;overflow-x:auto;line-height:normal;font-family:Menlo,'DejaVu Sans Mono',consolas,'Courier New',monospace\"><span style=\"font-weight: bold\"> Total params: </span><span style=\"color: #00af00; text-decoration-color: #00af00\">29,509,800</span> (112.57 MB)\n",
              "</pre>\n"
            ]
          },
          "metadata": {}
        },
        {
          "output_type": "display_data",
          "data": {
            "text/plain": [
              "\u001b[1m Trainable params: \u001b[0m\u001b[38;5;34m29,509,800\u001b[0m (112.57 MB)\n"
            ],
            "text/html": [
              "<pre style=\"white-space:pre;overflow-x:auto;line-height:normal;font-family:Menlo,'DejaVu Sans Mono',consolas,'Courier New',monospace\"><span style=\"font-weight: bold\"> Trainable params: </span><span style=\"color: #00af00; text-decoration-color: #00af00\">29,509,800</span> (112.57 MB)\n",
              "</pre>\n"
            ]
          },
          "metadata": {}
        },
        {
          "output_type": "display_data",
          "data": {
            "text/plain": [
              "\u001b[1m Non-trainable params: \u001b[0m\u001b[38;5;34m0\u001b[0m (0.00 B)\n"
            ],
            "text/html": [
              "<pre style=\"white-space:pre;overflow-x:auto;line-height:normal;font-family:Menlo,'DejaVu Sans Mono',consolas,'Courier New',monospace\"><span style=\"font-weight: bold\"> Non-trainable params: </span><span style=\"color: #00af00; text-decoration-color: #00af00\">0</span> (0.00 B)\n",
              "</pre>\n"
            ]
          },
          "metadata": {}
        },
        {
          "output_type": "stream",
          "name": "stdout",
          "text": [
            "Epoch 1/20\n",
            "\u001b[1m1250/1250\u001b[0m \u001b[32m━━━━━━━━━━━━━━━━━━━━\u001b[0m\u001b[37m\u001b[0m \u001b[1m45s\u001b[0m 33ms/step - accuracy: 0.4326 - loss: 1.2804 - val_accuracy: 0.5343 - val_loss: 1.0782\n",
            "Epoch 2/20\n",
            "\u001b[1m1250/1250\u001b[0m \u001b[32m━━━━━━━━━━━━━━━━━━━━\u001b[0m\u001b[37m\u001b[0m \u001b[1m83s\u001b[0m 34ms/step - accuracy: 0.5602 - loss: 1.0246 - val_accuracy: 0.5451 - val_loss: 1.0714\n",
            "Epoch 3/20\n",
            "\u001b[1m1250/1250\u001b[0m \u001b[32m━━━━━━━━━━━━━━━━━━━━\u001b[0m\u001b[37m\u001b[0m \u001b[1m81s\u001b[0m 33ms/step - accuracy: 0.5941 - loss: 0.9499 - val_accuracy: 0.5467 - val_loss: 1.0857\n",
            "Epoch 4/20\n",
            "\u001b[1m1250/1250\u001b[0m \u001b[32m━━━━━━━━━━━━━━━━━━━━\u001b[0m\u001b[37m\u001b[0m \u001b[1m82s\u001b[0m 33ms/step - accuracy: 0.6317 - loss: 0.8698 - val_accuracy: 0.5393 - val_loss: 1.0938\n"
          ]
        }
      ],
      "source": [
        "from tensorflow.keras.models import Sequential\n",
        "from tensorflow.keras.layers import Embedding, LSTM, Dense, Bidirectional, Dropout\n",
        "from tensorflow.keras.callbacks import EarlyStopping\n",
        "\n",
        "\n",
        "model = Sequential()\n",
        "\n",
        "model.add(Embedding(input_dim=vocab_size,\n",
        "                    output_dim=embedding_dim,\n",
        "                    weights=[embedding_matrix],\n",
        "                    input_length=max_len,\n",
        "                    trainable=True))\n",
        "model.add(Bidirectional(LSTM(128, return_sequences=False)))\n",
        "model.add(Dropout(0.5))  # optional but helps reduce overfitting\n",
        "model.add(Dense(32, activation='relu'))\n",
        "model.add(Dense(5, activation='softmax'))  # 5 classes for ratings\n",
        "\n",
        "model.compile(loss='sparse_categorical_crossentropy', optimizer='adam', metrics=['accuracy'])\n",
        "model.summary()\n",
        "\n",
        "# Train\n",
        "early_stop = EarlyStopping(monitor='val_loss', patience=2, restore_best_weights=True)\n",
        "history = model.fit(X_train_pad, y_train, epochs=20, batch_size=64, validation_data=(X_test_pad, y_test),callbacks=[early_stop])\n"
      ]
    },
    {
      "cell_type": "code",
      "execution_count": null,
      "id": "edd-KcqfKqv-",
      "metadata": {
        "colab": {
          "base_uri": "https://localhost:8080/"
        },
        "id": "edd-KcqfKqv-",
        "outputId": "025b080b-999e-40e4-e10f-f42c30c1a97e"
      },
      "outputs": [
        {
          "name": "stderr",
          "output_type": "stream",
          "text": [
            "WARNING:absl:You are saving your model as an HDF5 file via `model.save()` or `keras.saving.save_model(model)`. This file format is considered legacy. We recommend using instead the native Keras format, e.g. `model.save('my_model.keras')` or `keras.saving.save_model(model, 'my_model.keras')`. \n"
          ]
        }
      ],
      "source": [
        "#model.save(\"/content/drive/MyDrive/deep_balanced_model.h5\")"
      ]
    },
    {
      "cell_type": "code",
      "execution_count": 35,
      "id": "9552258f-fe34-468b-9f04-333c56658672",
      "metadata": {
        "colab": {
          "base_uri": "https://localhost:8080/"
        },
        "id": "9552258f-fe34-468b-9f04-333c56658672",
        "outputId": "b2779711-1b29-420f-d6bd-5c3838389c27"
      },
      "outputs": [
        {
          "output_type": "stream",
          "name": "stderr",
          "text": [
            "WARNING:absl:You are saving your model as an HDF5 file via `model.save()` or `keras.saving.save_model(model)`. This file format is considered legacy. We recommend using instead the native Keras format, e.g. `model.save('my_model.keras')` or `keras.saving.save_model(model, 'my_model.keras')`. \n"
          ]
        }
      ],
      "source": [
        "model.save(\"/content/drive/MyDrive/deep_balanced_model4.h5\")"
      ]
    },
    {
      "cell_type": "code",
      "execution_count": null,
      "id": "i0srX2yjAN-L",
      "metadata": {
        "id": "i0srX2yjAN-L"
      },
      "outputs": [],
      "source": []
    }
  ],
  "metadata": {
    "accelerator": "GPU",
    "colab": {
      "gpuType": "T4",
      "provenance": []
    },
    "kernelspec": {
      "display_name": "Python [conda env:base] *",
      "language": "python",
      "name": "conda-base-py"
    },
    "language_info": {
      "codemirror_mode": {
        "name": "ipython",
        "version": 3
      },
      "file_extension": ".py",
      "mimetype": "text/x-python",
      "name": "python",
      "nbconvert_exporter": "python",
      "pygments_lexer": "ipython3",
      "version": "3.12.7"
    }
  },
  "nbformat": 4,
  "nbformat_minor": 5
}