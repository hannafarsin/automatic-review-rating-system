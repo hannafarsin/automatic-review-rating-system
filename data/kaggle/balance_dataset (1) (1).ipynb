{
 "cells": [
  {
   "cell_type": "code",
   "execution_count": 4,
   "id": "aa1f021c-5baa-4a63-9d04-14257eee3dc8",
   "metadata": {},
   "outputs": [],
   "source": [
    "import pandas as pd\n",
    "import matplotlib.pyplot as plt\n",
    "import seaborn as sns\n",
    "from sklearn.utils import resample\n",
    "import string\n",
    "import re\n",
    "\n",
    "\n",
    "sns.set()"
   ]
  },
  {
   "cell_type": "code",
   "execution_count": 5,
   "id": "c85899d0-4277-43be-85e7-bd9ef7b16beb",
   "metadata": {},
   "outputs": [
    {
     "data": {
      "text/html": [
       "<div>\n",
       "<style scoped>\n",
       "    .dataframe tbody tr th:only-of-type {\n",
       "        vertical-align: middle;\n",
       "    }\n",
       "\n",
       "    .dataframe tbody tr th {\n",
       "        vertical-align: top;\n",
       "    }\n",
       "\n",
       "    .dataframe thead th {\n",
       "        text-align: right;\n",
       "    }\n",
       "</style>\n",
       "<table border=\"1\" class=\"dataframe\">\n",
       "  <thead>\n",
       "    <tr style=\"text-align: right;\">\n",
       "      <th></th>\n",
       "      <th>reviewerID</th>\n",
       "      <th>asin</th>\n",
       "      <th>reviewerName</th>\n",
       "      <th>helpful</th>\n",
       "      <th>reviewText</th>\n",
       "      <th>Rating</th>\n",
       "      <th>summary</th>\n",
       "      <th>unixReviewTime</th>\n",
       "      <th>reviewTime</th>\n",
       "    </tr>\n",
       "  </thead>\n",
       "  <tbody>\n",
       "    <tr>\n",
       "      <th>0</th>\n",
       "      <td>A30TL5EWN6DFXT</td>\n",
       "      <td>120401325X</td>\n",
       "      <td>christina</td>\n",
       "      <td>[0, 0]</td>\n",
       "      <td>They look good and stick good! I just don't li...</td>\n",
       "      <td>4</td>\n",
       "      <td>Looks Good</td>\n",
       "      <td>1400630400</td>\n",
       "      <td>05 21, 2014</td>\n",
       "    </tr>\n",
       "    <tr>\n",
       "      <th>1</th>\n",
       "      <td>ASY55RVNIL0UD</td>\n",
       "      <td>120401325X</td>\n",
       "      <td>emily l.</td>\n",
       "      <td>[0, 0]</td>\n",
       "      <td>These stickers work like the review says they ...</td>\n",
       "      <td>5</td>\n",
       "      <td>Really great product.</td>\n",
       "      <td>1389657600</td>\n",
       "      <td>01 14, 2014</td>\n",
       "    </tr>\n",
       "    <tr>\n",
       "      <th>2</th>\n",
       "      <td>A2TMXE2AFO7ONB</td>\n",
       "      <td>120401325X</td>\n",
       "      <td>Erica</td>\n",
       "      <td>[0, 0]</td>\n",
       "      <td>These are awesome and make my phone look so st...</td>\n",
       "      <td>5</td>\n",
       "      <td>LOVE LOVE LOVE</td>\n",
       "      <td>1403740800</td>\n",
       "      <td>06 26, 2014</td>\n",
       "    </tr>\n",
       "    <tr>\n",
       "      <th>3</th>\n",
       "      <td>AWJ0WZQYMYFQ4</td>\n",
       "      <td>120401325X</td>\n",
       "      <td>JM</td>\n",
       "      <td>[4, 4]</td>\n",
       "      <td>Item arrived in great time and was in perfect ...</td>\n",
       "      <td>4</td>\n",
       "      <td>Cute!</td>\n",
       "      <td>1382313600</td>\n",
       "      <td>10 21, 2013</td>\n",
       "    </tr>\n",
       "    <tr>\n",
       "      <th>4</th>\n",
       "      <td>ATX7CZYFXI1KW</td>\n",
       "      <td>120401325X</td>\n",
       "      <td>patrice m rogoza</td>\n",
       "      <td>[2, 3]</td>\n",
       "      <td>awesome! stays on, and looks great. can be use...</td>\n",
       "      <td>5</td>\n",
       "      <td>leopard home button sticker for iphone 4s</td>\n",
       "      <td>1359849600</td>\n",
       "      <td>02 3, 2013</td>\n",
       "    </tr>\n",
       "    <tr>\n",
       "      <th>...</th>\n",
       "      <td>...</td>\n",
       "      <td>...</td>\n",
       "      <td>...</td>\n",
       "      <td>...</td>\n",
       "      <td>...</td>\n",
       "      <td>...</td>\n",
       "      <td>...</td>\n",
       "      <td>...</td>\n",
       "      <td>...</td>\n",
       "    </tr>\n",
       "    <tr>\n",
       "      <th>194434</th>\n",
       "      <td>A1YMNTFLNDYQ1F</td>\n",
       "      <td>B00LORXVUE</td>\n",
       "      <td>eyeused2loveher</td>\n",
       "      <td>[0, 0]</td>\n",
       "      <td>Works great just like my original one. I reall...</td>\n",
       "      <td>5</td>\n",
       "      <td>This works just perfect!</td>\n",
       "      <td>1405900800</td>\n",
       "      <td>07 21, 2014</td>\n",
       "    </tr>\n",
       "    <tr>\n",
       "      <th>194435</th>\n",
       "      <td>A15TX8B2L8B20S</td>\n",
       "      <td>B00LORXVUE</td>\n",
       "      <td>Jon Davidson</td>\n",
       "      <td>[0, 0]</td>\n",
       "      <td>Great product. Great packaging. High quality a...</td>\n",
       "      <td>5</td>\n",
       "      <td>Great replacement cable. Apple certified</td>\n",
       "      <td>1405900800</td>\n",
       "      <td>07 21, 2014</td>\n",
       "    </tr>\n",
       "    <tr>\n",
       "      <th>194436</th>\n",
       "      <td>A3JI7QRZO1QG8X</td>\n",
       "      <td>B00LORXVUE</td>\n",
       "      <td>Joyce M. Davidson</td>\n",
       "      <td>[0, 0]</td>\n",
       "      <td>This is a great cable, just as good as the mor...</td>\n",
       "      <td>5</td>\n",
       "      <td>Real quality</td>\n",
       "      <td>1405900800</td>\n",
       "      <td>07 21, 2014</td>\n",
       "    </tr>\n",
       "    <tr>\n",
       "      <th>194437</th>\n",
       "      <td>A1NHB2VC68YQNM</td>\n",
       "      <td>B00LORXVUE</td>\n",
       "      <td>Nurse Farrugia</td>\n",
       "      <td>[0, 0]</td>\n",
       "      <td>I really like it becasue it works well with my...</td>\n",
       "      <td>5</td>\n",
       "      <td>I really like it becasue it works well with my...</td>\n",
       "      <td>1405814400</td>\n",
       "      <td>07 20, 2014</td>\n",
       "    </tr>\n",
       "    <tr>\n",
       "      <th>194438</th>\n",
       "      <td>A1AG6U022WHXBF</td>\n",
       "      <td>B00LORXVUE</td>\n",
       "      <td>Trisha Crocker</td>\n",
       "      <td>[0, 0]</td>\n",
       "      <td>product as described, I have wasted a lot of m...</td>\n",
       "      <td>5</td>\n",
       "      <td>I have wasted a lot of money on cords</td>\n",
       "      <td>1405900800</td>\n",
       "      <td>07 21, 2014</td>\n",
       "    </tr>\n",
       "  </tbody>\n",
       "</table>\n",
       "<p>194439 rows × 9 columns</p>\n",
       "</div>"
      ],
      "text/plain": [
       "            reviewerID        asin       reviewerName helpful  \\\n",
       "0       A30TL5EWN6DFXT  120401325X          christina  [0, 0]   \n",
       "1        ASY55RVNIL0UD  120401325X           emily l.  [0, 0]   \n",
       "2       A2TMXE2AFO7ONB  120401325X              Erica  [0, 0]   \n",
       "3        AWJ0WZQYMYFQ4  120401325X                 JM  [4, 4]   \n",
       "4        ATX7CZYFXI1KW  120401325X   patrice m rogoza  [2, 3]   \n",
       "...                ...         ...                ...     ...   \n",
       "194434  A1YMNTFLNDYQ1F  B00LORXVUE    eyeused2loveher  [0, 0]   \n",
       "194435  A15TX8B2L8B20S  B00LORXVUE       Jon Davidson  [0, 0]   \n",
       "194436  A3JI7QRZO1QG8X  B00LORXVUE  Joyce M. Davidson  [0, 0]   \n",
       "194437  A1NHB2VC68YQNM  B00LORXVUE     Nurse Farrugia  [0, 0]   \n",
       "194438  A1AG6U022WHXBF  B00LORXVUE     Trisha Crocker  [0, 0]   \n",
       "\n",
       "                                               reviewText  Rating  \\\n",
       "0       They look good and stick good! I just don't li...       4   \n",
       "1       These stickers work like the review says they ...       5   \n",
       "2       These are awesome and make my phone look so st...       5   \n",
       "3       Item arrived in great time and was in perfect ...       4   \n",
       "4       awesome! stays on, and looks great. can be use...       5   \n",
       "...                                                   ...     ...   \n",
       "194434  Works great just like my original one. I reall...       5   \n",
       "194435  Great product. Great packaging. High quality a...       5   \n",
       "194436  This is a great cable, just as good as the mor...       5   \n",
       "194437  I really like it becasue it works well with my...       5   \n",
       "194438  product as described, I have wasted a lot of m...       5   \n",
       "\n",
       "                                                  summary  unixReviewTime  \\\n",
       "0                                              Looks Good      1400630400   \n",
       "1                                   Really great product.      1389657600   \n",
       "2                                          LOVE LOVE LOVE      1403740800   \n",
       "3                                                   Cute!      1382313600   \n",
       "4               leopard home button sticker for iphone 4s      1359849600   \n",
       "...                                                   ...             ...   \n",
       "194434                           This works just perfect!      1405900800   \n",
       "194435           Great replacement cable. Apple certified      1405900800   \n",
       "194436                                       Real quality      1405900800   \n",
       "194437  I really like it becasue it works well with my...      1405814400   \n",
       "194438              I have wasted a lot of money on cords      1405900800   \n",
       "\n",
       "         reviewTime  \n",
       "0       05 21, 2014  \n",
       "1       01 14, 2014  \n",
       "2       06 26, 2014  \n",
       "3       10 21, 2013  \n",
       "4        02 3, 2013  \n",
       "...             ...  \n",
       "194434  07 21, 2014  \n",
       "194435  07 21, 2014  \n",
       "194436  07 21, 2014  \n",
       "194437  07 20, 2014  \n",
       "194438  07 21, 2014  \n",
       "\n",
       "[194439 rows x 9 columns]"
      ]
     },
     "execution_count": 5,
     "metadata": {},
     "output_type": "execute_result"
    }
   ],
   "source": [
    "df = pd.read_csv('reviews_output.csv')\n",
    "df"
   ]
  },
  {
   "cell_type": "code",
   "execution_count": 6,
   "id": "07c02ad0-74ff-4e1e-b7b3-93840195c7ce",
   "metadata": {},
   "outputs": [
    {
     "data": {
      "text/plain": [
       "Index(['reviewerID', 'asin', 'reviewerName', 'helpful', 'reviewText', 'Rating',\n",
       "       'summary', 'unixReviewTime', 'reviewTime'],\n",
       "      dtype='object')"
      ]
     },
     "execution_count": 6,
     "metadata": {},
     "output_type": "execute_result"
    }
   ],
   "source": [
    "df.columns"
   ]
  },
  {
   "cell_type": "code",
   "execution_count": 7,
   "id": "465c88a4-2a52-4830-97c6-6634ed7da36a",
   "metadata": {},
   "outputs": [
    {
     "data": {
      "text/plain": [
       "reviewerID        object\n",
       "asin              object\n",
       "reviewerName      object\n",
       "helpful           object\n",
       "reviewText        object\n",
       "Rating             int64\n",
       "summary           object\n",
       "unixReviewTime     int64\n",
       "reviewTime        object\n",
       "dtype: object"
      ]
     },
     "execution_count": 7,
     "metadata": {},
     "output_type": "execute_result"
    }
   ],
   "source": [
    "df.dtypes"
   ]
  },
  {
   "cell_type": "code",
   "execution_count": 8,
   "id": "6075230f-95c6-454a-bd44-971c3cc2cbaf",
   "metadata": {},
   "outputs": [
    {
     "data": {
      "text/plain": [
       "(194439, 9)"
      ]
     },
     "execution_count": 8,
     "metadata": {},
     "output_type": "execute_result"
    }
   ],
   "source": [
    "df.shape"
   ]
  },
  {
   "cell_type": "code",
   "execution_count": 9,
   "id": "7170565c-3949-46a1-b2a7-fd3091644ede",
   "metadata": {},
   "outputs": [
    {
     "data": {
      "text/plain": [
       "reviewerID        False\n",
       "asin              False\n",
       "reviewerName       True\n",
       "helpful           False\n",
       "reviewText         True\n",
       "Rating            False\n",
       "summary            True\n",
       "unixReviewTime    False\n",
       "reviewTime        False\n",
       "dtype: bool"
      ]
     },
     "execution_count": 9,
     "metadata": {},
     "output_type": "execute_result"
    }
   ],
   "source": [
    "df.isnull().any()"
   ]
  },
  {
   "cell_type": "code",
   "execution_count": 10,
   "id": "0c49f165-b491-4d68-9b38-73576cce338b",
   "metadata": {},
   "outputs": [
    {
     "data": {
      "text/plain": [
       "reviewerID           0\n",
       "asin                 0\n",
       "reviewerName      3525\n",
       "helpful              0\n",
       "reviewText          99\n",
       "Rating               0\n",
       "summary              1\n",
       "unixReviewTime       0\n",
       "reviewTime           0\n",
       "dtype: int64"
      ]
     },
     "execution_count": 10,
     "metadata": {},
     "output_type": "execute_result"
    }
   ],
   "source": [
    "df.isnull().sum()"
   ]
  },
  {
   "cell_type": "code",
   "execution_count": 11,
   "id": "cfce3f94-a049-4809-bdd1-527a254cb636",
   "metadata": {},
   "outputs": [],
   "source": [
    "df_no_mv=df.dropna(subset=['reviewerName', 'reviewText', 'summary'], axis=0)"
   ]
  },
  {
   "cell_type": "code",
   "execution_count": 12,
   "id": "8cb857df-ed42-4f06-b790-632e733b474b",
   "metadata": {},
   "outputs": [
    {
     "data": {
      "text/plain": [
       "reviewerID        0\n",
       "asin              0\n",
       "reviewerName      0\n",
       "helpful           0\n",
       "reviewText        0\n",
       "Rating            0\n",
       "summary           0\n",
       "unixReviewTime    0\n",
       "reviewTime        0\n",
       "dtype: int64"
      ]
     },
     "execution_count": 12,
     "metadata": {},
     "output_type": "execute_result"
    }
   ],
   "source": [
    "df_no_mv.isnull().sum()"
   ]
  },
  {
   "cell_type": "code",
   "execution_count": 13,
   "id": "87fd9249-b5e8-46fa-bb78-094a4c4bf14b",
   "metadata": {},
   "outputs": [
    {
     "name": "stderr",
     "output_type": "stream",
     "text": [
      "C:\\Users\\TOSHIBA\\AppData\\Local\\Temp\\ipykernel_2892\\637934400.py:1: SettingWithCopyWarning: \n",
      "A value is trying to be set on a copy of a slice from a DataFrame\n",
      "\n",
      "See the caveats in the documentation: https://pandas.pydata.org/pandas-docs/stable/user_guide/indexing.html#returning-a-view-versus-a-copy\n",
      "  df_no_mv.drop('unixReviewTime',axis=1,inplace=True)\n"
     ]
    }
   ],
   "source": [
    "df_no_mv.drop('unixReviewTime',axis=1,inplace=True)"
   ]
  },
  {
   "cell_type": "code",
   "execution_count": 14,
   "id": "c9ebef27-78b8-4d88-8d1f-3382e7b7fa40",
   "metadata": {},
   "outputs": [
    {
     "data": {
      "text/plain": [
       "Index(['reviewerID', 'asin', 'reviewerName', 'helpful', 'reviewText', 'Rating',\n",
       "       'summary', 'reviewTime'],\n",
       "      dtype='object')"
      ]
     },
     "execution_count": 14,
     "metadata": {},
     "output_type": "execute_result"
    }
   ],
   "source": [
    "df_no_mv.columns"
   ]
  },
  {
   "cell_type": "code",
   "execution_count": 15,
   "id": "80ab20a6-7110-405b-b446-62a2eb51ec51",
   "metadata": {},
   "outputs": [
    {
     "data": {
      "text/plain": [
       "0"
      ]
     },
     "execution_count": 15,
     "metadata": {},
     "output_type": "execute_result"
    }
   ],
   "source": [
    "df_no_mv.duplicated().sum()"
   ]
  },
  {
   "cell_type": "code",
   "execution_count": 16,
   "id": "fe8974bf-0ca4-4dfa-878a-058f9fa577c0",
   "metadata": {},
   "outputs": [
    {
     "data": {
      "text/plain": [
       "Rating\n",
       "5    106508\n",
       "4     39285\n",
       "3     21070\n",
       "1     13067\n",
       "2     10884\n",
       "Name: count, dtype: int64"
      ]
     },
     "execution_count": 16,
     "metadata": {},
     "output_type": "execute_result"
    }
   ],
   "source": [
    "df_no_mv['Rating'].value_counts()"
   ]
  },
  {
   "cell_type": "code",
   "execution_count": 17,
   "id": "22ccc9e7-df63-49f9-8d2d-00920c6dbeb1",
   "metadata": {},
   "outputs": [
    {
     "data": {
      "text/html": [
       "<div>\n",
       "<style scoped>\n",
       "    .dataframe tbody tr th:only-of-type {\n",
       "        vertical-align: middle;\n",
       "    }\n",
       "\n",
       "    .dataframe tbody tr th {\n",
       "        vertical-align: top;\n",
       "    }\n",
       "\n",
       "    .dataframe thead th {\n",
       "        text-align: right;\n",
       "    }\n",
       "</style>\n",
       "<table border=\"1\" class=\"dataframe\">\n",
       "  <thead>\n",
       "    <tr style=\"text-align: right;\">\n",
       "      <th></th>\n",
       "      <th>reviewText</th>\n",
       "      <th>unique_ratings</th>\n",
       "    </tr>\n",
       "  </thead>\n",
       "  <tbody>\n",
       "    <tr>\n",
       "      <th>0</th>\n",
       "      <td>While the texture and feel of this keyboard ...</td>\n",
       "      <td>1</td>\n",
       "    </tr>\n",
       "    <tr>\n",
       "      <th>1</th>\n",
       "      <td>TheOXA 2600mAh Mini Power Bankis an ultra-sli...</td>\n",
       "      <td>1</td>\n",
       "    </tr>\n",
       "    <tr>\n",
       "      <th>2</th>\n",
       "      <td>thing this is the coolest case that is out th...</td>\n",
       "      <td>1</td>\n",
       "    </tr>\n",
       "    <tr>\n",
       "      <th>3</th>\n",
       "      <td>! ! !!  ! ! ! ! ! ! !  ! ! ! ! ! ! ! ! ! ! ! !...</td>\n",
       "      <td>1</td>\n",
       "    </tr>\n",
       "    <tr>\n",
       "      <th>4</th>\n",
       "      <td>! fits good kind of slippery though. love the ...</td>\n",
       "      <td>1</td>\n",
       "    </tr>\n",
       "    <tr>\n",
       "      <th>...</th>\n",
       "      <td>...</td>\n",
       "      <td>...</td>\n",
       "    </tr>\n",
       "    <tr>\n",
       "      <th>190662</th>\n",
       "      <td>zerolemon is the truth there's just nothing el...</td>\n",
       "      <td>1</td>\n",
       "    </tr>\n",
       "    <tr>\n",
       "      <th>190663</th>\n",
       "      <td>zps for I phone 5 5g 5s dream catcher Aztec wo...</td>\n",
       "      <td>1</td>\n",
       "    </tr>\n",
       "    <tr>\n",
       "      <th>190664</th>\n",
       "      <td>~ For just making mobile calls anywhere in the...</td>\n",
       "      <td>1</td>\n",
       "    </tr>\n",
       "    <tr>\n",
       "      <th>190665</th>\n",
       "      <td>~First I'd like to start off with I haven't ac...</td>\n",
       "      <td>1</td>\n",
       "    </tr>\n",
       "    <tr>\n",
       "      <th>190666</th>\n",
       "      <td>~~~EDIT: October 28, 2012~~~I am updating my r...</td>\n",
       "      <td>1</td>\n",
       "    </tr>\n",
       "  </tbody>\n",
       "</table>\n",
       "<p>190667 rows × 2 columns</p>\n",
       "</div>"
      ],
      "text/plain": [
       "                                               reviewText  unique_ratings\n",
       "0       \n",
       "\n",
       "While the texture and feel of this keyboard ...               1\n",
       "1        TheOXA 2600mAh Mini Power Bankis an ultra-sli...               1\n",
       "2        thing this is the coolest case that is out th...               1\n",
       "3       ! ! !!  ! ! ! ! ! ! !  ! ! ! ! ! ! ! ! ! ! ! !...               1\n",
       "4       ! fits good kind of slippery though. love the ...               1\n",
       "...                                                   ...             ...\n",
       "190662  zerolemon is the truth there's just nothing el...               1\n",
       "190663  zps for I phone 5 5g 5s dream catcher Aztec wo...               1\n",
       "190664  ~ For just making mobile calls anywhere in the...               1\n",
       "190665  ~First I'd like to start off with I haven't ac...               1\n",
       "190666  ~~~EDIT: October 28, 2012~~~I am updating my r...               1\n",
       "\n",
       "[190667 rows x 2 columns]"
      ]
     },
     "execution_count": 17,
     "metadata": {},
     "output_type": "execute_result"
    }
   ],
   "source": [
    "# Step 1: Check how many reviews have conflicting ratings\n",
    "conflict_counts = (\n",
    "    df_no_mv.groupby('reviewText')['Rating']\n",
    "      .nunique()\n",
    "      .reset_index()\n",
    "      .rename(columns={'Rating': 'unique_ratings'})\n",
    ")\n",
    "conflict_counts"
   ]
  },
  {
   "cell_type": "code",
   "execution_count": 18,
   "id": "4f68a7b2-aa21-4db9-833e-d8e3ca4677d3",
   "metadata": {},
   "outputs": [],
   "source": [
    "# Step 2: Get texts that have more than 1 unique rating\n",
    "conflicting_reviews = conflict_counts[conflict_counts['unique_ratings'] > 1]['reviewText']"
   ]
  },
  {
   "cell_type": "code",
   "execution_count": 19,
   "id": "882bb2a6-24f7-4474-8fae-3662892a0ca4",
   "metadata": {},
   "outputs": [
    {
     "data": {
      "text/html": [
       "<div>\n",
       "<style scoped>\n",
       "    .dataframe tbody tr th:only-of-type {\n",
       "        vertical-align: middle;\n",
       "    }\n",
       "\n",
       "    .dataframe tbody tr th {\n",
       "        vertical-align: top;\n",
       "    }\n",
       "\n",
       "    .dataframe thead th {\n",
       "        text-align: right;\n",
       "    }\n",
       "</style>\n",
       "<table border=\"1\" class=\"dataframe\">\n",
       "  <thead>\n",
       "    <tr style=\"text-align: right;\">\n",
       "      <th></th>\n",
       "      <th>reviewText</th>\n",
       "      <th>Rating</th>\n",
       "    </tr>\n",
       "  </thead>\n",
       "  <tbody>\n",
       "    <tr>\n",
       "      <th>0</th>\n",
       "      <td>#NAME?</td>\n",
       "      <td>[4, 5, 3, 2]</td>\n",
       "    </tr>\n",
       "    <tr>\n",
       "      <th>1</th>\n",
       "      <td>GOOD</td>\n",
       "      <td>[5, 3]</td>\n",
       "    </tr>\n",
       "    <tr>\n",
       "      <th>2</th>\n",
       "      <td>Good</td>\n",
       "      <td>[4, 5]</td>\n",
       "    </tr>\n",
       "    <tr>\n",
       "      <th>3</th>\n",
       "      <td>Good case</td>\n",
       "      <td>[4, 5]</td>\n",
       "    </tr>\n",
       "    <tr>\n",
       "      <th>4</th>\n",
       "      <td>Good product</td>\n",
       "      <td>[4, 5]</td>\n",
       "    </tr>\n",
       "    <tr>\n",
       "      <th>5</th>\n",
       "      <td>I bought the case for the wrong note. But I ha...</td>\n",
       "      <td>[4, 3]</td>\n",
       "    </tr>\n",
       "    <tr>\n",
       "      <th>6</th>\n",
       "      <td>I like it</td>\n",
       "      <td>[4, 5]</td>\n",
       "    </tr>\n",
       "    <tr>\n",
       "      <th>7</th>\n",
       "      <td>I love it</td>\n",
       "      <td>[4, 5]</td>\n",
       "    </tr>\n",
       "    <tr>\n",
       "      <th>8</th>\n",
       "      <td>Like it</td>\n",
       "      <td>[4, 5]</td>\n",
       "    </tr>\n",
       "    <tr>\n",
       "      <th>9</th>\n",
       "      <td>Love it</td>\n",
       "      <td>[1, 5, 4]</td>\n",
       "    </tr>\n",
       "  </tbody>\n",
       "</table>\n",
       "</div>"
      ],
      "text/plain": [
       "                                          reviewText        Rating\n",
       "0                                             #NAME?  [4, 5, 3, 2]\n",
       "1                                               GOOD        [5, 3]\n",
       "2                                               Good        [4, 5]\n",
       "3                                          Good case        [4, 5]\n",
       "4                                       Good product        [4, 5]\n",
       "5  I bought the case for the wrong note. But I ha...        [4, 3]\n",
       "6                                          I like it        [4, 5]\n",
       "7                                          I love it        [4, 5]\n",
       "8                                            Like it        [4, 5]\n",
       "9                                            Love it     [1, 5, 4]"
      ]
     },
     "execution_count": 19,
     "metadata": {},
     "output_type": "execute_result"
    }
   ],
   "source": [
    "# Filter original df for only conflicting reviews\n",
    "conflict_df = df[df['reviewText'].isin(conflicting_reviews)]\n",
    "\n",
    "# Group by reviewText to see all associated ratings\n",
    "conflict_summary = conflict_df.groupby('reviewText')['Rating'].unique().reset_index()\n",
    "\n",
    "# Optional: Show a few rows\n",
    "conflict_summary.head(10)\n"
   ]
  },
  {
   "cell_type": "code",
   "execution_count": 20,
   "id": "959221fb-0921-42ae-b11e-7f0d3b42f54e",
   "metadata": {},
   "outputs": [],
   "source": [
    "# Step 3: Remove those reviews from the main DataFrame\n",
    "df_cleaned = df_no_mv[~df_no_mv['reviewText'].isin(conflicting_reviews)]"
   ]
  },
  {
   "cell_type": "code",
   "execution_count": 21,
   "id": "8457775b-c574-4386-bcae-aa95a4715b83",
   "metadata": {},
   "outputs": [
    {
     "name": "stdout",
     "output_type": "stream",
     "text": [
      "Original dataset size: 190814\n",
      "Cleaned dataset size: 190708\n"
     ]
    }
   ],
   "source": [
    "# Result: no same review text with different ratings\n",
    "print(f\"Original dataset size: {len(df_no_mv)}\")\n",
    "print(f\"Cleaned dataset size: {len(df_cleaned)}\")"
   ]
  },
  {
   "cell_type": "code",
   "execution_count": 22,
   "id": "6bfa6620-bea1-4db0-abd7-fc43b61ac042",
   "metadata": {},
   "outputs": [
    {
     "name": "stdout",
     "output_type": "stream",
     "text": [
      "Max unique ratings per reviewText: 1\n"
     ]
    }
   ],
   "source": [
    "# Confirm no conflicts remain\n",
    "check = df_cleaned.groupby('reviewText')['Rating'].nunique()\n",
    "print(\"Max unique ratings per reviewText:\", check.max())  # Should be 1\n"
   ]
  },
  {
   "cell_type": "code",
   "execution_count": 23,
   "id": "b26d6ead-e81c-4a0e-b1a2-d01caecb7dec",
   "metadata": {},
   "outputs": [
    {
     "data": {
      "text/plain": [
       "Rating\n",
       "5    106451\n",
       "4     39249\n",
       "3     21060\n",
       "1     13066\n",
       "2     10882\n",
       "Name: count, dtype: int64"
      ]
     },
     "execution_count": 23,
     "metadata": {},
     "output_type": "execute_result"
    }
   ],
   "source": [
    "df_cleaned['Rating'].value_counts()"
   ]
  },
  {
   "cell_type": "code",
   "execution_count": 24,
   "id": "61b8afcb-aff1-4d7f-9590-a840a1296c1e",
   "metadata": {},
   "outputs": [
    {
     "data": {
      "image/png": "[encoded data removed]",
      "text/plain": [
       "<Figure size 800x500 with 1 Axes>"
      ]
     },
     "metadata": {},
     "output_type": "display_data"
    }
   ],
   "source": [
    "plt.figure(figsize=(8, 5))\n",
    "sns.countplot(x='Rating', data=df_cleaned)\n",
    "plt.title(\"Rating Distribution (Before Balancing)\")\n",
    "plt.xlabel(\"Rating\")\n",
    "plt.ylabel(\"Number of Reviews\")\n",
    "plt.show()"
   ]
  },
  {
   "cell_type": "code",
   "execution_count": 25,
   "id": "b4a52fac-4771-4cff-9067-e64f06e2a5b8",
   "metadata": {},
   "outputs": [
    {
     "name": "stderr",
     "output_type": "stream",
     "text": [
      "C:\\Users\\TOSHIBA\\AppData\\Local\\Temp\\ipykernel_2892\\3298028223.py:1: SettingWithCopyWarning: \n",
      "A value is trying to be set on a copy of a slice from a DataFrame.\n",
      "Try using .loc[row_indexer,col_indexer] = value instead\n",
      "\n",
      "See the caveats in the documentation: https://pandas.pydata.org/pandas-docs/stable/user_guide/indexing.html#returning-a-view-versus-a-copy\n",
      "  df_cleaned['review_length'] = df_cleaned['reviewText'].str.split().str.len()\n"
     ]
    },
    {
     "data": {
      "image/png": "[encoded data removed]",
      "text/plain": [
       "<Figure size 1000x500 with 1 Axes>"
      ]
     },
     "metadata": {},
     "output_type": "display_data"
    }
   ],
   "source": [
    "df_cleaned['review_length'] = df_cleaned['reviewText'].str.split().str.len()\n",
    "\n",
    "plt.figure(figsize=(10, 5))\n",
    "sns.histplot(data=df_cleaned, x='review_length', bins=50, kde=True)\n",
    "plt.title(\"Review Length Distribution\")\n",
    "plt.xlabel(\"Number of Words\")\n",
    "plt.ylabel(\"Number of Reviews\")\n",
    "plt.show()\n"
   ]
  },
  {
   "cell_type": "code",
   "execution_count": 26,
   "id": "fb0ca5b8-c871-483b-ad05-bbb9e2d02013",
   "metadata": {},
   "outputs": [],
   "source": [
    "df_filtered = df_cleaned[\n",
    "    (df_cleaned['review_length'] > 10) & \n",
    "    (df_cleaned['review_length'] <= 1000)\n",
    "]"
   ]
  },
  {
   "cell_type": "code",
   "execution_count": 27,
   "id": "5c265c49-f87f-41aa-b0b9-d860eec47642",
   "metadata": {},
   "outputs": [
    {
     "name": "stdout",
     "output_type": "stream",
     "text": [
      "        Rating                                         reviewText  \\\n",
      "194434       5  Works great just like my original one. I reall...   \n",
      "194435       5  Great product. Great packaging. High quality a...   \n",
      "194436       5  This is a great cable, just as good as the mor...   \n",
      "194437       5  I really like it becasue it works well with my...   \n",
      "194438       5  product as described, I have wasted a lot of m...   \n",
      "\n",
      "                                             cleaned_text  \n",
      "194434  works great just like my original one i really...  \n",
      "194435  great product great packaging high quality and...  \n",
      "194436  this is a great cable just as good as the more...  \n",
      "194437  i really like it becasue it works well with my...  \n",
      "194438  product as described i have wasted a lot of mo...  \n"
     ]
    },
    {
     "name": "stderr",
     "output_type": "stream",
     "text": [
      "C:\\Users\\TOSHIBA\\AppData\\Local\\Temp\\ipykernel_2892\\699375019.py:8: SettingWithCopyWarning: \n",
      "A value is trying to be set on a copy of a slice from a DataFrame.\n",
      "Try using .loc[row_indexer,col_indexer] = value instead\n",
      "\n",
      "See the caveats in the documentation: https://pandas.pydata.org/pandas-docs/stable/user_guide/indexing.html#returning-a-view-versus-a-copy\n",
      "  df_cleaned['cleaned_text'] = df_filtered['reviewText'].apply(clean_text)\n"
     ]
    }
   ],
   "source": [
    "#  Clean the review text\n",
    "def clean_text(text):\n",
    "    text = str(text).lower()                      # Lowercase\n",
    "    text = re.sub(r'[' + string.punctuation + ']', '', text)  # Remove punctuation\n",
    "    text = re.sub(r'\\s+', ' ', text).strip()      # Remove extra spaces and newlines\n",
    "    return text\n",
    "\n",
    "df_cleaned['cleaned_text'] = df_filtered['reviewText'].apply(clean_text)\n",
    "# Preview cleaned dataset\n",
    "print(df_cleaned[['Rating', 'reviewText', 'cleaned_text']].tail())"
   ]
  },
  {
   "cell_type": "code",
   "execution_count": 28,
   "id": "e4f866fd-8f9f-46d1-9ad4-51b384e9e6ca",
   "metadata": {},
   "outputs": [
    {
     "name": "stdout",
     "output_type": "stream",
     "text": [
      "Before filtering: 190708\n",
      "After filtering: 188410\n"
     ]
    }
   ],
   "source": [
    "print(\"Before filtering:\", len(df_cleaned))\n",
    "print(\"After filtering:\", len(df_filtered))\n"
   ]
  },
  {
   "cell_type": "code",
   "execution_count": 29,
   "id": "1cdc5f1b-b97f-4aba-bf6d-04628506906d",
   "metadata": {},
   "outputs": [
    {
     "name": "stderr",
     "output_type": "stream",
     "text": [
      "C:\\Users\\TOSHIBA\\AppData\\Local\\Temp\\ipykernel_2892\\49822069.py:1: SettingWithCopyWarning: \n",
      "A value is trying to be set on a copy of a slice from a DataFrame.\n",
      "Try using .loc[row_indexer,col_indexer] = value instead\n",
      "\n",
      "See the caveats in the documentation: https://pandas.pydata.org/pandas-docs/stable/user_guide/indexing.html#returning-a-view-versus-a-copy\n",
      "  df_cleaned['review_length'] = df_filtered['reviewText'].str.split().str.len()\n"
     ]
    },
    {
     "data": {
      "image/png": "[encoded data removed]",
      "text/plain": [
       "<Figure size 1000x500 with 1 Axes>"
      ]
     },
     "metadata": {},
     "output_type": "display_data"
    }
   ],
   "source": [
    "df_cleaned['review_length'] = df_filtered['reviewText'].str.split().str.len()\n",
    "\n",
    "plt.figure(figsize=(10, 5))\n",
    "sns.histplot(data=df_cleaned, x='review_length', bins=50, kde=True)\n",
    "plt.title(\"Review Length Distribution\")\n",
    "plt.xlabel(\"Number of Words\")\n",
    "plt.ylabel(\"Number of Reviews\")\n",
    "plt.show()\n"
   ]
  },
  {
   "cell_type": "code",
   "execution_count": 30,
   "id": "ac8ffc88-6644-4012-86c2-df8b882dbb09",
   "metadata": {},
   "outputs": [
    {
     "data": {
      "text/plain": [
       "Rating\n",
       "5    105022\n",
       "4     38836\n",
       "3     20846\n",
       "1     12917\n",
       "2     10789\n",
       "Name: count, dtype: int64"
      ]
     },
     "execution_count": 30,
     "metadata": {},
     "output_type": "execute_result"
    }
   ],
   "source": [
    "df_filtered['Rating'].value_counts()"
   ]
  },
  {
   "cell_type": "code",
   "execution_count": 31,
   "id": "9a7e6c37-7891-497a-b118-9ce88c6be1bb",
   "metadata": {},
   "outputs": [
    {
     "data": {
      "text/html": [
       "<div>\n",
       "<style scoped>\n",
       "    .dataframe tbody tr th:only-of-type {\n",
       "        vertical-align: middle;\n",
       "    }\n",
       "\n",
       "    .dataframe tbody tr th {\n",
       "        vertical-align: top;\n",
       "    }\n",
       "\n",
       "    .dataframe thead th {\n",
       "        text-align: right;\n",
       "    }\n",
       "</style>\n",
       "<table border=\"1\" class=\"dataframe\">\n",
       "  <thead>\n",
       "    <tr style=\"text-align: right;\">\n",
       "      <th></th>\n",
       "      <th>reviewerID</th>\n",
       "      <th>asin</th>\n",
       "      <th>reviewerName</th>\n",
       "      <th>helpful</th>\n",
       "      <th>reviewText</th>\n",
       "      <th>Rating</th>\n",
       "      <th>summary</th>\n",
       "      <th>reviewTime</th>\n",
       "      <th>review_length</th>\n",
       "    </tr>\n",
       "  </thead>\n",
       "  <tbody>\n",
       "    <tr>\n",
       "      <th>0</th>\n",
       "      <td>A30TL5EWN6DFXT</td>\n",
       "      <td>120401325X</td>\n",
       "      <td>christina</td>\n",
       "      <td>[0, 0]</td>\n",
       "      <td>They look good and stick good! I just don't li...</td>\n",
       "      <td>4</td>\n",
       "      <td>Looks Good</td>\n",
       "      <td>05 21, 2014</td>\n",
       "      <td>37</td>\n",
       "    </tr>\n",
       "    <tr>\n",
       "      <th>1</th>\n",
       "      <td>ASY55RVNIL0UD</td>\n",
       "      <td>120401325X</td>\n",
       "      <td>emily l.</td>\n",
       "      <td>[0, 0]</td>\n",
       "      <td>These stickers work like the review says they ...</td>\n",
       "      <td>5</td>\n",
       "      <td>Really great product.</td>\n",
       "      <td>01 14, 2014</td>\n",
       "      <td>32</td>\n",
       "    </tr>\n",
       "    <tr>\n",
       "      <th>2</th>\n",
       "      <td>A2TMXE2AFO7ONB</td>\n",
       "      <td>120401325X</td>\n",
       "      <td>Erica</td>\n",
       "      <td>[0, 0]</td>\n",
       "      <td>These are awesome and make my phone look so st...</td>\n",
       "      <td>5</td>\n",
       "      <td>LOVE LOVE LOVE</td>\n",
       "      <td>06 26, 2014</td>\n",
       "      <td>34</td>\n",
       "    </tr>\n",
       "    <tr>\n",
       "      <th>3</th>\n",
       "      <td>AWJ0WZQYMYFQ4</td>\n",
       "      <td>120401325X</td>\n",
       "      <td>JM</td>\n",
       "      <td>[4, 4]</td>\n",
       "      <td>Item arrived in great time and was in perfect ...</td>\n",
       "      <td>4</td>\n",
       "      <td>Cute!</td>\n",
       "      <td>10 21, 2013</td>\n",
       "      <td>51</td>\n",
       "    </tr>\n",
       "    <tr>\n",
       "      <th>4</th>\n",
       "      <td>ATX7CZYFXI1KW</td>\n",
       "      <td>120401325X</td>\n",
       "      <td>patrice m rogoza</td>\n",
       "      <td>[2, 3]</td>\n",
       "      <td>awesome! stays on, and looks great. can be use...</td>\n",
       "      <td>5</td>\n",
       "      <td>leopard home button sticker for iphone 4s</td>\n",
       "      <td>02 3, 2013</td>\n",
       "      <td>23</td>\n",
       "    </tr>\n",
       "    <tr>\n",
       "      <th>...</th>\n",
       "      <td>...</td>\n",
       "      <td>...</td>\n",
       "      <td>...</td>\n",
       "      <td>...</td>\n",
       "      <td>...</td>\n",
       "      <td>...</td>\n",
       "      <td>...</td>\n",
       "      <td>...</td>\n",
       "      <td>...</td>\n",
       "    </tr>\n",
       "    <tr>\n",
       "      <th>194434</th>\n",
       "      <td>A1YMNTFLNDYQ1F</td>\n",
       "      <td>B00LORXVUE</td>\n",
       "      <td>eyeused2loveher</td>\n",
       "      <td>[0, 0]</td>\n",
       "      <td>Works great just like my original one. I reall...</td>\n",
       "      <td>5</td>\n",
       "      <td>This works just perfect!</td>\n",
       "      <td>07 21, 2014</td>\n",
       "      <td>24</td>\n",
       "    </tr>\n",
       "    <tr>\n",
       "      <th>194435</th>\n",
       "      <td>A15TX8B2L8B20S</td>\n",
       "      <td>B00LORXVUE</td>\n",
       "      <td>Jon Davidson</td>\n",
       "      <td>[0, 0]</td>\n",
       "      <td>Great product. Great packaging. High quality a...</td>\n",
       "      <td>5</td>\n",
       "      <td>Great replacement cable. Apple certified</td>\n",
       "      <td>07 21, 2014</td>\n",
       "      <td>29</td>\n",
       "    </tr>\n",
       "    <tr>\n",
       "      <th>194436</th>\n",
       "      <td>A3JI7QRZO1QG8X</td>\n",
       "      <td>B00LORXVUE</td>\n",
       "      <td>Joyce M. Davidson</td>\n",
       "      <td>[0, 0]</td>\n",
       "      <td>This is a great cable, just as good as the mor...</td>\n",
       "      <td>5</td>\n",
       "      <td>Real quality</td>\n",
       "      <td>07 21, 2014</td>\n",
       "      <td>137</td>\n",
       "    </tr>\n",
       "    <tr>\n",
       "      <th>194437</th>\n",
       "      <td>A1NHB2VC68YQNM</td>\n",
       "      <td>B00LORXVUE</td>\n",
       "      <td>Nurse Farrugia</td>\n",
       "      <td>[0, 0]</td>\n",
       "      <td>I really like it becasue it works well with my...</td>\n",
       "      <td>5</td>\n",
       "      <td>I really like it becasue it works well with my...</td>\n",
       "      <td>07 20, 2014</td>\n",
       "      <td>25</td>\n",
       "    </tr>\n",
       "    <tr>\n",
       "      <th>194438</th>\n",
       "      <td>A1AG6U022WHXBF</td>\n",
       "      <td>B00LORXVUE</td>\n",
       "      <td>Trisha Crocker</td>\n",
       "      <td>[0, 0]</td>\n",
       "      <td>product as described, I have wasted a lot of m...</td>\n",
       "      <td>5</td>\n",
       "      <td>I have wasted a lot of money on cords</td>\n",
       "      <td>07 21, 2014</td>\n",
       "      <td>59</td>\n",
       "    </tr>\n",
       "  </tbody>\n",
       "</table>\n",
       "<p>188410 rows × 9 columns</p>\n",
       "</div>"
      ],
      "text/plain": [
       "            reviewerID        asin       reviewerName helpful  \\\n",
       "0       A30TL5EWN6DFXT  120401325X          christina  [0, 0]   \n",
       "1        ASY55RVNIL0UD  120401325X           emily l.  [0, 0]   \n",
       "2       A2TMXE2AFO7ONB  120401325X              Erica  [0, 0]   \n",
       "3        AWJ0WZQYMYFQ4  120401325X                 JM  [4, 4]   \n",
       "4        ATX7CZYFXI1KW  120401325X   patrice m rogoza  [2, 3]   \n",
       "...                ...         ...                ...     ...   \n",
       "194434  A1YMNTFLNDYQ1F  B00LORXVUE    eyeused2loveher  [0, 0]   \n",
       "194435  A15TX8B2L8B20S  B00LORXVUE       Jon Davidson  [0, 0]   \n",
       "194436  A3JI7QRZO1QG8X  B00LORXVUE  Joyce M. Davidson  [0, 0]   \n",
       "194437  A1NHB2VC68YQNM  B00LORXVUE     Nurse Farrugia  [0, 0]   \n",
       "194438  A1AG6U022WHXBF  B00LORXVUE     Trisha Crocker  [0, 0]   \n",
       "\n",
       "                                               reviewText  Rating  \\\n",
       "0       They look good and stick good! I just don't li...       4   \n",
       "1       These stickers work like the review says they ...       5   \n",
       "2       These are awesome and make my phone look so st...       5   \n",
       "3       Item arrived in great time and was in perfect ...       4   \n",
       "4       awesome! stays on, and looks great. can be use...       5   \n",
       "...                                                   ...     ...   \n",
       "194434  Works great just like my original one. I reall...       5   \n",
       "194435  Great product. Great packaging. High quality a...       5   \n",
       "194436  This is a great cable, just as good as the mor...       5   \n",
       "194437  I really like it becasue it works well with my...       5   \n",
       "194438  product as described, I have wasted a lot of m...       5   \n",
       "\n",
       "                                                  summary   reviewTime  \\\n",
       "0                                              Looks Good  05 21, 2014   \n",
       "1                                   Really great product.  01 14, 2014   \n",
       "2                                          LOVE LOVE LOVE  06 26, 2014   \n",
       "3                                                   Cute!  10 21, 2013   \n",
       "4               leopard home button sticker for iphone 4s   02 3, 2013   \n",
       "...                                                   ...          ...   \n",
       "194434                           This works just perfect!  07 21, 2014   \n",
       "194435           Great replacement cable. Apple certified  07 21, 2014   \n",
       "194436                                       Real quality  07 21, 2014   \n",
       "194437  I really like it becasue it works well with my...  07 20, 2014   \n",
       "194438              I have wasted a lot of money on cords  07 21, 2014   \n",
       "\n",
       "        review_length  \n",
       "0                  37  \n",
       "1                  32  \n",
       "2                  34  \n",
       "3                  51  \n",
       "4                  23  \n",
       "...               ...  \n",
       "194434             24  \n",
       "194435             29  \n",
       "194436            137  \n",
       "194437             25  \n",
       "194438             59  \n",
       "\n",
       "[188410 rows x 9 columns]"
      ]
     },
     "execution_count": 31,
     "metadata": {},
     "output_type": "execute_result"
    }
   ],
   "source": [
    "df_filtered"
   ]
  },
  {
   "cell_type": "code",
   "execution_count": 32,
   "id": "3a88bae6-f5a0-4a97-becb-cc6b82017c12",
   "metadata": {},
   "outputs": [
    {
     "name": "stdout",
     "output_type": "stream",
     "text": [
      "Rating\n",
      "4    3000\n",
      "3    3000\n",
      "5    3000\n",
      "1    3000\n",
      "2    3000\n",
      "Name: count, dtype: int64\n"
     ]
    },
    {
     "name": "stderr",
     "output_type": "stream",
     "text": [
      "C:\\Users\\TOSHIBA\\AppData\\Local\\Temp\\ipykernel_2892\\73670949.py:2: DeprecationWarning: DataFrameGroupBy.apply operated on the grouping columns. This behavior is deprecated, and in a future version of pandas the grouping columns will be excluded from the operation. Either pass `include_groups=False` to exclude the groupings or explicitly select the grouping columns after groupby to silence this warning.\n",
      "  .apply(lambda x: x.sample(3000, random_state=42))\n"
     ]
    }
   ],
   "source": [
    "df_balanced = (df_filtered.groupby('Rating', group_keys=False)\n",
    "               .apply(lambda x: x.sample(3000, random_state=42))\n",
    "               .sample(frac=1, random_state=42)\n",
    "               .reset_index(drop=True)\n",
    ")\n",
    "\n",
    "# Check balanced result\n",
    "print(df_balanced['Rating'].value_counts())"
   ]
  },
  {
   "cell_type": "code",
   "execution_count": 33,
   "id": "5a544d25-7616-4d19-a792-cda5bf467732",
   "metadata": {},
   "outputs": [
    {
     "data": {
      "image/png": "[encoded data removed]",
      "text/plain": [
       "<Figure size 640x480 with 1 Axes>"
      ]
     },
     "metadata": {},
     "output_type": "display_data"
    }
   ],
   "source": [
    "sns.countplot(x='Rating', data=df_balanced)\n",
    "plt.title(\"Rating Distribution After Balancing\")\n",
    "plt.xlabel(\"Rating\")\n",
    "plt.ylabel(\"Number of Reviews\")\n",
    "plt.show()"
   ]
  },
  {
   "cell_type": "code",
   "execution_count": 34,
   "id": "36209fa6-7a6f-4637-b50e-ed03c61b5f40",
   "metadata": {},
   "outputs": [],
   "source": [
    "df_balanced.to_csv('balanced_reviews2.csv', index=False)"
   ]
  },
  {
   "cell_type": "code",
   "execution_count": 35,
   "id": "9feb5f98-4252-436d-b7bb-2319e708d444",
   "metadata": {},
   "outputs": [],
   "source": [
    "used_balanced = df_balanced.index\n",
    "df_remaining = df_filtered.drop(index=used_balanced, errors='ignore')"
   ]
  },
  {
   "cell_type": "code",
   "execution_count": 36,
   "id": "27351967-b83f-4531-9e39-5ebd347ff572",
   "metadata": {},
   "outputs": [
    {
     "name": "stdout",
     "output_type": "stream",
     "text": [
      "Total cleaned dataset: 188410\n",
      "Balanced dataset: 15000\n",
      "Remaining dataset after exclusion: 173728\n"
     ]
    }
   ],
   "source": [
    "print(\"Total cleaned dataset:\", len(df_filtered))\n",
    "print(\"Balanced dataset:\", len(df_balanced))\n",
    "print(\"Remaining dataset after exclusion:\", len(df_filtered.drop(index=df_balanced.index, errors='ignore')))\n"
   ]
  },
  {
   "cell_type": "code",
   "execution_count": 37,
   "id": "77f6b667-380b-4c97-bfc9-0da643d67543",
   "metadata": {},
   "outputs": [],
   "source": [
    "# Get the remaining data\n",
    "df_remaining = df_filtered.drop(index=df_balanced.index, errors='ignore')"
   ]
  },
  {
   "cell_type": "code",
   "execution_count": 83,
   "id": "5c345603-d81d-47c8-99e2-b86bac81b01a",
   "metadata": {},
   "outputs": [
    {
     "data": {
      "text/plain": [
       "Rating\n",
       "5    97477\n",
       "4    35828\n",
       "3    19185\n",
       "1    11497\n",
       "2     9741\n",
       "Name: count, dtype: int64"
      ]
     },
     "execution_count": 83,
     "metadata": {},
     "output_type": "execute_result"
    }
   ],
   "source": [
    "df_remaining['Rating'].value_counts()"
   ]
  },
  {
   "cell_type": "code",
   "execution_count": 81,
   "id": "bb500a38-a3ab-43ca-bd97-a40e64cf2956",
   "metadata": {},
   "outputs": [
    {
     "name": "stdout",
     "output_type": "stream",
     "text": [
      "Rating\n",
      "4    19482\n",
      "3    16235\n",
      "5    12988\n",
      "2     9741\n",
      "1     6494\n",
      "Name: count, dtype: int64\n"
     ]
    }
   ],
   "source": [
    "scaled_counts = {\n",
    "    1: 6494,\n",
    "    2: 9741,\n",
    "    3: 16235,\n",
    "    4: 19482,\n",
    "    5: 12988\n",
    "}\n",
    "\n",
    "df_imbalanced_scaled = pd.concat([\n",
    "    df_remaining[df_remaining['Rating'] == rating].sample(n=count, random_state=42)\n",
    "    for rating, count in scaled_counts.items()\n",
    "]).sample(frac=1, random_state=42).reset_index(drop=True)\n",
    "\n",
    "\n",
    "print(df_imbalanced_scaled['Rating'].value_counts())\n",
    "\n"
   ]
  },
  {
   "cell_type": "code",
   "execution_count": 89,
   "id": "9aa9a348-6378-41d0-902b-eda728dc666d",
   "metadata": {},
   "outputs": [
    {
     "data": {
      "text/plain": [
       "(64940, 9)"
      ]
     },
     "execution_count": 89,
     "metadata": {},
     "output_type": "execute_result"
    }
   ],
   "source": [
    "df_imbalanced_scaled.shape"
   ]
  },
  {
   "cell_type": "code",
   "execution_count": 85,
   "id": "a25a2e49-d4b8-4429-b945-e5010a29a0c6",
   "metadata": {},
   "outputs": [
    {
     "data": {
      "image/png": "[encoded data removed]",
      "text/plain": [
       "<Figure size 640x480 with 1 Axes>"
      ]
     },
     "metadata": {},
     "output_type": "display_data"
    }
   ],
   "source": [
    "sns.countplot(x='Rating', data=df_imbalanced_scaled)\n",
    "plt.title(\"Rating Distribution After Balancing\")\n",
    "plt.xlabel(\"Rating\")\n",
    "plt.ylabel(\"Number of Reviews\")\n",
    "plt.show()"
   ]
  },
  {
   "cell_type": "code",
   "execution_count": 87,
   "id": "99f6a2bf-d6e1-420f-b98c-974aed0c2857",
   "metadata": {},
   "outputs": [],
   "source": [
    "df_imbalanced_scaled.to_csv('imbalanced_reviews2.csv', index=False)"
   ]
  },
  {
   "cell_type": "code",
   "execution_count": null,
   "id": "515d1c9c-8b58-4b64-81ee-3eb21e5a4a91",
   "metadata": {},
   "outputs": [],
   "source": []
  }
 ],
 "metadata": {
  "kernelspec": {
   "display_name": "Python [conda env:base] *",
   "language": "python",
   "name": "conda-base-py"
  },
  "language_info": {
   "codemirror_mode": {
    "name": "ipython",
    "version": 3
   },
   "file_extension": ".py",
   "mimetype": "text/x-python",
   "name": "python",
   "nbconvert_exporter": "python",
   "pygments_lexer": "ipython3",
   "version": "3.12.7"
  }
 },
 "nbformat": 4,
 "nbformat_minor": 5
}
